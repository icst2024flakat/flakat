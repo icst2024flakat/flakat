{
 "cells": [
  {
   "cell_type": "code",
   "execution_count": 15,
   "metadata": {},
   "outputs": [],
   "source": [
    "#%matplotlib notebook\n",
    "\n",
    "import numpy as np\n",
    "import pandas as pd\n",
    "import os\n",
    "from numpy import mean\n",
    "\n",
    "\n",
    "import matplotlib.pyplot as plt\n",
    "from mpl_toolkits.mplot3d import axes3d    \n",
    "\n",
    "from sklearn.decomposition import PCA\n",
    "from sklearn.manifold import TSNE\n",
    "from sklearn.discriminant_analysis import LinearDiscriminantAnalysis\n",
    "from sklearn.manifold import Isomap\n",
    "import umap\n",
    "\n",
    "from sklearn.model_selection import train_test_split\n",
    "from sklearn.model_selection import KFold\n",
    "from sklearn.model_selection import GridSearchCV\n",
    "from sklearn.model_selection import cross_val_score\n",
    "\n",
    "from sklearn import svm\n",
    "from sklearn.neighbors import KNeighborsClassifier\n",
    "from sklearn.ensemble import RandomForestClassifier\n",
    "from sklearn.ensemble import GradientBoostingClassifier\n",
    "from sklearn.ensemble import IsolationForest\n",
    "\n",
    "from sklearn.feature_extraction.text import TfidfVectorizer\n",
    "\n",
    "from sklearn.metrics import accuracy_score\n",
    "from sklearn.metrics import precision_score\n",
    "from sklearn.metrics import recall_score\n",
    "from sklearn.metrics import f1_score\n",
    "from sklearn.metrics import cohen_kappa_score\n",
    "from sklearn.metrics import roc_auc_score\n",
    "from sklearn.metrics import confusion_matrix\n",
    "\n",
    "\n",
    "from skopt.space import Integer\n",
    "from skopt.utils import use_named_args\n",
    "from skopt import gp_minimize\n"
   ]
  },
  {
   "cell_type": "code",
   "execution_count": 3,
   "metadata": {},
   "outputs": [],
   "source": [
    "dataCSV = pd.read_csv('extracted-all-projects.csv')\n",
    "\n",
    "raw = dataCSV['raw']"
   ]
  },
  {
   "cell_type": "code",
   "execution_count": 6,
   "metadata": {},
   "outputs": [],
   "source": [
    "# raw.to_csv('raw.csv')"
   ]
  },
  {
   "cell_type": "code",
   "execution_count": 4,
   "metadata": {},
   "outputs": [],
   "source": [
    "features = ['feature_0','feature_1','feature_2','feature_3','feature_4','feature_5','feature_6','feature_7','feature_8','feature_9','feature_10','feature_11','feature_12','feature_13','feature_14','feature_15','feature_16','feature_17','feature_18','feature_19','feature_20','feature_21','feature_22','feature_23','feature_24','feature_25','feature_26','feature_27','feature_28','feature_29','feature_30','feature_31','feature_32','feature_33','feature_34','feature_35','feature_36','feature_37','feature_38','feature_39','feature_40','feature_41','feature_42','feature_43','feature_44','feature_45','feature_46','feature_47','feature_48','feature_49','feature_50','feature_51','feature_52','feature_53','feature_54','feature_55','feature_56','feature_57','feature_58','feature_59','feature_60','feature_61','feature_62','feature_63','feature_64','feature_65','feature_66','feature_67','feature_68','feature_69','feature_70','feature_71','feature_72','feature_73','feature_74','feature_75','feature_76','feature_77','feature_78','feature_79','feature_80','feature_81','feature_82','feature_83','feature_84','feature_85','feature_86','feature_87','feature_88','feature_89','feature_90','feature_91','feature_92','feature_93','feature_94','feature_95','feature_96','feature_97','feature_98','feature_99','feature_100','feature_101','feature_102','feature_103','feature_104','feature_105','feature_106','feature_107','feature_108','feature_109','feature_110','feature_111','feature_112','feature_113','feature_114','feature_115','feature_116','feature_117','feature_118','feature_119','feature_120','feature_121','feature_122','feature_123','feature_124','feature_125','feature_126','feature_127','feature_128','feature_129','feature_130','feature_131','feature_132','feature_133','feature_134','feature_135','feature_136','feature_137','feature_138','feature_139','feature_140','feature_141','feature_142','feature_143','feature_144','feature_145','feature_146','feature_147','feature_148','feature_149','feature_150','feature_151','feature_152','feature_153','feature_154','feature_155','feature_156','feature_157','feature_158','feature_159','feature_160','feature_161','feature_162','feature_163','feature_164','feature_165','feature_166','feature_167','feature_168','feature_169','feature_170','feature_171','feature_172','feature_173','feature_174','feature_175','feature_176','feature_177','feature_178','feature_179','feature_180','feature_181','feature_182','feature_183','feature_184','feature_185','feature_186','feature_187','feature_188','feature_189','feature_190','feature_191','feature_192','feature_193','feature_194','feature_195','feature_196','feature_197','feature_198','feature_199','feature_200','feature_201','feature_202','feature_203','feature_204','feature_205','feature_206','feature_207','feature_208','feature_209','feature_210','feature_211','feature_212','feature_213','feature_214','feature_215','feature_216','feature_217','feature_218','feature_219','feature_220','feature_221','feature_222','feature_223','feature_224','feature_225','feature_226','feature_227','feature_228','feature_229','feature_230','feature_231','feature_232','feature_233','feature_234','feature_235','feature_236','feature_237','feature_238','feature_239','feature_240','feature_241','feature_242','feature_243','feature_244','feature_245','feature_246','feature_247','feature_248','feature_249','feature_250','feature_251','feature_252','feature_253','feature_254','feature_255','feature_256','feature_257','feature_258','feature_259','feature_260','feature_261','feature_262','feature_263','feature_264','feature_265','feature_266','feature_267','feature_268','feature_269','feature_270','feature_271','feature_272','feature_273','feature_274','feature_275','feature_276','feature_277','feature_278','feature_279','feature_280','feature_281','feature_282','feature_283','feature_284','feature_285','feature_286','feature_287','feature_288','feature_289','feature_290','feature_291','feature_292','feature_293','feature_294','feature_295','feature_296','feature_297','feature_298','feature_299','feature_300','feature_301','feature_302','feature_303','feature_304','feature_305','feature_306','feature_307','feature_308','feature_309','feature_310','feature_311','feature_312','feature_313','feature_314','feature_315','feature_316','feature_317','feature_318','feature_319','feature_320','feature_321','feature_322','feature_323','feature_324','feature_325','feature_326','feature_327','feature_328','feature_329','feature_330','feature_331','feature_332','feature_333','feature_334','feature_335','feature_336','feature_337','feature_338','feature_339','feature_340','feature_341','feature_342','feature_343','feature_344','feature_345','feature_346','feature_347','feature_348','feature_349','feature_350','feature_351','feature_352','feature_353','feature_354','feature_355','feature_356','feature_357','feature_358','feature_359','feature_360','feature_361','feature_362','feature_363','feature_364','feature_365','feature_366','feature_367','feature_368','feature_369','feature_370','feature_371','feature_372','feature_373','feature_374','feature_375','feature_376','feature_377','feature_378','feature_379','feature_380','feature_381','feature_382','feature_383']"
   ]
  },
  {
   "cell_type": "code",
   "execution_count": 49,
   "metadata": {},
   "outputs": [],
   "source": [
    "a = \"\"\n",
    "for i in range(384):\n",
    "    a = a + \",'feature_\"+str(i)+\"'\"\n"
   ]
  },
  {
   "cell_type": "code",
   "execution_count": 6,
   "metadata": {},
   "outputs": [],
   "source": [
    "vectorCSV = pd.read_csv('vector.csv')\n"
   ]
  },
  {
   "cell_type": "code",
   "execution_count": 7,
   "metadata": {},
   "outputs": [
    {
     "name": "stderr",
     "output_type": "stream",
     "text": [
      "/var/folders/s8/vyj613fs57b4g86vrn1xc5t80000gn/T/ipykernel_20917/4267885417.py:4: SettingWithCopyWarning: \n",
      "A value is trying to be set on a copy of a slice from a DataFrame.\n",
      "Try using .loc[row_indexer,col_indexer] = value instead\n",
      "\n",
      "See the caveats in the documentation: https://pandas.pydata.org/pandas-docs/stable/user_guide/indexing.html#returning-a-view-versus-a-copy\n",
      "  switchedCSV['category'] = dataCSV['category']\n"
     ]
    }
   ],
   "source": [
    "dataCSV['id']=range(1, len(dataCSV) + 1)\n",
    "vectorCSV['id']=range(1, len(vectorCSV) + 1)\n",
    "switchedCSV = vectorCSV[['id','name','feature_0','feature_1','feature_2','feature_3','feature_4','feature_5','feature_6','feature_7','feature_8','feature_9','feature_10','feature_11','feature_12','feature_13','feature_14','feature_15','feature_16','feature_17','feature_18','feature_19','feature_20','feature_21','feature_22','feature_23','feature_24','feature_25','feature_26','feature_27','feature_28','feature_29','feature_30','feature_31','feature_32','feature_33','feature_34','feature_35','feature_36','feature_37','feature_38','feature_39','feature_40','feature_41','feature_42','feature_43','feature_44','feature_45','feature_46','feature_47','feature_48','feature_49','feature_50','feature_51','feature_52','feature_53','feature_54','feature_55','feature_56','feature_57','feature_58','feature_59','feature_60','feature_61','feature_62','feature_63','feature_64','feature_65','feature_66','feature_67','feature_68','feature_69','feature_70','feature_71','feature_72','feature_73','feature_74','feature_75','feature_76','feature_77','feature_78','feature_79','feature_80','feature_81','feature_82','feature_83','feature_84','feature_85','feature_86','feature_87','feature_88','feature_89','feature_90','feature_91','feature_92','feature_93','feature_94','feature_95','feature_96','feature_97','feature_98','feature_99','feature_100','feature_101','feature_102','feature_103','feature_104','feature_105','feature_106','feature_107','feature_108','feature_109','feature_110','feature_111','feature_112','feature_113','feature_114','feature_115','feature_116','feature_117','feature_118','feature_119','feature_120','feature_121','feature_122','feature_123','feature_124','feature_125','feature_126','feature_127','feature_128','feature_129','feature_130','feature_131','feature_132','feature_133','feature_134','feature_135','feature_136','feature_137','feature_138','feature_139','feature_140','feature_141','feature_142','feature_143','feature_144','feature_145','feature_146','feature_147','feature_148','feature_149','feature_150','feature_151','feature_152','feature_153','feature_154','feature_155','feature_156','feature_157','feature_158','feature_159','feature_160','feature_161','feature_162','feature_163','feature_164','feature_165','feature_166','feature_167','feature_168','feature_169','feature_170','feature_171','feature_172','feature_173','feature_174','feature_175','feature_176','feature_177','feature_178','feature_179','feature_180','feature_181','feature_182','feature_183','feature_184','feature_185','feature_186','feature_187','feature_188','feature_189','feature_190','feature_191','feature_192','feature_193','feature_194','feature_195','feature_196','feature_197','feature_198','feature_199','feature_200','feature_201','feature_202','feature_203','feature_204','feature_205','feature_206','feature_207','feature_208','feature_209','feature_210','feature_211','feature_212','feature_213','feature_214','feature_215','feature_216','feature_217','feature_218','feature_219','feature_220','feature_221','feature_222','feature_223','feature_224','feature_225','feature_226','feature_227','feature_228','feature_229','feature_230','feature_231','feature_232','feature_233','feature_234','feature_235','feature_236','feature_237','feature_238','feature_239','feature_240','feature_241','feature_242','feature_243','feature_244','feature_245','feature_246','feature_247','feature_248','feature_249','feature_250','feature_251','feature_252','feature_253','feature_254','feature_255','feature_256','feature_257','feature_258','feature_259','feature_260','feature_261','feature_262','feature_263','feature_264','feature_265','feature_266','feature_267','feature_268','feature_269','feature_270','feature_271','feature_272','feature_273','feature_274','feature_275','feature_276','feature_277','feature_278','feature_279','feature_280','feature_281','feature_282','feature_283','feature_284','feature_285','feature_286','feature_287','feature_288','feature_289','feature_290','feature_291','feature_292','feature_293','feature_294','feature_295','feature_296','feature_297','feature_298','feature_299','feature_300','feature_301','feature_302','feature_303','feature_304','feature_305','feature_306','feature_307','feature_308','feature_309','feature_310','feature_311','feature_312','feature_313','feature_314','feature_315','feature_316','feature_317','feature_318','feature_319','feature_320','feature_321','feature_322','feature_323','feature_324','feature_325','feature_326','feature_327','feature_328','feature_329','feature_330','feature_331','feature_332','feature_333','feature_334','feature_335','feature_336','feature_337','feature_338','feature_339','feature_340','feature_341','feature_342','feature_343','feature_344','feature_345','feature_346','feature_347','feature_348','feature_349','feature_350','feature_351','feature_352','feature_353','feature_354','feature_355','feature_356','feature_357','feature_358','feature_359','feature_360','feature_361','feature_362','feature_363','feature_364','feature_365','feature_366','feature_367','feature_368','feature_369','feature_370','feature_371','feature_372','feature_373','feature_374','feature_375','feature_376','feature_377','feature_378','feature_379','feature_380','feature_381','feature_382','feature_383']]\n",
    "switchedCSV['category'] = dataCSV['category']"
   ]
  },
  {
   "cell_type": "code",
   "execution_count": 8,
   "metadata": {},
   "outputs": [
    {
     "name": "stderr",
     "output_type": "stream",
     "text": [
      "/usr/local/lib/python3.9/site-packages/pandas/core/generic.py:6619: SettingWithCopyWarning: \n",
      "A value is trying to be set on a copy of a slice from a DataFrame\n",
      "\n",
      "See the caveats in the documentation: https://pandas.pydata.org/pandas-docs/stable/user_guide/indexing.html#returning-a-view-versus-a-copy\n",
      "  return self._update_inplace(result)\n"
     ]
    }
   ],
   "source": [
    "\n",
    "switchedCSV['category'].replace(np.nan, 'NonFlaky', inplace=True)"
   ]
  },
  {
   "cell_type": "code",
   "execution_count": 9,
   "metadata": {},
   "outputs": [],
   "source": [
    "# use the result from code2vec as vector val\n",
    "#vector_val = switchedCSV[features]\n",
    "switchedCSV = switchedCSV[(switchedCSV['category'] == 'ID') | (switchedCSV['category'] == 'UD') |(switchedCSV['category'] == 'OD') | (switchedCSV['category'] == 'OD-Vic') | (switchedCSV['category'] == 'OD-Brit') | (switchedCSV['category'] == 'NOD') | (switchedCSV['category'] == 'NDOD') | (switchedCSV['category'] == 'NODI') | (switchedCSV['category'] == 'NonFlaky')]\n",
    "vector_val = switchedCSV[features]\n"
   ]
  },
  {
   "cell_type": "code",
   "execution_count": 54,
   "metadata": {},
   "outputs": [],
   "source": [
    "# Number of trees in random forest\n",
    "n_estimators = [int(x) for x in np.linspace(start = 100, stop = 2000, num = 20)]\n",
    "# Maximum number of levels in tree\n",
    "max_depth = [int(x) for x in np.linspace(5, 100, num = 20)]\n",
    "max_depth.append(None)\n",
    "# Minimum number of samples required to split a node\n",
    "min_samples_split = [2, 5, 10, 20, 50, 100, 200, 500]\n",
    "# Minimum number of samples required at each leaf node\n",
    "min_samples_leaf = [1, 2, 5, 10, 20, 50, 100, 200]\n",
    "\n",
    "random_grid = {'n_estimators': n_estimators,\n",
    "               'max_depth': max_depth,\n",
    "               'min_samples_split': min_samples_split,\n",
    "               'min_samples_leaf': min_samples_leaf}"
   ]
  },
  {
   "cell_type": "code",
   "execution_count": 36,
   "metadata": {},
   "outputs": [],
   "source": [
    "import random"
   ]
  },
  {
   "cell_type": "code",
   "execution_count": 91,
   "metadata": {},
   "outputs": [
    {
     "name": "stdout",
     "output_type": "stream",
     "text": [
      "2\n",
      "100\n"
     ]
    }
   ],
   "source": [
    "index = random.randrange(len(random_grid))\n",
    "print(index)\n",
    "print(random_grid['n_estimators'][random.randrange(len(random_grid['n_estimators']))])"
   ]
  },
  {
   "cell_type": "code",
   "execution_count": 18,
   "metadata": {},
   "outputs": [
    {
     "name": "stdout",
     "output_type": "stream",
     "text": [
      "(6902, 387)\n"
     ]
    }
   ],
   "source": [
    "print(switchedCSV.shape)"
   ]
  },
  {
   "cell_type": "code",
   "execution_count": 11,
   "metadata": {},
   "outputs": [
    {
     "name": "stdout",
     "output_type": "stream",
     "text": [
      "0.46857597454256167\n",
      "0.24423229912490055\n",
      "0.10580747812251393\n",
      "0.08671439936356404\n",
      "0.07398568019093078\n",
      "0.011933174224343675\n",
      "0.008750994431185362\n"
     ]
    }
   ],
   "source": [
    "print(589/1257)\n",
    "print(307/1257)\n",
    "print(133/1257)\n",
    "print(109/1257)\n",
    "print(93/1257)\n",
    "print(15/1257)\n",
    "print(11/1257)"
   ]
  },
  {
   "cell_type": "code",
   "execution_count": 23,
   "metadata": {},
   "outputs": [
    {
     "name": "stderr",
     "output_type": "stream",
     "text": [
      "/usr/local/lib/python3.9/site-packages/pandas/core/generic.py:6619: SettingWithCopyWarning: \n",
      "A value is trying to be set on a copy of a slice from a DataFrame\n",
      "\n",
      "See the caveats in the documentation: https://pandas.pydata.org/pandas-docs/stable/user_guide/indexing.html#returning-a-view-versus-a-copy\n",
      "  return self._update_inplace(result)\n"
     ]
    },
    {
     "name": "stdout",
     "output_type": "stream",
     "text": [
      "111\n",
      "['ID' 'OD' 'NonFlaky' 'UD' 'OD-Vic' 'OD-Brit' 'NOD' 'NDOD']\n",
      "NonFlaky    5645\n",
      "ID           589\n",
      "OD           307\n",
      "OD-Vic       133\n",
      "NOD          109\n",
      "UD            93\n",
      "OD-Brit       15\n",
      "NDOD          11\n",
      "Name: category, dtype: int64\n",
      "(6902, 3)\n",
      "Mapper size 175\n",
      "NonFlaky    100\n",
      "OD           70\n",
      "ID            5\n",
      "Name: category, dtype: int64\n",
      "Activiti size 80\n",
      "NonFlaky    57\n",
      "OD-Vic      12\n",
      "OD-Brit      8\n",
      "UD           3\n",
      "Name: category, dtype: int64\n",
      "easyexcel size 7\n",
      "NonFlaky    5\n",
      "OD          2\n",
      "Name: category, dtype: int64\n",
      "fastjson size 210\n",
      "NonFlaky    143\n",
      "ID           46\n",
      "OD           16\n",
      "NOD           3\n",
      "NDOD          2\n",
      "Name: category, dtype: int64\n",
      "innodb-java-reader size 115\n",
      "NonFlaky    70\n",
      "ID          45\n",
      "Name: category, dtype: int64\n",
      "jetcache size 24\n",
      "NonFlaky    18\n",
      "ID           6\n",
      "Name: category, dtype: int64\n",
      "nacos size 4\n",
      "NonFlaky    3\n",
      "OD-Vic      1\n",
      "Name: category, dtype: int64\n",
      "testable-mock size 7\n",
      "NonFlaky    6\n",
      "ID          1\n",
      "Name: category, dtype: int64\n",
      "alien4cloud size 3\n",
      "NonFlaky    2\n",
      "OD          1\n",
      "Name: category, dtype: int64\n",
      "alluxio size 16\n",
      "NonFlaky    14\n",
      "ID           2\n",
      "Name: category, dtype: int64\n",
      "avro size 78\n",
      "NonFlaky    74\n",
      "ID           4\n",
      "Name: category, dtype: int64\n",
      "cayenne size 30\n",
      "NonFlaky    26\n",
      "ID           3\n",
      "OD           1\n",
      "Name: category, dtype: int64\n",
      "commons-collections size 233\n",
      "NonFlaky    229\n",
      "ID            4\n",
      "Name: category, dtype: int64\n",
      "commons-lang size 241\n",
      "NonFlaky    220\n",
      "ID           21\n",
      "Name: category, dtype: int64\n",
      "commons-math size 14\n",
      "NonFlaky    12\n",
      "ID           2\n",
      "Name: category, dtype: int64\n",
      "flink size 168\n",
      "NonFlaky    141\n",
      "ID           27\n",
      "Name: category, dtype: int64\n",
      "geronimo-batchee size 14\n",
      "NonFlaky    13\n",
      "OD           1\n",
      "Name: category, dtype: int64\n",
      "hadoop size 537\n",
      "NonFlaky    399\n",
      "OD           48\n",
      "OD-Vic       40\n",
      "ID           31\n",
      "NOD          19\n",
      "Name: category, dtype: int64\n",
      "hbase size 104\n",
      "NonFlaky    71\n",
      "OD          27\n",
      "ID           3\n",
      "UD           2\n",
      "NOD          1\n",
      "Name: category, dtype: int64\n",
      "hive size 126\n",
      "NonFlaky    105\n",
      "ID           21\n",
      "Name: category, dtype: int64\n",
      "incubator-dubbo size 397\n",
      "NonFlaky    269\n",
      "UD           59\n",
      "OD-Vic       23\n",
      "OD           17\n",
      "NOD          15\n",
      "ID            6\n",
      "NDOD          5\n",
      "OD-Brit       3\n",
      "Name: category, dtype: int64\n",
      "incubator-ratis size 7\n",
      "NonFlaky    4\n",
      "OD          3\n",
      "Name: category, dtype: int64\n",
      "incubator-shardingsphere size 60\n",
      "NonFlaky    45\n",
      "ID          15\n",
      "Name: category, dtype: int64\n",
      "jackrabbit-oak size 48\n",
      "NonFlaky    31\n",
      "OD          17\n",
      "Name: category, dtype: int64\n",
      "opennlp size 17\n",
      "NonFlaky    13\n",
      "ID           4\n",
      "Name: category, dtype: int64\n",
      "shardingsphere-elasticjob size 28\n",
      "NonFlaky    18\n",
      "OD          10\n",
      "Name: category, dtype: int64\n",
      "Struts size 46\n",
      "NonFlaky    35\n",
      "ID           7\n",
      "OD-Vic       4\n",
      "Name: category, dtype: int64\n",
      "java-cas-client size 2\n",
      "NonFlaky    2\n",
      "Name: category, dtype: int64\n",
      "arangodb-tinkerpop-provider size 8\n",
      "NonFlaky    7\n",
      "UD          1\n",
      "Name: category, dtype: int64\n",
      "AuthMeReloaded size 51\n",
      "NonFlaky    50\n",
      "ID           1\n",
      "Name: category, dtype: int64\n",
      "biojava size 168\n",
      "NonFlaky    118\n",
      "NOD          27\n",
      "ID           23\n",
      "Name: category, dtype: int64\n",
      "webdrivermanager size 1\n",
      "ID    1\n",
      "Name: category, dtype: int64\n",
      "edn-java size 9\n",
      "NonFlaky    8\n",
      "ID          1\n",
      "Name: category, dtype: int64\n",
      "braintree_java size 3\n",
      "NonFlaky    2\n",
      "ID          1\n",
      "Name: category, dtype: int64\n",
      "c2mon size 24\n",
      "NonFlaky    20\n",
      "UD           1\n",
      "NDOD         1\n",
      "ID           1\n",
      "OD-Vic       1\n",
      "Name: category, dtype: int64\n",
      "vertx-completable-future size 51\n",
      "NonFlaky    50\n",
      "NOD          1\n",
      "Name: category, dtype: int64\n",
      "classgraph size 2\n",
      "ID          1\n",
      "NonFlaky    1\n",
      "Name: category, dtype: int64\n",
      "cloud-slang size 28\n",
      "NonFlaky    22\n",
      "OD           6\n",
      "Name: category, dtype: int64\n",
      "kafka-connect-elasticsearch size 21\n",
      "NonFlaky    19\n",
      "ID           2\n",
      "Name: category, dtype: int64\n",
      "tessera size 17\n",
      "NonFlaky    11\n",
      "OD           6\n",
      "Name: category, dtype: int64\n",
      "WebCollector size 1\n",
      "NOD    1\n",
      "Name: category, dtype: int64\n",
      "cukes size 7\n",
      "NonFlaky    6\n",
      "OD-Vic      1\n",
      "Name: category, dtype: int64\n",
      "apollo size 28\n",
      "NonFlaky    22\n",
      "ID           6\n",
      "Name: category, dtype: int64\n",
      "openhtmltopdf size 70\n",
      "OD          35\n",
      "NonFlaky    35\n",
      "Name: category, dtype: int64\n",
      "rxjava2-extras size 50\n",
      "NonFlaky    47\n",
      "UD           2\n",
      "NDOD         1\n",
      "Name: category, dtype: int64\n",
      "Achilles size 132\n",
      "NonFlaky    104\n",
      "NOD          27\n",
      "UD            1\n",
      "Name: category, dtype: int64\n",
      "dropwizard size 78\n",
      "NonFlaky    66\n",
      "ID          11\n",
      "OD-Vic       1\n",
      "Name: category, dtype: int64\n",
      "tyrus size 34\n",
      "NonFlaky    25\n",
      "UD           5\n",
      "ID           3\n",
      "NOD          1\n",
      "Name: category, dtype: int64\n",
      "jetty.project size 13\n",
      "NonFlaky    11\n",
      "ID           2\n",
      "Name: category, dtype: int64\n",
      "elastic-job-lite size 108\n",
      "NonFlaky    97\n",
      "OD-Vic       5\n",
      "ID           2\n",
      "OD           2\n",
      "NOD          2\n",
      "Name: category, dtype: int64\n",
      "esper size 330\n",
      "NonFlaky    293\n",
      "ID           36\n",
      "OD            1\n",
      "Name: category, dtype: int64\n",
      "jsondoc size 1\n",
      "ID    1\n",
      "Name: category, dtype: int64\n",
      "facebook-java-business-sdk size 1\n",
      "ID    1\n",
      "Name: category, dtype: int64\n",
      "jackson-dataformats-binary size 8\n",
      "NonFlaky    8\n",
      "Name: category, dtype: int64\n",
      "jackson-datatypes-collections size 5\n",
      "NonFlaky    3\n",
      "ID          2\n",
      "Name: category, dtype: int64\n",
      "jackson-jaxrs-providers size 8\n",
      "NonFlaky    6\n",
      "ID          2\n",
      "Name: category, dtype: int64\n",
      "jackson-modules-base size 7\n",
      "NonFlaky    4\n",
      "ID          3\n",
      "Name: category, dtype: int64\n",
      "hsac-fitnesse-fixtures size 52\n",
      "NonFlaky    41\n",
      "ID          10\n",
      "OD-Brit      1\n",
      "Name: category, dtype: int64\n",
      "flowable-engine size 229\n",
      "NonFlaky    212\n",
      "ID           17\n",
      "Name: category, dtype: int64\n",
      "fluent-logger-java size 15\n",
      "NonFlaky    13\n",
      "ID           1\n",
      "NDOD         1\n",
      "Name: category, dtype: int64\n",
      "redpipe size 19\n",
      "NonFlaky    14\n",
      "NOD          4\n",
      "ID           1\n",
      "Name: category, dtype: int64\n",
      "cp-ddd-framework size 34\n",
      "NonFlaky    32\n",
      "ID           1\n",
      "OD           1\n",
      "Name: category, dtype: int64\n",
      "java-monitoring-client-library size 6\n",
      "NonFlaky    5\n",
      "OD-Vic      1\n",
      "Name: category, dtype: int64\n",
      "jimfs size 24\n",
      "NonFlaky    23\n",
      "UD           1\n",
      "Name: category, dtype: int64\n",
      "graphhopper size 12\n",
      "ID          6\n",
      "NonFlaky    6\n",
      "Name: category, dtype: int64\n",
      "graylog2-server size 84\n",
      "NonFlaky    61\n",
      "ID          23\n",
      "Name: category, dtype: int64\n",
      "spring-data-ebean size 41\n",
      "NonFlaky    40\n",
      "OD-Brit      1\n",
      "Name: category, dtype: int64\n",
      "Digital size 20\n",
      "NonFlaky    17\n",
      "ID           3\n",
      "Name: category, dtype: int64\n",
      "hsweb-framework size 2\n",
      "ID          1\n",
      "NonFlaky    1\n",
      "Name: category, dtype: int64\n",
      "karate size 145\n",
      "NonFlaky    143\n",
      "ID            2\n",
      "Name: category, dtype: int64\n",
      "wasabi size 4\n",
      "NonFlaky    3\n",
      "ID          1\n",
      "Name: category, dtype: int64\n",
      "ormlite-core size 202\n",
      "NonFlaky    177\n",
      "ID           25\n",
      "Name: category, dtype: int64\n",
      "delight-nashorn-sandbox size 9\n",
      "NonFlaky    8\n",
      "NDOD        1\n",
      "Name: category, dtype: int64\n",
      "underscore-java size 40\n",
      "NonFlaky    39\n",
      "ID           1\n",
      "Name: category, dtype: int64\n",
      "remoting size 38\n",
      "NonFlaky    21\n",
      "OD          10\n",
      "ID           7\n",
      "Name: category, dtype: int64\n",
      "jfreechart size 22\n",
      "NonFlaky    21\n",
      "OD-Vic       1\n",
      "Name: category, dtype: int64\n",
      "jhipster-registry size 6\n",
      "NonFlaky    4\n",
      "OD-Vic      1\n",
      "ID          1\n",
      "Name: category, dtype: int64\n",
      "jicofo size 4\n",
      "OD    4\n",
      "Name: category, dtype: int64\n",
      "jmeter-maven-plugin size 12\n",
      "NonFlaky    11\n",
      "ID           1\n",
      "Name: category, dtype: int64\n",
      "jnr-posix size 13\n",
      "NonFlaky    7\n",
      "OD          6\n",
      "Name: category, dtype: int64\n",
      "joda-time size 123\n",
      "NonFlaky    122\n",
      "UD            1\n",
      "Name: category, dtype: int64\n",
      "jReddit size 16\n",
      "NonFlaky    13\n",
      "ID           3\n",
      "Name: category, dtype: int64\n",
      "jung size 2\n",
      "ID          1\n",
      "NonFlaky    1\n",
      "Name: category, dtype: int64\n",
      "linq4j size 26\n",
      "NonFlaky    24\n",
      "ID           2\n",
      "Name: category, dtype: int64\n",
      "db-scheduler size 13\n",
      "NonFlaky    13\n",
      "Name: category, dtype: int64\n",
      "http-request size 189\n",
      "NonFlaky    161\n",
      "OD-Vic       28\n",
      "Name: category, dtype: int64\n",
      "optaplanner size 27\n",
      "NonFlaky    24\n",
      "ID           3\n",
      "Name: category, dtype: int64\n",
      "disconf size 2\n",
      "NOD         1\n",
      "NonFlaky    1\n",
      "Name: category, dtype: int64\n",
      "unirest-java size 4\n",
      "NonFlaky    3\n",
      "ID          1\n",
      "Name: category, dtype: int64\n",
      "marine-api size 24\n",
      "OD-Vic      12\n",
      "NonFlaky    12\n",
      "Name: category, dtype: int64\n",
      "java size 1\n",
      "OD    1\n",
      "Name: category, dtype: int64\n",
      "one size 2\n",
      "NOD         1\n",
      "NonFlaky    1\n",
      "Name: category, dtype: int64\n",
      "liquibase size 12\n",
      "NonFlaky    9\n",
      "ID          3\n",
      "Name: category, dtype: int64\n",
      "sawmill size 33\n",
      "NonFlaky    29\n",
      "NOD          3\n",
      "UD           1\n",
      "Name: category, dtype: int64\n",
      "hutool size 11\n",
      "NonFlaky    9\n",
      "ID          2\n",
      "Name: category, dtype: int64\n",
      "semanticvectors size 29\n",
      "NonFlaky    27\n",
      "OD           2\n",
      "Name: category, dtype: int64\n",
      "spring-cloud-zuul-ratelimit size 7\n",
      "NonFlaky    6\n",
      "NOD         1\n",
      "Name: category, dtype: int64\n",
      "r2dbc-mysql size 4\n",
      "ID          2\n",
      "NonFlaky    2\n",
      "Name: category, dtype: int64\n",
      "mockserver size 427\n",
      "NonFlaky    397\n",
      "ID           30\n",
      "Name: category, dtype: int64\n",
      "mybatis-3 size 17\n",
      "NonFlaky    16\n",
      "ID           1\n",
      "Name: category, dtype: int64\n",
      "timely size 16\n",
      "NonFlaky    12\n",
      "ID           4\n",
      "Name: category, dtype: int64\n",
      "light-4j size 66\n",
      "NonFlaky    46\n",
      "OD          20\n",
      "Name: category, dtype: int64\n",
      "tomcat_exporter size 5\n",
      "NonFlaky    4\n",
      "NOD         1\n",
      "Name: category, dtype: int64\n",
      "nutz size 102\n",
      "NonFlaky    97\n",
      "ID           5\n",
      "Name: category, dtype: int64\n",
      "sos size 2\n",
      "NOD         1\n",
      "NonFlaky    1\n",
      "Name: category, dtype: int64\n",
      "openapi-generator size 168\n",
      "NonFlaky    160\n",
      "ID            8\n",
      "Name: category, dtype: int64\n",
      "feign size 6\n",
      "NonFlaky    5\n",
      "ID          1\n",
      "Name: category, dtype: int64\n",
      "Strata size 41\n",
      "NonFlaky    32\n",
      "ID           9\n",
      "Name: category, dtype: int64\n",
      "org.openhab.binding.zwave size 13\n",
      "NonFlaky    12\n",
      "ID           1\n",
      "Name: category, dtype: int64\n",
      "Chronicle-Wire size 315\n",
      "NonFlaky    256\n",
      "ID           57\n",
      "OD-Brit       2\n",
      "Name: category, dtype: int64\n",
      "openpojo size 111\n",
      "NonFlaky    91\n",
      "UD          16\n",
      "ID           2\n",
      "OD-Vic       2\n",
      "Name: category, dtype: int64\n"
     ]
    }
   ],
   "source": [
    "tableDf = dataCSV[['id','raw','category']]\n",
    "tableDf['category'].replace(np.nan, 'NonFlaky', inplace=True)\n",
    "tableDf = tableDf[(tableDf['category'] == 'ID') | (tableDf['category'] == 'UD') |(tableDf['category'] == 'OD') | (tableDf['category'] == 'OD-Vic') | (tableDf['category'] == 'OD-Brit') | (tableDf['category'] == 'NOD') | (tableDf['category'] == 'NDOD') | (tableDf['category'] == 'NODI')| (tableDf['category'] == 'NonFlaky')]\n",
    "\n",
    "idList = tableDf.id.unique()\n",
    "categoryList = tableDf.category.unique()\n",
    "print(len(idList))\n",
    "print(categoryList)\n",
    "print(tableDf['category'].value_counts())\n",
    "print(tableDf.shape )\n",
    "\n",
    "\n",
    "for id in idList:\n",
    "    idDf = tableDf[(tableDf['id']==id)]\n",
    "    print(id + ' size '+str(len(idDf.index)))\n",
    "    print(idDf['category'].value_counts())"
   ]
  },
  {
   "cell_type": "code",
   "execution_count": 19,
   "metadata": {},
   "outputs": [
    {
     "name": "stderr",
     "output_type": "stream",
     "text": [
      "/usr/local/lib/python3.9/site-packages/pandas/core/generic.py:6619: SettingWithCopyWarning: \n",
      "A value is trying to be set on a copy of a slice from a DataFrame\n",
      "\n",
      "See the caveats in the documentation: https://pandas.pydata.org/pandas-docs/stable/user_guide/indexing.html#returning-a-view-versus-a-copy\n",
      "  return self._update_inplace(result)\n"
     ]
    }
   ],
   "source": [
    "# use ifidf vector as vector val\n",
    "tfidfDf = dataCSV[['raw','category']]\n",
    "tfidfDf['category'].replace(np.nan, 'NonFlaky', inplace=True)\n",
    "tfidfDf = tfidfDf[(tfidfDf['category'] == 'ID') | (tfidfDf['category'] == 'UD') |(tfidfDf['category'] == 'OD') | (tfidfDf['category'] == 'OD-Vic') | (tfidfDf['category'] == 'OD-Brit') | (tfidfDf['category'] == 'NOD') | (tfidfDf['category'] == 'NDOD') | (tfidfDf['category'] == 'NODI')]\n",
    "\n",
    "\n",
    "tfidfconverter = TfidfVectorizer(max_features=384, min_df=5, max_df=0.7)\n",
    "vector_raw = tfidfconverter.fit_transform(tfidfDf['raw'])\n",
    "vector_val = vector_raw.toarray()"
   ]
  },
  {
   "cell_type": "code",
   "execution_count": 8,
   "metadata": {},
   "outputs": [],
   "source": [
    "pca = PCA(n_components=3 , random_state=0)\n",
    "pca.fit(vector_val)\n",
    "pca_val = pca.transform(vector_val)"
   ]
  },
  {
   "cell_type": "code",
   "execution_count": 10,
   "metadata": {},
   "outputs": [
    {
     "name": "stderr",
     "output_type": "stream",
     "text": [
      "/usr/local/lib/python3.9/site-packages/matplotlib/collections.py:1003: RuntimeWarning: invalid value encountered in sqrt\n",
      "  scale = np.sqrt(self._sizes) * dpi / 72.0 * self._factor\n"
     ]
    },
    {
     "data": {
      "image/png": "[encoded data removed]",
      "text/plain": [
       "<Figure size 1080x1080 with 1 Axes>"
      ]
     },
     "metadata": {
      "needs_background": "light"
     },
     "output_type": "display_data"
    }
   ],
   "source": [
    "\n",
    "fig = plt.figure(figsize = [15,15])\n",
    "\n",
    "ax = fig.add_subplot(projection='3d')\n",
    "\n",
    "category_names = ['ID','OD','UD','OD-Vic','OD-Brit','NOD','NDOD','NDOI']\n",
    "\n",
    "colors = [\"blue\", \"red\", \"indigo\", \"green\", \"yellow\", \"silver\", \"maroon\", \"peru\"]\n",
    "lw = 2\n",
    "\n",
    "for color, i, category_names in zip(colors, category_names, category_names):\n",
    "    plt.scatter(\n",
    "        pca_val[switchedCSV['category'] == i, 0], pca_val[switchedCSV['category'] == i, 1], pca_val[switchedCSV['category'] == i, 2], color=color, alpha=0.5, lw=lw, label=category_names\n",
    "    )\n",
    "\n",
    "ax.set_xlabel('X Label')\n",
    "ax.set_ylabel('Y Label')\n",
    "ax.set_zlabel('Z Label')\n",
    "\n",
    "plt.show()\n",
    "fig.savefig('3d_test.png')"
   ]
  },
  {
   "cell_type": "code",
   "execution_count": 11,
   "metadata": {},
   "outputs": [
    {
     "data": {
      "image/png": "[encoded data removed]",
      "text/plain": [
       "<Figure size 432x288 with 1 Axes>"
      ]
     },
     "metadata": {
      "needs_background": "light"
     },
     "output_type": "display_data"
    }
   ],
   "source": [
    "\n",
    "from mpl_toolkits.mplot3d import Axes3D\n",
    "import matplotlib.pyplot as plt\n",
    "\n",
    "fig = plt.figure()\n",
    "ax = fig.add_subplot(111, projection='3d')\n",
    "\n",
    "x =[1,2,3,4,5,6,7,8,9,10]\n",
    "y =[5,6,2,3,13,4,1,2,4,8]\n",
    "z =[2,3,3,3,5,7,9,11,9,10]\n",
    "\n",
    "ax.scatter(x, y, z, c='r', marker='o')\n",
    "\n",
    "ax.set_xlabel('X Label')\n",
    "ax.set_ylabel('Y Label')\n",
    "ax.set_zlabel('Z Label')\n",
    "\n",
    "plt.show()"
   ]
  },
  {
   "cell_type": "code",
   "execution_count": 10,
   "metadata": {},
   "outputs": [],
   "source": [
    "lda = LinearDiscriminantAnalysis(n_components=3)\n",
    "lda_val = lda.fit_transform(vector_val, switchedCSV['category'])"
   ]
  },
  {
   "cell_type": "code",
   "execution_count": 11,
   "metadata": {},
   "outputs": [
    {
     "data": {
      "application/javascript": "/* Put everything inside the global mpl namespace */\n/* global mpl */\nwindow.mpl = {};\n\nmpl.get_websocket_type = function () {\n    if (typeof WebSocket !== 'undefined') {\n        return WebSocket;\n    } else if (typeof MozWebSocket !== 'undefined') {\n        return MozWebSocket;\n    } else {\n        alert(\n            'Your browser does not have WebSocket support. ' +\n                'Please try Chrome, Safari or Firefox ≥ 6. ' +\n                'Firefox 4 and 5 are also supported but you ' +\n                'have to enable WebSockets in about:config.'\n        );\n    }\n};\n\nmpl.figure = function (figure_id, websocket, ondownload, parent_element) {\n    this.id = figure_id;\n\n    this.ws = websocket;\n\n    this.supports_binary = this.ws.binaryType !== undefined;\n\n    if (!this.supports_binary) {\n        var warnings = document.getElementById('mpl-warnings');\n        if (warnings) {\n            warnings.style.display = 'block';\n            warnings.textContent =\n                'This browser does not support binary websocket messages. ' +\n                'Performance may be slow.';\n        }\n    }\n\n    this.imageObj = new Image();\n\n    this.context = undefined;\n    this.message = undefined;\n    this.canvas = undefined;\n    this.rubberband_canvas = undefined;\n    this.rubberband_context = undefined;\n    this.format_dropdown = undefined;\n\n    this.image_mode = 'full';\n\n    this.root = document.createElement('div');\n    this.root.setAttribute('style', 'display: inline-block');\n    this._root_extra_style(this.root);\n\n    parent_element.appendChild(this.root);\n\n    this._init_header(this);\n    this._init_canvas(this);\n    this._init_toolbar(this);\n\n    var fig = this;\n\n    this.waiting = false;\n\n    this.ws.onopen = function () {\n        fig.send_message('supports_binary', { value: fig.supports_binary });\n        fig.send_message('send_image_mode', {});\n        if (fig.ratio !== 1) {\n            fig.send_message('set_dpi_ratio', { dpi_ratio: fig.ratio });\n        }\n        fig.send_message('refresh', {});\n    };\n\n    this.imageObj.onload = function () {\n        if (fig.image_mode === 'full') {\n            // Full images could contain transparency (where diff images\n            // almost always do), so we need to clear the canvas so that\n            // there is no ghosting.\n            fig.context.clearRect(0, 0, fig.canvas.width, fig.canvas.height);\n        }\n        fig.context.drawImage(fig.imageObj, 0, 0);\n    };\n\n    this.imageObj.onunload = function () {\n        fig.ws.close();\n    };\n\n    this.ws.onmessage = this._make_on_message_function(this);\n\n    this.ondownload = ondownload;\n};\n\nmpl.figure.prototype._init_header = function () {\n    var titlebar = document.createElement('div');\n    titlebar.classList =\n        'ui-dialog-titlebar ui-widget-header ui-corner-all ui-helper-clearfix';\n    var titletext = document.createElement('div');\n    titletext.classList = 'ui-dialog-title';\n    titletext.setAttribute(\n        'style',\n        'width: 100%; text-align: center; padding: 3px;'\n    );\n    titlebar.appendChild(titletext);\n    this.root.appendChild(titlebar);\n    this.header = titletext;\n};\n\nmpl.figure.prototype._canvas_extra_style = function (_canvas_div) {};\n\nmpl.figure.prototype._root_extra_style = function (_canvas_div) {};\n\nmpl.figure.prototype._init_canvas = function () {\n    var fig = this;\n\n    var canvas_div = (this.canvas_div = document.createElement('div'));\n    canvas_div.setAttribute(\n        'style',\n        'border: 1px solid #ddd;' +\n            'box-sizing: content-box;' +\n            'clear: both;' +\n            'min-height: 1px;' +\n            'min-width: 1px;' +\n            'outline: 0;' +\n            'overflow: hidden;' +\n            'position: relative;' +\n            'resize: both;'\n    );\n\n    function on_keyboard_event_closure(name) {\n        return function (event) {\n            return fig.key_event(event, name);\n        };\n    }\n\n    canvas_div.addEventListener(\n        'keydown',\n        on_keyboard_event_closure('key_press')\n    );\n    canvas_div.addEventListener(\n        'keyup',\n        on_keyboard_event_closure('key_release')\n    );\n\n    this._canvas_extra_style(canvas_div);\n    this.root.appendChild(canvas_div);\n\n    var canvas = (this.canvas = document.createElement('canvas'));\n    canvas.classList.add('mpl-canvas');\n    canvas.setAttribute('style', 'box-sizing: content-box;');\n\n    this.context = canvas.getContext('2d');\n\n    var backingStore =\n        this.context.backingStorePixelRatio ||\n        this.context.webkitBackingStorePixelRatio ||\n        this.context.mozBackingStorePixelRatio ||\n        this.context.msBackingStorePixelRatio ||\n        this.context.oBackingStorePixelRatio ||\n        this.context.backingStorePixelRatio ||\n        1;\n\n    this.ratio = (window.devicePixelRatio || 1) / backingStore;\n\n    var rubberband_canvas = (this.rubberband_canvas = document.createElement(\n        'canvas'\n    ));\n    rubberband_canvas.setAttribute(\n        'style',\n        'box-sizing: content-box; position: absolute; left: 0; top: 0; z-index: 1;'\n    );\n\n    // Apply a ponyfill if ResizeObserver is not implemented by browser.\n    if (this.ResizeObserver === undefined) {\n        if (window.ResizeObserver !== undefined) {\n            this.ResizeObserver = window.ResizeObserver;\n        } else {\n            var obs = _JSXTOOLS_RESIZE_OBSERVER({});\n            this.ResizeObserver = obs.ResizeObserver;\n        }\n    }\n\n    this.resizeObserverInstance = new this.ResizeObserver(function (entries) {\n        var nentries = entries.length;\n        for (var i = 0; i < nentries; i++) {\n            var entry = entries[i];\n            var width, height;\n            if (entry.contentBoxSize) {\n                if (entry.contentBoxSize instanceof Array) {\n                    // Chrome 84 implements new version of spec.\n                    width = entry.contentBoxSize[0].inlineSize;\n                    height = entry.contentBoxSize[0].blockSize;\n                } else {\n                    // Firefox implements old version of spec.\n                    width = entry.contentBoxSize.inlineSize;\n                    height = entry.contentBoxSize.blockSize;\n                }\n            } else {\n                // Chrome <84 implements even older version of spec.\n                width = entry.contentRect.width;\n                height = entry.contentRect.height;\n            }\n\n            // Keep the size of the canvas and rubber band canvas in sync with\n            // the canvas container.\n            if (entry.devicePixelContentBoxSize) {\n                // Chrome 84 implements new version of spec.\n                canvas.setAttribute(\n                    'width',\n                    entry.devicePixelContentBoxSize[0].inlineSize\n                );\n                canvas.setAttribute(\n                    'height',\n                    entry.devicePixelContentBoxSize[0].blockSize\n                );\n            } else {\n                canvas.setAttribute('width', width * fig.ratio);\n                canvas.setAttribute('height', height * fig.ratio);\n            }\n            canvas.setAttribute(\n                'style',\n                'width: ' + width + 'px; height: ' + height + 'px;'\n            );\n\n            rubberband_canvas.setAttribute('width', width);\n            rubberband_canvas.setAttribute('height', height);\n\n            // And update the size in Python. We ignore the initial 0/0 size\n            // that occurs as the element is placed into the DOM, which should\n            // otherwise not happen due to the minimum size styling.\n            if (fig.ws.readyState == 1 && width != 0 && height != 0) {\n                fig.request_resize(width, height);\n            }\n        }\n    });\n    this.resizeObserverInstance.observe(canvas_div);\n\n    function on_mouse_event_closure(name) {\n        return function (event) {\n            return fig.mouse_event(event, name);\n        };\n    }\n\n    rubberband_canvas.addEventListener(\n        'mousedown',\n        on_mouse_event_closure('button_press')\n    );\n    rubberband_canvas.addEventListener(\n        'mouseup',\n        on_mouse_event_closure('button_release')\n    );\n    rubberband_canvas.addEventListener(\n        'dblclick',\n        on_mouse_event_closure('dblclick')\n    );\n    // Throttle sequential mouse events to 1 every 20ms.\n    rubberband_canvas.addEventListener(\n        'mousemove',\n        on_mouse_event_closure('motion_notify')\n    );\n\n    rubberband_canvas.addEventListener(\n        'mouseenter',\n        on_mouse_event_closure('figure_enter')\n    );\n    rubberband_canvas.addEventListener(\n        'mouseleave',\n        on_mouse_event_closure('figure_leave')\n    );\n\n    canvas_div.addEventListener('wheel', function (event) {\n        if (event.deltaY < 0) {\n            event.step = 1;\n        } else {\n            event.step = -1;\n        }\n        on_mouse_event_closure('scroll')(event);\n    });\n\n    canvas_div.appendChild(canvas);\n    canvas_div.appendChild(rubberband_canvas);\n\n    this.rubberband_context = rubberband_canvas.getContext('2d');\n    this.rubberband_context.strokeStyle = '#000000';\n\n    this._resize_canvas = function (width, height, forward) {\n        if (forward) {\n            canvas_div.style.width = width + 'px';\n            canvas_div.style.height = height + 'px';\n        }\n    };\n\n    // Disable right mouse context menu.\n    this.rubberband_canvas.addEventListener('contextmenu', function (_e) {\n        event.preventDefault();\n        return false;\n    });\n\n    function set_focus() {\n        canvas.focus();\n        canvas_div.focus();\n    }\n\n    window.setTimeout(set_focus, 100);\n};\n\nmpl.figure.prototype._init_toolbar = function () {\n    var fig = this;\n\n    var toolbar = document.createElement('div');\n    toolbar.classList = 'mpl-toolbar';\n    this.root.appendChild(toolbar);\n\n    function on_click_closure(name) {\n        return function (_event) {\n            return fig.toolbar_button_onclick(name);\n        };\n    }\n\n    function on_mouseover_closure(tooltip) {\n        return function (event) {\n            if (!event.currentTarget.disabled) {\n                return fig.toolbar_button_onmouseover(tooltip);\n            }\n        };\n    }\n\n    fig.buttons = {};\n    var buttonGroup = document.createElement('div');\n    buttonGroup.classList = 'mpl-button-group';\n    for (var toolbar_ind in mpl.toolbar_items) {\n        var name = mpl.toolbar_items[toolbar_ind][0];\n        var tooltip = mpl.toolbar_items[toolbar_ind][1];\n        var image = mpl.toolbar_items[toolbar_ind][2];\n        var method_name = mpl.toolbar_items[toolbar_ind][3];\n\n        if (!name) {\n            /* Instead of a spacer, we start a new button group. */\n            if (buttonGroup.hasChildNodes()) {\n                toolbar.appendChild(buttonGroup);\n            }\n            buttonGroup = document.createElement('div');\n            buttonGroup.classList = 'mpl-button-group';\n            continue;\n        }\n\n        var button = (fig.buttons[name] = document.createElement('button'));\n        button.classList = 'mpl-widget';\n        button.setAttribute('role', 'button');\n        button.setAttribute('aria-disabled', 'false');\n        button.addEventListener('click', on_click_closure(method_name));\n        button.addEventListener('mouseover', on_mouseover_closure(tooltip));\n\n        var icon_img = document.createElement('img');\n        icon_img.src = '_images/' + image + '.png';\n        icon_img.srcset = '_images/' + image + '_large.png 2x';\n        icon_img.alt = tooltip;\n        button.appendChild(icon_img);\n\n        buttonGroup.appendChild(button);\n    }\n\n    if (buttonGroup.hasChildNodes()) {\n        toolbar.appendChild(buttonGroup);\n    }\n\n    var fmt_picker = document.createElement('select');\n    fmt_picker.classList = 'mpl-widget';\n    toolbar.appendChild(fmt_picker);\n    this.format_dropdown = fmt_picker;\n\n    for (var ind in mpl.extensions) {\n        var fmt = mpl.extensions[ind];\n        var option = document.createElement('option');\n        option.selected = fmt === mpl.default_extension;\n        option.innerHTML = fmt;\n        fmt_picker.appendChild(option);\n    }\n\n    var status_bar = document.createElement('span');\n    status_bar.classList = 'mpl-message';\n    toolbar.appendChild(status_bar);\n    this.message = status_bar;\n};\n\nmpl.figure.prototype.request_resize = function (x_pixels, y_pixels) {\n    // Request matplotlib to resize the figure. Matplotlib will then trigger a resize in the client,\n    // which will in turn request a refresh of the image.\n    this.send_message('resize', { width: x_pixels, height: y_pixels });\n};\n\nmpl.figure.prototype.send_message = function (type, properties) {\n    properties['type'] = type;\n    properties['figure_id'] = this.id;\n    this.ws.send(JSON.stringify(properties));\n};\n\nmpl.figure.prototype.send_draw_message = function () {\n    if (!this.waiting) {\n        this.waiting = true;\n        this.ws.send(JSON.stringify({ type: 'draw', figure_id: this.id }));\n    }\n};\n\nmpl.figure.prototype.handle_save = function (fig, _msg) {\n    var format_dropdown = fig.format_dropdown;\n    var format = format_dropdown.options[format_dropdown.selectedIndex].value;\n    fig.ondownload(fig, format);\n};\n\nmpl.figure.prototype.handle_resize = function (fig, msg) {\n    var size = msg['size'];\n    if (size[0] !== fig.canvas.width || size[1] !== fig.canvas.height) {\n        fig._resize_canvas(size[0], size[1], msg['forward']);\n        fig.send_message('refresh', {});\n    }\n};\n\nmpl.figure.prototype.handle_rubberband = function (fig, msg) {\n    var x0 = msg['x0'] / fig.ratio;\n    var y0 = (fig.canvas.height - msg['y0']) / fig.ratio;\n    var x1 = msg['x1'] / fig.ratio;\n    var y1 = (fig.canvas.height - msg['y1']) / fig.ratio;\n    x0 = Math.floor(x0) + 0.5;\n    y0 = Math.floor(y0) + 0.5;\n    x1 = Math.floor(x1) + 0.5;\n    y1 = Math.floor(y1) + 0.5;\n    var min_x = Math.min(x0, x1);\n    var min_y = Math.min(y0, y1);\n    var width = Math.abs(x1 - x0);\n    var height = Math.abs(y1 - y0);\n\n    fig.rubberband_context.clearRect(\n        0,\n        0,\n        fig.canvas.width / fig.ratio,\n        fig.canvas.height / fig.ratio\n    );\n\n    fig.rubberband_context.strokeRect(min_x, min_y, width, height);\n};\n\nmpl.figure.prototype.handle_figure_label = function (fig, msg) {\n    // Updates the figure title.\n    fig.header.textContent = msg['label'];\n};\n\nmpl.figure.prototype.handle_cursor = function (fig, msg) {\n    var cursor = msg['cursor'];\n    switch (cursor) {\n        case 0:\n            cursor = 'pointer';\n            break;\n        case 1:\n            cursor = 'default';\n            break;\n        case 2:\n            cursor = 'crosshair';\n            break;\n        case 3:\n            cursor = 'move';\n            break;\n    }\n    fig.rubberband_canvas.style.cursor = cursor;\n};\n\nmpl.figure.prototype.handle_message = function (fig, msg) {\n    fig.message.textContent = msg['message'];\n};\n\nmpl.figure.prototype.handle_draw = function (fig, _msg) {\n    // Request the server to send over a new figure.\n    fig.send_draw_message();\n};\n\nmpl.figure.prototype.handle_image_mode = function (fig, msg) {\n    fig.image_mode = msg['mode'];\n};\n\nmpl.figure.prototype.handle_history_buttons = function (fig, msg) {\n    for (var key in msg) {\n        if (!(key in fig.buttons)) {\n            continue;\n        }\n        fig.buttons[key].disabled = !msg[key];\n        fig.buttons[key].setAttribute('aria-disabled', !msg[key]);\n    }\n};\n\nmpl.figure.prototype.handle_navigate_mode = function (fig, msg) {\n    if (msg['mode'] === 'PAN') {\n        fig.buttons['Pan'].classList.add('active');\n        fig.buttons['Zoom'].classList.remove('active');\n    } else if (msg['mode'] === 'ZOOM') {\n        fig.buttons['Pan'].classList.remove('active');\n        fig.buttons['Zoom'].classList.add('active');\n    } else {\n        fig.buttons['Pan'].classList.remove('active');\n        fig.buttons['Zoom'].classList.remove('active');\n    }\n};\n\nmpl.figure.prototype.updated_canvas_event = function () {\n    // Called whenever the canvas gets updated.\n    this.send_message('ack', {});\n};\n\n// A function to construct a web socket function for onmessage handling.\n// Called in the figure constructor.\nmpl.figure.prototype._make_on_message_function = function (fig) {\n    return function socket_on_message(evt) {\n        if (evt.data instanceof Blob) {\n            var img = evt.data;\n            if (img.type !== 'image/png') {\n                /* FIXME: We get \"Resource interpreted as Image but\n                 * transferred with MIME type text/plain:\" errors on\n                 * Chrome.  But how to set the MIME type?  It doesn't seem\n                 * to be part of the websocket stream */\n                img.type = 'image/png';\n            }\n\n            /* Free the memory for the previous frames */\n            if (fig.imageObj.src) {\n                (window.URL || window.webkitURL).revokeObjectURL(\n                    fig.imageObj.src\n                );\n            }\n\n            fig.imageObj.src = (window.URL || window.webkitURL).createObjectURL(\n                img\n            );\n            fig.updated_canvas_event();\n            fig.waiting = false;\n            return;\n        } else if (\n            typeof evt.data === 'string' &&\n            evt.data.slice(0, 21) === 'data:image/png;base64'\n        ) {\n            fig.imageObj.src = evt.data;\n            fig.updated_canvas_event();\n            fig.waiting = false;\n            return;\n        }\n\n        var msg = JSON.parse(evt.data);\n        var msg_type = msg['type'];\n\n        // Call the  \"handle_{type}\" callback, which takes\n        // the figure and JSON message as its only arguments.\n        try {\n            var callback = fig['handle_' + msg_type];\n        } catch (e) {\n            console.log(\n                \"No handler for the '\" + msg_type + \"' message type: \",\n                msg\n            );\n            return;\n        }\n\n        if (callback) {\n            try {\n                // console.log(\"Handling '\" + msg_type + \"' message: \", msg);\n                callback(fig, msg);\n            } catch (e) {\n                console.log(\n                    \"Exception inside the 'handler_\" + msg_type + \"' callback:\",\n                    e,\n                    e.stack,\n                    msg\n                );\n            }\n        }\n    };\n};\n\n// from http://stackoverflow.com/questions/1114465/getting-mouse-location-in-canvas\nmpl.findpos = function (e) {\n    //this section is from http://www.quirksmode.org/js/events_properties.html\n    var targ;\n    if (!e) {\n        e = window.event;\n    }\n    if (e.target) {\n        targ = e.target;\n    } else if (e.srcElement) {\n        targ = e.srcElement;\n    }\n    if (targ.nodeType === 3) {\n        // defeat Safari bug\n        targ = targ.parentNode;\n    }\n\n    // pageX,Y are the mouse positions relative to the document\n    var boundingRect = targ.getBoundingClientRect();\n    var x = e.pageX - (boundingRect.left + document.body.scrollLeft);\n    var y = e.pageY - (boundingRect.top + document.body.scrollTop);\n\n    return { x: x, y: y };\n};\n\n/*\n * return a copy of an object with only non-object keys\n * we need this to avoid circular references\n * http://stackoverflow.com/a/24161582/3208463\n */\nfunction simpleKeys(original) {\n    return Object.keys(original).reduce(function (obj, key) {\n        if (typeof original[key] !== 'object') {\n            obj[key] = original[key];\n        }\n        return obj;\n    }, {});\n}\n\nmpl.figure.prototype.mouse_event = function (event, name) {\n    var canvas_pos = mpl.findpos(event);\n\n    if (name === 'button_press') {\n        this.canvas.focus();\n        this.canvas_div.focus();\n    }\n\n    var x = canvas_pos.x * this.ratio;\n    var y = canvas_pos.y * this.ratio;\n\n    this.send_message(name, {\n        x: x,\n        y: y,\n        button: event.button,\n        step: event.step,\n        guiEvent: simpleKeys(event),\n    });\n\n    /* This prevents the web browser from automatically changing to\n     * the text insertion cursor when the button is pressed.  We want\n     * to control all of the cursor setting manually through the\n     * 'cursor' event from matplotlib */\n    event.preventDefault();\n    return false;\n};\n\nmpl.figure.prototype._key_event_extra = function (_event, _name) {\n    // Handle any extra behaviour associated with a key event\n};\n\nmpl.figure.prototype.key_event = function (event, name) {\n    // Prevent repeat events\n    if (name === 'key_press') {\n        if (event.key === this._key) {\n            return;\n        } else {\n            this._key = event.key;\n        }\n    }\n    if (name === 'key_release') {\n        this._key = null;\n    }\n\n    var value = '';\n    if (event.ctrlKey && event.key !== 'Control') {\n        value += 'ctrl+';\n    }\n    else if (event.altKey && event.key !== 'Alt') {\n        value += 'alt+';\n    }\n    else if (event.shiftKey && event.key !== 'Shift') {\n        value += 'shift+';\n    }\n\n    value += 'k' + event.key;\n\n    this._key_event_extra(event, name);\n\n    this.send_message(name, { key: value, guiEvent: simpleKeys(event) });\n    return false;\n};\n\nmpl.figure.prototype.toolbar_button_onclick = function (name) {\n    if (name === 'download') {\n        this.handle_save(this, null);\n    } else {\n        this.send_message('toolbar_button', { name: name });\n    }\n};\n\nmpl.figure.prototype.toolbar_button_onmouseover = function (tooltip) {\n    this.message.textContent = tooltip;\n};\n\n///////////////// REMAINING CONTENT GENERATED BY embed_js.py /////////////////\n// prettier-ignore\nvar _JSXTOOLS_RESIZE_OBSERVER=function(A){var t,i=new WeakMap,n=new WeakMap,a=new WeakMap,r=new WeakMap,o=new Set;function s(e){if(!(this instanceof s))throw new TypeError(\"Constructor requires 'new' operator\");i.set(this,e)}function h(){throw new TypeError(\"Function is not a constructor\")}function c(e,t,i,n){e=0 in arguments?Number(arguments[0]):0,t=1 in arguments?Number(arguments[1]):0,i=2 in arguments?Number(arguments[2]):0,n=3 in arguments?Number(arguments[3]):0,this.right=(this.x=this.left=e)+(this.width=i),this.bottom=(this.y=this.top=t)+(this.height=n),Object.freeze(this)}function d(){t=requestAnimationFrame(d);var s=new WeakMap,p=new Set;o.forEach((function(t){r.get(t).forEach((function(i){var r=t instanceof window.SVGElement,o=a.get(t),d=r?0:parseFloat(o.paddingTop),f=r?0:parseFloat(o.paddingRight),l=r?0:parseFloat(o.paddingBottom),u=r?0:parseFloat(o.paddingLeft),g=r?0:parseFloat(o.borderTopWidth),m=r?0:parseFloat(o.borderRightWidth),w=r?0:parseFloat(o.borderBottomWidth),b=u+f,F=d+l,v=(r?0:parseFloat(o.borderLeftWidth))+m,W=g+w,y=r?0:t.offsetHeight-W-t.clientHeight,E=r?0:t.offsetWidth-v-t.clientWidth,R=b+v,z=F+W,M=r?t.width:parseFloat(o.width)-R-E,O=r?t.height:parseFloat(o.height)-z-y;if(n.has(t)){var k=n.get(t);if(k[0]===M&&k[1]===O)return}n.set(t,[M,O]);var S=Object.create(h.prototype);S.target=t,S.contentRect=new c(u,d,M,O),s.has(i)||(s.set(i,[]),p.add(i)),s.get(i).push(S)}))})),p.forEach((function(e){i.get(e).call(e,s.get(e),e)}))}return s.prototype.observe=function(i){if(i instanceof window.Element){r.has(i)||(r.set(i,new Set),o.add(i),a.set(i,window.getComputedStyle(i)));var n=r.get(i);n.has(this)||n.add(this),cancelAnimationFrame(t),t=requestAnimationFrame(d)}},s.prototype.unobserve=function(i){if(i instanceof window.Element&&r.has(i)){var n=r.get(i);n.has(this)&&(n.delete(this),n.size||(r.delete(i),o.delete(i))),n.size||r.delete(i),o.size||cancelAnimationFrame(t)}},A.DOMRectReadOnly=c,A.ResizeObserver=s,A.ResizeObserverEntry=h,A}; // eslint-disable-line\nmpl.toolbar_items = [[\"Home\", \"Reset original view\", \"fa fa-home icon-home\", \"home\"], [\"Back\", \"Back to previous view\", \"fa fa-arrow-left icon-arrow-left\", \"back\"], [\"Forward\", \"Forward to next view\", \"fa fa-arrow-right icon-arrow-right\", \"forward\"], [\"\", \"\", \"\", \"\"], [\"Pan\", \"Left button pans, Right button zooms\\nx/y fixes axis, CTRL fixes aspect\", \"fa fa-arrows icon-move\", \"pan\"], [\"Zoom\", \"Zoom to rectangle\\nx/y fixes axis, CTRL fixes aspect\", \"fa fa-square-o icon-check-empty\", \"zoom\"], [\"\", \"\", \"\", \"\"], [\"Download\", \"Download plot\", \"fa fa-floppy-o icon-save\", \"download\"]];\n\nmpl.extensions = [\"eps\", \"jpeg\", \"pgf\", \"pdf\", \"png\", \"ps\", \"raw\", \"svg\", \"tif\"];\n\nmpl.default_extension = \"png\";/* global mpl */\n\nvar comm_websocket_adapter = function (comm) {\n    // Create a \"websocket\"-like object which calls the given IPython comm\n    // object with the appropriate methods. Currently this is a non binary\n    // socket, so there is still some room for performance tuning.\n    var ws = {};\n\n    ws.binaryType = comm.kernel.ws.binaryType;\n    ws.readyState = comm.kernel.ws.readyState;\n    function updateReadyState(_event) {\n        if (comm.kernel.ws) {\n            ws.readyState = comm.kernel.ws.readyState;\n        } else {\n            ws.readyState = 3; // Closed state.\n        }\n    }\n    comm.kernel.ws.addEventListener('open', updateReadyState);\n    comm.kernel.ws.addEventListener('close', updateReadyState);\n    comm.kernel.ws.addEventListener('error', updateReadyState);\n\n    ws.close = function () {\n        comm.close();\n    };\n    ws.send = function (m) {\n        //console.log('sending', m);\n        comm.send(m);\n    };\n    // Register the callback with on_msg.\n    comm.on_msg(function (msg) {\n        //console.log('receiving', msg['content']['data'], msg);\n        var data = msg['content']['data'];\n        if (data['blob'] !== undefined) {\n            data = {\n                data: new Blob(msg['buffers'], { type: data['blob'] }),\n            };\n        }\n        // Pass the mpl event to the overridden (by mpl) onmessage function.\n        ws.onmessage(data);\n    });\n    return ws;\n};\n\nmpl.mpl_figure_comm = function (comm, msg) {\n    // This is the function which gets called when the mpl process\n    // starts-up an IPython Comm through the \"matplotlib\" channel.\n\n    var id = msg.content.data.id;\n    // Get hold of the div created by the display call when the Comm\n    // socket was opened in Python.\n    var element = document.getElementById(id);\n    var ws_proxy = comm_websocket_adapter(comm);\n\n    function ondownload(figure, _format) {\n        window.open(figure.canvas.toDataURL());\n    }\n\n    var fig = new mpl.figure(id, ws_proxy, ondownload, element);\n\n    // Call onopen now - mpl needs it, as it is assuming we've passed it a real\n    // web socket which is closed, not our websocket->open comm proxy.\n    ws_proxy.onopen();\n\n    fig.parent_element = element;\n    fig.cell_info = mpl.find_output_cell(\"<div id='\" + id + \"'></div>\");\n    if (!fig.cell_info) {\n        console.error('Failed to find cell for figure', id, fig);\n        return;\n    }\n    fig.cell_info[0].output_area.element.on(\n        'cleared',\n        { fig: fig },\n        fig._remove_fig_handler\n    );\n};\n\nmpl.figure.prototype.handle_close = function (fig, msg) {\n    var width = fig.canvas.width / fig.ratio;\n    fig.cell_info[0].output_area.element.off(\n        'cleared',\n        fig._remove_fig_handler\n    );\n    fig.resizeObserverInstance.unobserve(fig.canvas_div);\n\n    // Update the output cell to use the data from the current canvas.\n    fig.push_to_output();\n    var dataURL = fig.canvas.toDataURL();\n    // Re-enable the keyboard manager in IPython - without this line, in FF,\n    // the notebook keyboard shortcuts fail.\n    IPython.keyboard_manager.enable();\n    fig.parent_element.innerHTML =\n        '<img src=\"' + dataURL + '\" width=\"' + width + '\">';\n    fig.close_ws(fig, msg);\n};\n\nmpl.figure.prototype.close_ws = function (fig, msg) {\n    fig.send_message('closing', msg);\n    // fig.ws.close()\n};\n\nmpl.figure.prototype.push_to_output = function (_remove_interactive) {\n    // Turn the data on the canvas into data in the output cell.\n    var width = this.canvas.width / this.ratio;\n    var dataURL = this.canvas.toDataURL();\n    this.cell_info[1]['text/html'] =\n        '<img src=\"' + dataURL + '\" width=\"' + width + '\">';\n};\n\nmpl.figure.prototype.updated_canvas_event = function () {\n    // Tell IPython that the notebook contents must change.\n    IPython.notebook.set_dirty(true);\n    this.send_message('ack', {});\n    var fig = this;\n    // Wait a second, then push the new image to the DOM so\n    // that it is saved nicely (might be nice to debounce this).\n    setTimeout(function () {\n        fig.push_to_output();\n    }, 1000);\n};\n\nmpl.figure.prototype._init_toolbar = function () {\n    var fig = this;\n\n    var toolbar = document.createElement('div');\n    toolbar.classList = 'btn-toolbar';\n    this.root.appendChild(toolbar);\n\n    function on_click_closure(name) {\n        return function (_event) {\n            return fig.toolbar_button_onclick(name);\n        };\n    }\n\n    function on_mouseover_closure(tooltip) {\n        return function (event) {\n            if (!event.currentTarget.disabled) {\n                return fig.toolbar_button_onmouseover(tooltip);\n            }\n        };\n    }\n\n    fig.buttons = {};\n    var buttonGroup = document.createElement('div');\n    buttonGroup.classList = 'btn-group';\n    var button;\n    for (var toolbar_ind in mpl.toolbar_items) {\n        var name = mpl.toolbar_items[toolbar_ind][0];\n        var tooltip = mpl.toolbar_items[toolbar_ind][1];\n        var image = mpl.toolbar_items[toolbar_ind][2];\n        var method_name = mpl.toolbar_items[toolbar_ind][3];\n\n        if (!name) {\n            /* Instead of a spacer, we start a new button group. */\n            if (buttonGroup.hasChildNodes()) {\n                toolbar.appendChild(buttonGroup);\n            }\n            buttonGroup = document.createElement('div');\n            buttonGroup.classList = 'btn-group';\n            continue;\n        }\n\n        button = fig.buttons[name] = document.createElement('button');\n        button.classList = 'btn btn-default';\n        button.href = '#';\n        button.title = name;\n        button.innerHTML = '<i class=\"fa ' + image + ' fa-lg\"></i>';\n        button.addEventListener('click', on_click_closure(method_name));\n        button.addEventListener('mouseover', on_mouseover_closure(tooltip));\n        buttonGroup.appendChild(button);\n    }\n\n    if (buttonGroup.hasChildNodes()) {\n        toolbar.appendChild(buttonGroup);\n    }\n\n    // Add the status bar.\n    var status_bar = document.createElement('span');\n    status_bar.classList = 'mpl-message pull-right';\n    toolbar.appendChild(status_bar);\n    this.message = status_bar;\n\n    // Add the close button to the window.\n    var buttongrp = document.createElement('div');\n    buttongrp.classList = 'btn-group inline pull-right';\n    button = document.createElement('button');\n    button.classList = 'btn btn-mini btn-primary';\n    button.href = '#';\n    button.title = 'Stop Interaction';\n    button.innerHTML = '<i class=\"fa fa-power-off icon-remove icon-large\"></i>';\n    button.addEventListener('click', function (_evt) {\n        fig.handle_close(fig, {});\n    });\n    button.addEventListener(\n        'mouseover',\n        on_mouseover_closure('Stop Interaction')\n    );\n    buttongrp.appendChild(button);\n    var titlebar = this.root.querySelector('.ui-dialog-titlebar');\n    titlebar.insertBefore(buttongrp, titlebar.firstChild);\n};\n\nmpl.figure.prototype._remove_fig_handler = function (event) {\n    var fig = event.data.fig;\n    if (event.target !== this) {\n        // Ignore bubbled events from children.\n        return;\n    }\n    fig.close_ws(fig, {});\n};\n\nmpl.figure.prototype._root_extra_style = function (el) {\n    el.style.boxSizing = 'content-box'; // override notebook setting of border-box.\n};\n\nmpl.figure.prototype._canvas_extra_style = function (el) {\n    // this is important to make the div 'focusable\n    el.setAttribute('tabindex', 0);\n    // reach out to IPython and tell the keyboard manager to turn it's self\n    // off when our div gets focus\n\n    // location in version 3\n    if (IPython.notebook.keyboard_manager) {\n        IPython.notebook.keyboard_manager.register_events(el);\n    } else {\n        // location in version 2\n        IPython.keyboard_manager.register_events(el);\n    }\n};\n\nmpl.figure.prototype._key_event_extra = function (event, _name) {\n    var manager = IPython.notebook.keyboard_manager;\n    if (!manager) {\n        manager = IPython.keyboard_manager;\n    }\n\n    // Check for shift+enter\n    if (event.shiftKey && event.which === 13) {\n        this.canvas_div.blur();\n        // select the cell after this one\n        var index = IPython.notebook.find_cell_index(this.cell_info[0]);\n        IPython.notebook.select(index + 1);\n    }\n};\n\nmpl.figure.prototype.handle_save = function (fig, _msg) {\n    fig.ondownload(fig, null);\n};\n\nmpl.find_output_cell = function (html_output) {\n    // Return the cell and output element which can be found *uniquely* in the notebook.\n    // Note - this is a bit hacky, but it is done because the \"notebook_saving.Notebook\"\n    // IPython event is triggered only after the cells have been serialised, which for\n    // our purposes (turning an active figure into a static one), is too late.\n    var cells = IPython.notebook.get_cells();\n    var ncells = cells.length;\n    for (var i = 0; i < ncells; i++) {\n        var cell = cells[i];\n        if (cell.cell_type === 'code') {\n            for (var j = 0; j < cell.output_area.outputs.length; j++) {\n                var data = cell.output_area.outputs[j];\n                if (data.data) {\n                    // IPython >= 3 moved mimebundle to data attribute of output\n                    data = data.data;\n                }\n                if (data['text/html'] === html_output) {\n                    return [cell, data, j];\n                }\n            }\n        }\n    }\n};\n\n// Register the function which deals with the matplotlib target/channel.\n// The kernel may be null if the page has been refreshed.\nif (IPython.notebook.kernel !== null) {\n    IPython.notebook.kernel.comm_manager.register_target(\n        'matplotlib',\n        mpl.mpl_figure_comm\n    );\n}\n",
      "text/plain": [
       "<IPython.core.display.Javascript object>"
      ]
     },
     "metadata": {},
     "output_type": "display_data"
    },
    {
     "data": {
      "text/html": [
       "<div id='c6397072-1dab-4c6a-acc4-75b094dda660'></div>"
      ],
      "text/plain": [
       "<IPython.core.display.HTML object>"
      ]
     },
     "metadata": {},
     "output_type": "display_data"
    },
    {
     "name": "stderr",
     "output_type": "stream",
     "text": [
      "/usr/local/lib/python3.9/site-packages/matplotlib/collections.py:1003: RuntimeWarning: invalid value encountered in sqrt\n",
      "  scale = np.sqrt(self._sizes) * dpi / 72.0 * self._factor\n"
     ]
    }
   ],
   "source": [
    "\n",
    "\n",
    "fig = plt.figure(figsize = [15,15])\n",
    "\n",
    "ax = fig.add_subplot(projection='3d')\n",
    "\n",
    "category_names = ['ID','OD','UD','OD-Vic','OD-Brit','NOD','NDOD','NDOI']\n",
    "\n",
    "colors = [\"blue\", \"red\", \"indigo\", \"green\", \"yellow\", \"silver\", \"maroon\", \"peru\"]\n",
    "lw = 2\n",
    "\n",
    "for color, i, category_names in zip(colors, category_names, category_names):\n",
    "    plt.scatter(\n",
    "        lda_val[switchedCSV['category'] == i, 0], lda_val[switchedCSV['category'] == i, 1], lda_val[switchedCSV['category'] == i, 2], color=color, alpha=0.5, lw=lw, label=category_names\n",
    "    )\n",
    "\n",
    "ax.set_xlabel('X Label')\n",
    "ax.set_ylabel('Y Label')\n",
    "ax.set_zlabel('Z Label')\n",
    "\n",
    "plt.show()"
   ]
  },
  {
   "cell_type": "code",
   "execution_count": 24,
   "metadata": {},
   "outputs": [
    {
     "name": "stdout",
     "output_type": "stream",
     "text": [
      "(6902, 2)\n"
     ]
    }
   ],
   "source": [
    "docDf = dataCSV[['raw','category']]\n",
    "docDf['category'].replace(np.nan, 'NonFlaky', inplace=True)\n",
    "docDf = docDf[(docDf['category'] == 'NonFlaky') |(docDf['category'] == 'ID') | (docDf['category'] == 'UD') |(docDf['category'] == 'OD') | (docDf['category'] == 'OD-Vic') | (docDf['category'] == 'OD-Brit') | (docDf['category'] == 'NOD') | (docDf['category'] == 'NDOD') | (docDf['category'] == 'NODI')]\n",
    "print(docDf.shape)"
   ]
  },
  {
   "cell_type": "code",
   "execution_count": 47,
   "metadata": {},
   "outputs": [],
   "source": [
    "import re"
   ]
  },
  {
   "cell_type": "code",
   "execution_count": null,
   "metadata": {},
   "outputs": [],
   "source": [
    "def doc2vecPreprocess(code):\n",
    "    code = re.sub(r\"(?<=\\w)([A-Z])\", r\" \\1\", code)\n",
    "    code = re.sub(r'[^A-Za-z0-9 ]+', '', code)\n",
    "    code = code.lower()\n",
    "    return code\n",
    "\n",
    "docDf['raw'] = docDf['raw'].apply(doc2vecPreprocess)\n",
    "\n",
    "print(docDf.head())"
   ]
  },
  {
   "cell_type": "code",
   "execution_count": 71,
   "metadata": {},
   "outputs": [],
   "source": [
    "train, test = train_test_split(docDf, test_size=0.3, random_state=42)\n",
    "import nltk\n",
    "from nltk.corpus import stopwords\n",
    "def tokenize_text(text):\n",
    "    tokens = []\n",
    "    for sent in nltk.sent_tokenize(text):\n",
    "        for word in nltk.word_tokenize(sent):\n",
    "            if len(word) < 2:\n",
    "                continue\n",
    "            tokens.append(word.lower())\n",
    "    return tokens\n",
    "train_tagged = train.apply(\n",
    "    lambda r: TaggedDocument(words=tokenize_text(r['raw']), tags=[r.category]), axis=1)\n",
    "test_tagged = test.apply(\n",
    "    lambda r: TaggedDocument(words=tokenize_text(r['raw']), tags=[r.category]), axis=1)\n",
    "doc_tagged = docDf.apply(\n",
    "    lambda r: TaggedDocument(words=tokenize_text(r['raw']), tags=[r.category]), axis=1)"
   ]
  },
  {
   "cell_type": "code",
   "execution_count": null,
   "metadata": {},
   "outputs": [],
   "source": [
    "train_tagged.values[30]"
   ]
  },
  {
   "cell_type": "code",
   "execution_count": 65,
   "metadata": {},
   "outputs": [],
   "source": [
    "def vec_for_learning(model, tagged_docs):\n",
    "    sents = tagged_docs.values\n",
    "    targets, regressors = zip(*[(doc.tags[0], model.infer_vector(doc.words)) for doc in sents])\n",
    "    return targets, regressors\n"
   ]
  },
  {
   "cell_type": "code",
   "execution_count": 59,
   "metadata": {},
   "outputs": [],
   "source": [
    "from tqdm import tqdm\n",
    "tqdm.pandas(desc=\"progress-bar\")"
   ]
  },
  {
   "cell_type": "code",
   "execution_count": 91,
   "metadata": {},
   "outputs": [
    {
     "name": "stderr",
     "output_type": "stream",
     "text": [
      "100%|██████████| 1257/1257 [00:00<00:00, 246124.84it/s]\n"
     ]
    }
   ],
   "source": [
    "model_dmm = Doc2Vec(dm=1, dm_mean=1, vector_size=384, window=10, negative=5, min_count=1, workers=5, alpha=0.065, min_alpha=0.065)\n",
    "#model_dmm.build_vocab([x for x in tqdm(train_tagged.values)])\n",
    "model_dmm.build_vocab([x for x in tqdm(doc_tagged.values)])"
   ]
  },
  {
   "cell_type": "code",
   "execution_count": 62,
   "metadata": {},
   "outputs": [],
   "source": [
    "\n",
    "from sklearn import utils"
   ]
  },
  {
   "cell_type": "code",
   "execution_count": null,
   "metadata": {},
   "outputs": [],
   "source": [
    "%%time\n",
    "for epoch in range(30):\n",
    "    model_dmm.train(utils.shuffle([x for x in tqdm(doc_tagged.values)]), total_examples=len(doc_tagged.values), epochs=1)\n",
    "    model_dmm.alpha -= 0.002\n",
    "    model_dmm.min_alpha = model_dmm.alpha"
   ]
  },
  {
   "cell_type": "code",
   "execution_count": 93,
   "metadata": {},
   "outputs": [],
   "source": [
    "y_train, X_train = vec_for_learning(model_dmm, train_tagged)\n",
    "y_test, X_test = vec_for_learning(model_dmm, test_tagged)\n",
    "\n",
    "doc_y, doc_X = vec_for_learning(model_dmm, doc_tagged)\n"
   ]
  },
  {
   "cell_type": "code",
   "execution_count": null,
   "metadata": {},
   "outputs": [],
   "source": [
    "print(doc_X)"
   ]
  },
  {
   "cell_type": "code",
   "execution_count": null,
   "metadata": {},
   "outputs": [],
   "source": [
    "print(switchedCSV['category'].value_counts())"
   ]
  },
  {
   "cell_type": "code",
   "execution_count": null,
   "metadata": {},
   "outputs": [],
   "source": [
    "print(switchedCSV['category'].unique())\n"
   ]
  },
  {
   "cell_type": "code",
   "execution_count": 94,
   "metadata": {},
   "outputs": [],
   "source": [
    "n_pc = 2\n",
    "pca = PCA(n_components=n_pc , random_state=0)\n",
    "pca.fit(doc_X)\n",
    "pca_val = pca.transform(doc_X)\n"
   ]
  },
  {
   "cell_type": "code",
   "execution_count": 12,
   "metadata": {},
   "outputs": [],
   "source": [
    "category_names = ['ID','OD','UD','OD-Vic','OD-Brit','NOD','NDOD','NOD;UD','NOD;OD-Vic','NDOD;NOD','ID;NOD','NDOD;NOD;OD-Vic','NDOD;OD-Vic','NDOD;UD','NDOD;NOD;UD','NDOD;NOD;OD-Brit','NDOI','OD;UD']\n",
    "\n",
    "colors = [\"blue\", \"red\", \"indigo\", \"green\", \"yellow\", \"silver\", \"maroon\", \"peru\",\"gold\", \"pink\", \"aqua\", \"darkorange\", \"orchid\", \"grey\", \"turquoise\", \"navy\", \"teal\", \"wheat\"]"
   ]
  },
  {
   "cell_type": "code",
   "execution_count": null,
   "metadata": {},
   "outputs": [],
   "source": [
    "# scree plot to check how significant each dimension is\n",
    "# https://support.minitab.com/en-us/minitab/18/help-and-how-to/modeling-statistics/multivariate/how-to/principal-components/interpret-the-results/key-results/\n",
    "category_names = ['ID','OD','UD','OD-Vic','OD-Brit','NOD','NDOD','NDOI']\n",
    "\n",
    "colors = [\"blue\", \"red\", \"indigo\", \"green\", \"yellow\", \"silver\", \"maroon\", \"peru\"]\n",
    "lw = 2\n",
    "plt.figure(figsize=[10,10])\n",
    "for color, i, category_names in zip(colors, category_names, category_names):\n",
    "    plt.scatter(\n",
    "        pca_val[switchedCSV['category'] == i, 0], pca_val[switchedCSV['category'] == i, 1], color=color, alpha=0.5, lw=lw, label=category_names\n",
    "    )\n",
    "\n",
    "#for i in range(len(pca_val)):\n",
    "#    plt.annotate(str(i), (pca_val[i,0], pca_val[i,1] + 0.2))\n",
    "\n",
    "#for index, row in pca_val.iterrows():\n",
    "#    plt.annotate(str(index), (row[0], row[1] + 0.2))\n",
    "\n",
    "plt.legend(loc=\"best\", shadow=False, scatterpoints=1)\n",
    "#plt.title(\"PCA of flaky tests dataset\")\n",
    "plt.savefig('PCA_doc2vec.png')\n"
   ]
  },
  {
   "cell_type": "code",
   "execution_count": null,
   "metadata": {},
   "outputs": [],
   "source": [
    "\n",
    "tsne = TSNE(n_components=2, verbose=1, perplexity=50, n_iter=1000)\n",
    "tsne_val = tsne.fit_transform(doc_X)\n"
   ]
  },
  {
   "cell_type": "code",
   "execution_count": null,
   "metadata": {},
   "outputs": [],
   "source": [
    "category_names = ['ID','OD','UD','OD-Vic','OD-Brit','NOD','NDOD','NDOI']\n",
    "\n",
    "colors = [\"blue\", \"red\", \"indigo\", \"green\", \"yellow\", \"silver\", \"maroon\", \"peru\"]\n",
    "lw = 2\n",
    "plt.figure(figsize=[10,10])\n",
    "for color, i, category_names in zip(colors, category_names, category_names):\n",
    "    plt.scatter(\n",
    "        tsne_val[switchedCSV['category'] == i, 0], tsne_val[switchedCSV['category'] == i, 1], color=color, alpha=0.5, lw=lw, label=category_names\n",
    "    )\n",
    "\n",
    "#for i in range(len(tsne_val)):\n",
    "#    plt.annotate(str(i), (tsne_val[i,0], tsne_val[i,1] + 0.2))\n",
    "\n",
    "plt.legend(loc=\"best\", shadow=False, scatterpoints=1)\n",
    "#plt.title(\"t-SNE of flaky tests dataset\")\n",
    "plt.savefig('t-SNE_doc2vec.png')"
   ]
  },
  {
   "cell_type": "code",
   "execution_count": null,
   "metadata": {},
   "outputs": [],
   "source": [
    "perplexity_list = [10, 25, 50, 100]\n",
    "iter_list = [250, 500, 700, 1000]\n",
    "\n",
    "for perp in perplexity_list:\n",
    "    for iter in iter_list:\n",
    "        tsne = TSNE(n_components=2, verbose=1, perplexity=perp, n_iter=iter)\n",
    "        tsne_val = tsne.fit_transform(vector_val)\n",
    "\n",
    "        category_names = ['ID','OD','UD','OD-Vic','OD-Brit','NOD','NDOD','NDOI']\n",
    "\n",
    "        colors = [\"blue\", \"red\", \"indigo\", \"green\", \"yellow\", \"silver\", \"maroon\", \"peru\"]\n",
    "        lw = 2\n",
    "        plt.figure(figsize=[10,10])\n",
    "        for color, i, category_names in zip(colors, category_names, category_names):\n",
    "            plt.scatter(\n",
    "                tsne_val[switchedCSV['category'] == i, 0], tsne_val[switchedCSV['category'] == i, 1], color=color, alpha=0.5, lw=lw, label=category_names\n",
    "            )\n",
    "        plt.legend(loc=\"best\", shadow=False, scatterpoints=1)\n",
    "        #plt.title(\"t-SNE of flaky tests dataset perp \"+ str(perp)+' iter '+str(iter))\n",
    "        figure_name = 't-SNE_code2vec_p'+str(perp)+'_i'+str(iter)+'.png'\n",
    "        plt.savefig(figure_name)"
   ]
  },
  {
   "cell_type": "markdown",
   "metadata": {},
   "source": [
    "LDA linear discriminative analysis\n",
    "supervised\n",
    "\n",
    "Umap\n",
    "\n",
    "isomap\n",
    "\n",
    "Also 3D plot instead of 2D"
   ]
  },
  {
   "cell_type": "code",
   "execution_count": 12,
   "metadata": {},
   "outputs": [],
   "source": [
    "lda = LinearDiscriminantAnalysis(n_components=2)\n",
    "lda_val = lda.fit_transform(vector_val, switchedCSV['category'])"
   ]
  },
  {
   "cell_type": "code",
   "execution_count": 13,
   "metadata": {},
   "outputs": [],
   "source": [
    "search_space = [Integer(1, 5, name='n_neighbors'), Integer(1, 2, name='p')]"
   ]
  },
  {
   "cell_type": "code",
   "execution_count": 14,
   "metadata": {},
   "outputs": [],
   "source": [
    "@use_named_args(search_space)\n",
    "def evaluate_model(**params):\n",
    "\t# something\n",
    "\tmodel.set_params(**params)\n",
    "\t# calculate 5-fold cross validation\n",
    "\tresult = cross_val_score(model, X, y, cv=5, n_jobs=-1, scoring='accuracy')\n",
    "\t# calculate the mean of the scores\n",
    "\testimate = mean(result)\n",
    "\treturn 1.0 - estimate"
   ]
  },
  {
   "cell_type": "code",
   "execution_count": 16,
   "metadata": {},
   "outputs": [
    {
     "ename": "NameError",
     "evalue": "name 'model' is not defined",
     "output_type": "error",
     "traceback": [
      "\u001b[0;31m---------------------------------------------------------------------------\u001b[0m",
      "\u001b[0;31mNameError\u001b[0m                                 Traceback (most recent call last)",
      "\u001b[0;32m/var/folders/s8/vyj613fs57b4g86vrn1xc5t80000gn/T/ipykernel_20917/1524211448.py\u001b[0m in \u001b[0;36m<module>\u001b[0;34m\u001b[0m\n\u001b[0;32m----> 1\u001b[0;31m \u001b[0mresult\u001b[0m \u001b[0;34m=\u001b[0m \u001b[0mgp_minimize\u001b[0m\u001b[0;34m(\u001b[0m\u001b[0mevaluate_model\u001b[0m\u001b[0;34m,\u001b[0m \u001b[0msearch_space\u001b[0m\u001b[0;34m)\u001b[0m\u001b[0;34m\u001b[0m\u001b[0;34m\u001b[0m\u001b[0m\n\u001b[0m",
      "\u001b[0;32m/usr/local/lib/python3.9/site-packages/skopt/optimizer/gp.py\u001b[0m in \u001b[0;36mgp_minimize\u001b[0;34m(func, dimensions, base_estimator, n_calls, n_random_starts, n_initial_points, initial_point_generator, acq_func, acq_optimizer, x0, y0, random_state, verbose, callback, n_points, n_restarts_optimizer, xi, kappa, noise, n_jobs, model_queue_size)\u001b[0m\n\u001b[1;32m    257\u001b[0m             noise=noise)\n\u001b[1;32m    258\u001b[0m \u001b[0;34m\u001b[0m\u001b[0m\n\u001b[0;32m--> 259\u001b[0;31m     return base_minimize(\n\u001b[0m\u001b[1;32m    260\u001b[0m         \u001b[0mfunc\u001b[0m\u001b[0;34m,\u001b[0m \u001b[0mspace\u001b[0m\u001b[0;34m,\u001b[0m \u001b[0mbase_estimator\u001b[0m\u001b[0;34m=\u001b[0m\u001b[0mbase_estimator\u001b[0m\u001b[0;34m,\u001b[0m\u001b[0;34m\u001b[0m\u001b[0;34m\u001b[0m\u001b[0m\n\u001b[1;32m    261\u001b[0m         \u001b[0macq_func\u001b[0m\u001b[0;34m=\u001b[0m\u001b[0macq_func\u001b[0m\u001b[0;34m,\u001b[0m\u001b[0;34m\u001b[0m\u001b[0;34m\u001b[0m\u001b[0m\n",
      "\u001b[0;32m/usr/local/lib/python3.9/site-packages/skopt/optimizer/base.py\u001b[0m in \u001b[0;36mbase_minimize\u001b[0;34m(func, dimensions, base_estimator, n_calls, n_random_starts, n_initial_points, initial_point_generator, acq_func, acq_optimizer, x0, y0, random_state, verbose, callback, n_points, n_restarts_optimizer, xi, kappa, n_jobs, model_queue_size)\u001b[0m\n\u001b[1;32m    297\u001b[0m     \u001b[0;32mfor\u001b[0m \u001b[0mn\u001b[0m \u001b[0;32min\u001b[0m \u001b[0mrange\u001b[0m\u001b[0;34m(\u001b[0m\u001b[0mn_calls\u001b[0m\u001b[0;34m)\u001b[0m\u001b[0;34m:\u001b[0m\u001b[0;34m\u001b[0m\u001b[0;34m\u001b[0m\u001b[0m\n\u001b[1;32m    298\u001b[0m         \u001b[0mnext_x\u001b[0m \u001b[0;34m=\u001b[0m \u001b[0moptimizer\u001b[0m\u001b[0;34m.\u001b[0m\u001b[0mask\u001b[0m\u001b[0;34m(\u001b[0m\u001b[0;34m)\u001b[0m\u001b[0;34m\u001b[0m\u001b[0;34m\u001b[0m\u001b[0m\n\u001b[0;32m--> 299\u001b[0;31m         \u001b[0mnext_y\u001b[0m \u001b[0;34m=\u001b[0m \u001b[0mfunc\u001b[0m\u001b[0;34m(\u001b[0m\u001b[0mnext_x\u001b[0m\u001b[0;34m)\u001b[0m\u001b[0;34m\u001b[0m\u001b[0;34m\u001b[0m\u001b[0m\n\u001b[0m\u001b[1;32m    300\u001b[0m         \u001b[0mresult\u001b[0m \u001b[0;34m=\u001b[0m \u001b[0moptimizer\u001b[0m\u001b[0;34m.\u001b[0m\u001b[0mtell\u001b[0m\u001b[0;34m(\u001b[0m\u001b[0mnext_x\u001b[0m\u001b[0;34m,\u001b[0m \u001b[0mnext_y\u001b[0m\u001b[0;34m)\u001b[0m\u001b[0;34m\u001b[0m\u001b[0;34m\u001b[0m\u001b[0m\n\u001b[1;32m    301\u001b[0m         \u001b[0mresult\u001b[0m\u001b[0;34m.\u001b[0m\u001b[0mspecs\u001b[0m \u001b[0;34m=\u001b[0m \u001b[0mspecs\u001b[0m\u001b[0;34m\u001b[0m\u001b[0;34m\u001b[0m\u001b[0m\n",
      "\u001b[0;32m/usr/local/lib/python3.9/site-packages/skopt/utils.py\u001b[0m in \u001b[0;36mwrapper\u001b[0;34m(x)\u001b[0m\n\u001b[1;32m    787\u001b[0m \u001b[0;34m\u001b[0m\u001b[0m\n\u001b[1;32m    788\u001b[0m             \u001b[0;31m# Call the wrapped objective function with the named arguments.\u001b[0m\u001b[0;34m\u001b[0m\u001b[0;34m\u001b[0m\u001b[0;34m\u001b[0m\u001b[0m\n\u001b[0;32m--> 789\u001b[0;31m             \u001b[0mobjective_value\u001b[0m \u001b[0;34m=\u001b[0m \u001b[0mfunc\u001b[0m\u001b[0;34m(\u001b[0m\u001b[0;34m**\u001b[0m\u001b[0marg_dict\u001b[0m\u001b[0;34m)\u001b[0m\u001b[0;34m\u001b[0m\u001b[0;34m\u001b[0m\u001b[0m\n\u001b[0m\u001b[1;32m    790\u001b[0m \u001b[0;34m\u001b[0m\u001b[0m\n\u001b[1;32m    791\u001b[0m             \u001b[0;32mreturn\u001b[0m \u001b[0mobjective_value\u001b[0m\u001b[0;34m\u001b[0m\u001b[0;34m\u001b[0m\u001b[0m\n",
      "\u001b[0;32m/var/folders/s8/vyj613fs57b4g86vrn1xc5t80000gn/T/ipykernel_20917/3307964481.py\u001b[0m in \u001b[0;36mevaluate_model\u001b[0;34m(**params)\u001b[0m\n\u001b[1;32m      2\u001b[0m \u001b[0;32mdef\u001b[0m \u001b[0mevaluate_model\u001b[0m\u001b[0;34m(\u001b[0m\u001b[0;34m**\u001b[0m\u001b[0mparams\u001b[0m\u001b[0;34m)\u001b[0m\u001b[0;34m:\u001b[0m\u001b[0;34m\u001b[0m\u001b[0;34m\u001b[0m\u001b[0m\n\u001b[1;32m      3\u001b[0m         \u001b[0;31m# something\u001b[0m\u001b[0;34m\u001b[0m\u001b[0;34m\u001b[0m\u001b[0;34m\u001b[0m\u001b[0m\n\u001b[0;32m----> 4\u001b[0;31m         \u001b[0mmodel\u001b[0m\u001b[0;34m.\u001b[0m\u001b[0mset_params\u001b[0m\u001b[0;34m(\u001b[0m\u001b[0;34m**\u001b[0m\u001b[0mparams\u001b[0m\u001b[0;34m)\u001b[0m\u001b[0;34m\u001b[0m\u001b[0;34m\u001b[0m\u001b[0m\n\u001b[0m\u001b[1;32m      5\u001b[0m         \u001b[0;31m# calculate 5-fold cross validation\u001b[0m\u001b[0;34m\u001b[0m\u001b[0;34m\u001b[0m\u001b[0;34m\u001b[0m\u001b[0m\n\u001b[1;32m      6\u001b[0m         \u001b[0mresult\u001b[0m \u001b[0;34m=\u001b[0m \u001b[0mcross_val_score\u001b[0m\u001b[0;34m(\u001b[0m\u001b[0mmodel\u001b[0m\u001b[0;34m,\u001b[0m \u001b[0mX\u001b[0m\u001b[0;34m,\u001b[0m \u001b[0my\u001b[0m\u001b[0;34m,\u001b[0m \u001b[0mcv\u001b[0m\u001b[0;34m=\u001b[0m\u001b[0;36m5\u001b[0m\u001b[0;34m,\u001b[0m \u001b[0mn_jobs\u001b[0m\u001b[0;34m=\u001b[0m\u001b[0;34m-\u001b[0m\u001b[0;36m1\u001b[0m\u001b[0;34m,\u001b[0m \u001b[0mscoring\u001b[0m\u001b[0;34m=\u001b[0m\u001b[0;34m'accuracy'\u001b[0m\u001b[0;34m)\u001b[0m\u001b[0;34m\u001b[0m\u001b[0;34m\u001b[0m\u001b[0m\n",
      "\u001b[0;31mNameError\u001b[0m: name 'model' is not defined"
     ]
    }
   ],
   "source": [
    "result = gp_minimize(evaluate_model, search_space)"
   ]
  },
  {
   "cell_type": "code",
   "execution_count": null,
   "metadata": {},
   "outputs": [],
   "source": [
    "category_names = ['ID','OD','UD','OD-Vic','OD-Brit','NOD','NDOD','NDOI']\n",
    "\n",
    "colors = [\"blue\", \"red\", \"indigo\", \"green\", \"yellow\", \"silver\", \"maroon\", \"peru\"]\n",
    "lw = 2\n",
    "plt.figure(figsize=[10,10])\n",
    "for color, i, category_names in zip(colors, category_names, category_names):\n",
    "    plt.scatter(\n",
    "        lda_val[switchedCSV['category'] == i, 0], lda_val[switchedCSV['category'] == i, 1], color=color, alpha=0.5, lw=lw, label=category_names\n",
    "    )\n",
    "plt.legend(loc=\"best\", shadow=False, scatterpoints=1)\n",
    "#plt.title(\"LDA of flaky tests dataset\")\n",
    "plt.savefig('LDA_doc2vec.png')"
   ]
  },
  {
   "cell_type": "code",
   "execution_count": null,
   "metadata": {},
   "outputs": [],
   "source": [
    "#neighbors_list = [3, 5, 10, 20]\n",
    "neighbors_list = [3]\n",
    "\n",
    "for neighbors in neighbors_list:\n",
    "    # n_neighbors = 5 does not show good result. Many overlapping except purple\n",
    "    # increase to 20 still many overlap. Seems to be worse than 5\n",
    "    isomap = Isomap(n_neighbors=neighbors, n_components=2)\n",
    "    isomap_val = isomap.fit_transform(doc_X, doc_y)\n",
    "\n",
    "    category_names = ['ID','OD','UD','OD-Vic','OD-Brit','NOD','NDOD','NDOI']\n",
    "\n",
    "    colors = [\"blue\", \"red\", \"indigo\", \"green\", \"yellow\", \"silver\", \"maroon\", \"peru\"]\n",
    "    lw = 2\n",
    "    plt.figure(figsize=[10,10])\n",
    "    for color, i, category_names in zip(colors, category_names, category_names):\n",
    "        plt.scatter(\n",
    "            isomap_val[switchedCSV['category'] == i, 0], isomap_val[switchedCSV['category'] == i, 1], color=color, alpha=0.5, lw=lw, label=category_names\n",
    "        )\n",
    "    plt.legend(loc=\"best\", shadow=False, scatterpoints=1)\n",
    "    #plt.title(\"Isomap of flaky tests dataset neighbors \"+str(neighbors))\n",
    "    plt.savefig('Isomap_doc2vec_n_'+str(neighbors)+'.png')"
   ]
  },
  {
   "cell_type": "code",
   "execution_count": null,
   "metadata": {},
   "outputs": [],
   "source": [
    "#neighbors_list = [5, 20, 80, 320]\n",
    "#min_dist_list = [0.0125, 0.05, 0.2, 0.5]\n",
    "neighbors_list = [5]\n",
    "min_dist_list = [ 0.5]\n",
    "\n",
    "for neighbors in neighbors_list:\n",
    "    for dist in min_dist_list:\n",
    "        umap_reducer = umap.UMAP(n_neighbors=neighbors, n_components=2, min_dist=dist)\n",
    "        umap_val = umap_reducer.fit_transform(doc_X)\n",
    "\n",
    "        category_names = ['ID','OD','UD','OD-Vic','OD-Brit','NOD','NDOD','NDOI']\n",
    "\n",
    "        colors = [\"blue\", \"red\", \"indigo\", \"green\", \"yellow\", \"silver\", \"maroon\", \"peru\"]\n",
    "        lw = 2\n",
    "        plt.figure(figsize=[10,10])\n",
    "        for color, i, category_names in zip(colors, category_names, category_names):\n",
    "            plt.scatter(\n",
    "                umap_val[switchedCSV['category'] == i, 0], umap_val[switchedCSV['category'] == i, 1], color=color, alpha=0.5, lw=lw, label=category_names\n",
    "            )\n",
    "\n",
    "        #for i in range(len(umap_val)):\n",
    "        #    plt.annotate(str(i), (umap_val[i,0], umap_val[i,1] + 0.2))\n",
    "        \n",
    "        plt.legend(loc=\"best\", shadow=False, scatterpoints=1)\n",
    "        #plt.title(\"UMAP of flaky tests dataset n \"+str(neighbors)+' d '+str(dist))\n",
    "        plot_name = 'UMAP_doc2vec_n_'+str(neighbors)+'_d_'+str(dist)+'.png'\n",
    "        plt.savefig(plot_name)"
   ]
  },
  {
   "cell_type": "code",
   "execution_count": 99,
   "metadata": {},
   "outputs": [],
   "source": [
    "X_train, X_test, y_train, y_test = train_test_split(lda_val, switchedCSV['category'], test_size=0.2, random_state=42)"
   ]
  },
  {
   "cell_type": "code",
   "execution_count": 100,
   "metadata": {},
   "outputs": [],
   "source": [
    "def evaluate(y_pred, y_test):\n",
    "    print(\"Precision: \"+str(precision_score(y_pred, y_test, average='weighted')))\n",
    "    print(\"Recall: \"+str(recall_score(y_pred, y_test, average='weighted')))\n",
    "    print(\"F1 score: \"+str(f1_score(y_pred, y_test, average='weighted')))"
   ]
  },
  {
   "cell_type": "code",
   "execution_count": null,
   "metadata": {},
   "outputs": [],
   "source": [
    "classifier = RandomForestClassifier(max_depth=4, random_state=0)\n",
    "classifier.fit(X_train,y_train)\n",
    "y_pred = classifier.predict(X_test)\n",
    "\n",
    "evaluate(y_pred, y_test)"
   ]
  },
  {
   "cell_type": "code",
   "execution_count": 127,
   "metadata": {},
   "outputs": [],
   "source": [
    "import math\n",
    "from collections import Counter"
   ]
  },
  {
   "cell_type": "code",
   "execution_count": 137,
   "metadata": {},
   "outputs": [
    {
     "name": "stdout",
     "output_type": "stream",
     "text": [
      "OD\n",
      "ID\n",
      "OD-Vic\n",
      "NOD\n",
      "NDOD\n",
      "UD\n",
      "OD-Brit\n",
      "{'ID': 114, 'NOD': 23, 'OD': 61, 'OD-Vic': 30, 'UD': 24, 'NDOD': 0, 'OD-Brit': 0}\n"
     ]
    }
   ],
   "source": [
    "unique, counts = np.unique(y_pred, return_counts=True)\n",
    "output_dict = dict(zip(unique, counts))\n",
    "\n",
    "for category in y_test.unique():\n",
    "    print(category)\n",
    "    if category not in output_dict:\n",
    "        output_dict[category] = 0\n",
    "\n",
    "print(output_dict)\n"
   ]
  },
  {
   "cell_type": "code",
   "execution_count": 146,
   "metadata": {},
   "outputs": [],
   "source": [
    "def findFlakyEntropy(input):\n",
    "    entropy = 0\n",
    "    input_dict = input.value_counts().to_dict()\n",
    "    base = len(input.unique())\n",
    "\n",
    "    for category in input.unique():\n",
    "        p_category = input_dict[category]/input.size\n",
    "        entropy = entropy - p_category * math.log(p_category, base)\n",
    "    \n",
    "    return entropy\n",
    "\n",
    "def findFlakyMutualInformation(input, output):\n",
    "    mutualInfo = 0\n",
    "    \n",
    "    categories = input.unique()\n",
    "    input_dict = input.value_counts().to_dict()\n",
    "    base = len(categories)\n",
    "\n",
    "    unique, counts = np.unique(output, return_counts=True)\n",
    "    output_dict = dict(zip(unique, counts))\n",
    "\n",
    "    for category in categories:\n",
    "        if category not in output_dict:\n",
    "            output_dict[category] = 0\n",
    "\n",
    "    for x_category in categories:\n",
    "        for y_category in categories:\n",
    "            index = 0 \n",
    "            xy_occurrence = 0\n",
    "            for i, v in input.items():\n",
    "                if v == x_category and output[index] == y_category:\n",
    "                    xy_occurrence = xy_occurrence + 1\n",
    "                index = index +1\n",
    "            \n",
    "            p_xy = xy_occurrence/input.size\n",
    "            p_x = input_dict[x_category]/input.size\n",
    "            p_y = output_dict[y_category]/input.size\n",
    "\n",
    "            if p_xy > 0:\n",
    "                mutualInfo = mutualInfo + p_xy * math.log(p_xy/(p_x*p_y), base)\n",
    "\n",
    "    return mutualInfo\n",
    "\n",
    "def findFlakyDetectionCapacity(input, output):\n",
    "    mutualInfo = findFlakyMutualInformation(input, output)\n",
    "    entropy = findFlakyEntropy(input)\n",
    "\n",
    "    return mutualInfo/entropy"
   ]
  },
  {
   "cell_type": "code",
   "execution_count": null,
   "metadata": {},
   "outputs": [],
   "source": [
    "print(findFlakyMutualInformation(y_test,y_pred))"
   ]
  },
  {
   "cell_type": "code",
   "execution_count": null,
   "metadata": {},
   "outputs": [],
   "source": [
    "print(type(y_test))\n",
    "index = 0 \n",
    "for i, v in y_test.items():\n",
    "    print('index: ', i, 'value: ', v, ' predict: ', y_pred[index])\n",
    "    index = index +1"
   ]
  },
  {
   "cell_type": "code",
   "execution_count": null,
   "metadata": {},
   "outputs": [],
   "source": [
    "for i, v in enumerate(y_pred):\n",
    "   print('index: ', i, 'value: ', v)"
   ]
  },
  {
   "cell_type": "code",
   "execution_count": null,
   "metadata": {},
   "outputs": [],
   "source": [
    "clf = svm.SVC(kernel='rbf', random_state=0)\n",
    "clf.fit(X_train,y_train)\n",
    "y_pred = clf.predict(X_test)\n",
    "\n",
    "evaluate(y_pred, y_test)"
   ]
  },
  {
   "cell_type": "code",
   "execution_count": null,
   "metadata": {},
   "outputs": [],
   "source": [
    "isc = IsolationForest(max_samples=100, random_state=0, contamination=.25)\n",
    "#identify outliers:\n",
    "y_pred_train = isc.fit_predict(X_train)\n",
    "#Remove outliers where 1 represent inliers and -1 represent outliers:\n",
    "X_train_cleaned = X_train[np.where(y_pred_train == 1, True, False)]\n",
    "y_train_cleaned = y_train[np.where(y_pred_train == 1, True, False)]\n",
    "\n",
    "rfc = RandomForestClassifier(max_depth=2, min_samples_leaf=500, min_samples_split=1000, n_estimators=20, random_state=0)\n",
    "rfc.fit(X_train,y_train)\n",
    "y_pred = rfc.predict(X_test)\n",
    "\n",
    "evaluate(y_pred, y_test)"
   ]
  },
  {
   "cell_type": "code",
   "execution_count": null,
   "metadata": {},
   "outputs": [],
   "source": [
    "knn = KNeighborsClassifier(n_neighbors=50, metric='euclidean')\n",
    "knn.fit(X_train,y_train)\n",
    "y_pred = knn.predict(X_test)\n",
    "\n",
    "evaluate(y_pred, y_test)"
   ]
  },
  {
   "cell_type": "code",
   "execution_count": 122,
   "metadata": {},
   "outputs": [],
   "source": [
    "# PCA, LDA, isomap, UMAP\n",
    "embedding_list = []\n",
    "components = 2\n",
    "\n",
    "pca = PCA(n_components=components , random_state=0)\n",
    "pca.fit(vector_val)\n",
    "pca_val = pca.transform(vector_val)\n",
    "embedding_list.append(pca_val)\n",
    "\n"
   ]
  },
  {
   "cell_type": "code",
   "execution_count": 123,
   "metadata": {},
   "outputs": [],
   "source": [
    "lda = LinearDiscriminantAnalysis(n_components=components)\n",
    "lda_val = lda.fit_transform(vector_val, switchedCSV['category'])\n",
    "embedding_list.append(lda_val)\n"
   ]
  },
  {
   "cell_type": "code",
   "execution_count": null,
   "metadata": {},
   "outputs": [],
   "source": [
    "\n",
    "isomap = Isomap(n_neighbors=3, n_components=components)\n",
    "isomap_val = isomap.fit_transform(vector_val, switchedCSV['category'])\n",
    "embedding_list.append(isomap_val)\n"
   ]
  },
  {
   "cell_type": "code",
   "execution_count": 125,
   "metadata": {},
   "outputs": [],
   "source": [
    "\n",
    "umap_reducer = umap.UMAP(n_neighbors=5, n_components=components, min_dist=0.5)\n",
    "umap_val = umap_reducer.fit_transform(vector_val)\n",
    "embedding_list.append(umap_val)"
   ]
  },
  {
   "cell_type": "code",
   "execution_count": 23,
   "metadata": {},
   "outputs": [
    {
     "name": "stdout",
     "output_type": "stream",
     "text": [
      "(1257,)\n"
     ]
    }
   ],
   "source": [
    "print(switchedCSV['category'].shape)"
   ]
  },
  {
   "cell_type": "code",
   "execution_count": null,
   "metadata": {},
   "outputs": [],
   "source": [
    "output = switchedCSV['category'].values\n",
    "#output = tfidfDf['category'].values\n",
    "count = 0\n",
    "classifier_option = 3\n",
    "\n",
    "#config_list = [1,2,5,10,20,50,100,200,500]\n",
    "config_list = ['linear', 'poly', 'rbf', 'sigmoid']\n",
    "config_name = \"knernal\"\n",
    "\n",
    "\n",
    "for embedding in embedding_list:\n",
    "    #X_train, X_test, y_train, y_test = train_test_split(embedding, switchedCSV['category'], test_size=0.33, random_state=0)\n",
    "    count = count + 1\n",
    "\n",
    "    if count == 1:\n",
    "        embedding_name = \"PCA\"\n",
    "    elif count == 2:\n",
    "        embedding_name = \"LDA\"\n",
    "    elif count == 3:\n",
    "        embedding_name = \"Isomap\"\n",
    "    elif count == 4:\n",
    "        embedding_name = \"UMAP\"\n",
    "\n",
    "\n",
    "    pre_score = []\n",
    "    rec_score = []\n",
    "    f1s_score = []\n",
    "\n",
    "    for config in config_list:\n",
    "        \n",
    "        pre_sum = 0\n",
    "        rec_sum = 0\n",
    "        f1s_sum = 0\n",
    "\n",
    "        if classifier_option == 0:\n",
    "            classifier = RandomForestClassifier(max_depth=None, min_samples_leaf=10, min_samples_split=10, n_estimators=config, random_state=0)\n",
    "            classifier_name = \"RandomForest\"\n",
    "        elif classifier_option == 1:\n",
    "            classifier = KNeighborsClassifier(n_neighbors=config)\n",
    "            classifier_name = \"KNN\"\n",
    "        elif classifier_option == 2:\n",
    "            classifier = GradientBoostingClassifier(n_estimators=10, learning_rate=0.5,max_depth=3, min_samples_split=100, min_samples_leaf=config, random_state=0)\n",
    "            classifier_name = \"GradientBoosting\"\n",
    "        elif classifier_option == 3:\n",
    "            classifier = svm.SVC(kernel=config, random_state=0)\n",
    "            classifier_name = \"SVM\"\n",
    "\n",
    "        fold = 5\n",
    "        kf = KFold(n_splits=fold)\n",
    "        for train_index, test_index in kf.split(embedding):\n",
    "            #print(\"TRAIN:\", train_index, \"TEST:\", test_index)\n",
    "            X_train, X_test = embedding[train_index], embedding[test_index]\n",
    "            y_train, y_test = output[train_index], output[test_index]\n",
    "\n",
    "            classifier.fit(X_train,y_train)\n",
    "            y_pred = classifier.predict(X_test)\n",
    "            \n",
    "            pre_sum += precision_score(y_pred, y_test, average='weighted')\n",
    "            rec_sum += recall_score(y_pred, y_test, average='weighted')\n",
    "            f1s_sum += f1_score(y_pred, y_test, average='weighted')\n",
    "\n",
    "        pre_score.append(pre_sum/fold)\n",
    "        rec_score.append(rec_sum/fold)\n",
    "        f1s_score.append(f1s_sum/fold)\n",
    "\n",
    "\n",
    "    plt.figure(figsize=[25,20])\n",
    "    df = pd.DataFrame(np.c_[pre_score,rec_score,f1s_score], index=config_list)\n",
    "    df.columns = ['pre','rec','f1s']\n",
    "    df.plot.bar()\n",
    "    \n",
    "    plt.title(classifier_name+\"_\"+embedding_name+\"_\"+config_name)\n",
    "    plot_name = classifier_name+\"_\"+embedding_name+\"_\"+config_name+'.png'\n",
    "    plt.savefig(plot_name)\n"
   ]
  },
  {
   "cell_type": "code",
   "execution_count": 21,
   "metadata": {},
   "outputs": [],
   "source": [
    "X_train, X_test, y_train, y_test = train_test_split(pca_val, switchedCSV['category'], test_size=0.2, random_state=42)\n",
    "rfc = RandomForestClassifier()\n",
    "rfc.fit(X_train,y_train)\n",
    "\n",
    "param_grid = {\n",
    "    'bootstrap': [True],\n",
    "    'max_depth': [2, 5, 20, 50, 100, 200],\n",
    "    'max_features': [2, 5, 10, \"auto\"],\n",
    "    'min_samples_leaf': [2, 3, 4, 5, 10],\n",
    "    'min_samples_split': [2, 4, 8, 10, 12],\n",
    "    'n_estimators': [50, 100, 200, 400, 1000]\n",
    "}\n",
    "\n",
    "grid_search = GridSearchCV(estimator = rfc, param_grid = param_grid, \n",
    "                          cv = 3, n_jobs = -1, verbose = 2)\n"
   ]
  },
  {
   "cell_type": "code",
   "execution_count": null,
   "metadata": {},
   "outputs": [],
   "source": [
    "grid_search.fit(X_train, y_train)\n",
    "print(grid_search.best_params_)"
   ]
  },
  {
   "cell_type": "code",
   "execution_count": null,
   "metadata": {},
   "outputs": [],
   "source": [
    "fold = 5\n",
    "kf = KFold(n_splits=fold)\n",
    "rfc_pre_sum=0\n",
    "rfc_rec_sum=0\n",
    "rfc_f1s_sum=0\n",
    "\n",
    "classifier_option = 3\n",
    "\n",
    "for train_index, test_index in kf.split(umap_val):\n",
    "    #print(\"TRAIN:\", train_index, \"TEST:\", test_index)\n",
    "    X_train, X_test = umap_val[train_index], umap_val[test_index]\n",
    "    y_train, y_test = output[train_index], output[test_index]\n",
    "\n",
    "    if classifier_option == 0:\n",
    "        classifier = RandomForestClassifier(max_depth=2, min_samples_leaf=500, min_samples_split=500, n_estimators=10, random_state=0)\n",
    "        classifier_name = \"RandomForest\"\n",
    "    elif classifier_option == 1:\n",
    "        classifier = KNeighborsClassifier(n_neighbors=500)\n",
    "        classifier_name = \"KNN\"\n",
    "    elif classifier_option == 2:\n",
    "        classifier = GradientBoostingClassifier(learning_rate=0.05,max_depth=2, min_samples_split=500, min_samples_leaf=500, n_estimators=10, random_state=0)\n",
    "        classifier_name = \"GradientBoosting\"\n",
    "    elif classifier_option == 3:\n",
    "        classifier = svm.SVC(kernel='linear', random_state=0)\n",
    "        classifier_name = \"SVM\"\n",
    "    \n",
    "    #isc = IsolationForest(max_samples=100, random_state=0, contamination=0.05)\n",
    "    #identify outliers:\n",
    "    #y_pred_train = isc.fit_predict(X_train)\n",
    "    #Remove outliers where 1 represent inliers and -1 represent outliers:\n",
    "    #X_train_cleaned = X_train[np.where(y_pred_train == 1, True, False)]\n",
    "    #y_train_cleaned = y_train[np.where(y_pred_train == 1, True, False)]\n",
    "\n",
    "    classifier.fit(X_train,y_train)\n",
    "    y_pred = classifier.predict(X_test)\n",
    "    \n",
    "    rfc_pre_sum += precision_score(y_pred, y_test, average='weighted')\n",
    "    rfc_rec_sum += recall_score(y_pred, y_test, average='weighted')\n",
    "    rfc_f1s_sum += f1_score(y_pred, y_test, average='weighted')\n",
    "\n",
    "print(rfc_pre_sum/fold)\n",
    "print(rfc_rec_sum/fold)\n",
    "print(rfc_f1s_sum/fold)"
   ]
  },
  {
   "cell_type": "code",
   "execution_count": 29,
   "metadata": {},
   "outputs": [],
   "source": [
    "from gensim.test.utils import common_texts\n",
    "from gensim.models.doc2vec import Doc2Vec, TaggedDocument\n",
    "\n",
    "documents = [TaggedDocument(doc, [i]) for i, doc in enumerate(common_texts)]\n",
    "model = Doc2Vec(documents, vector_size=384, window=2, min_count=1, workers=4)"
   ]
  },
  {
   "cell_type": "code",
   "execution_count": 30,
   "metadata": {},
   "outputs": [],
   "source": [
    "from gensim.test.utils import get_tmpfile\n",
    "fname = get_tmpfile(\"my_doc2vec_model\")\n",
    "model.save(fname)\n",
    "model = Doc2Vec.load(fname)\n",
    "vector = model.infer_vector([\"system\", \"response\"])"
   ]
  },
  {
   "cell_type": "code",
   "execution_count": 40,
   "metadata": {},
   "outputs": [
    {
     "name": "stdout",
     "output_type": "stream",
     "text": [
      "(6945,)\n"
     ]
    }
   ],
   "source": [
    "docRaw = raw\n",
    "docRaw['category'] = dataCSV['category']\n",
    "#docRaw['category'].replace(np.nan, 'NonFlaky', inplace=True)\n",
    "#docRaw = docRaw[(docRaw['category'] == 'ID') | (docRaw['category'] == 'UD') |(docRaw['category'] == 'OD') | (docRaw['category'] == 'OD-Vic') | (docRaw['category'] == 'OD-Brit') | (docRaw['category'] == 'NOD') | (docRaw['category'] == 'NDOD') | (docRaw['category'] == 'NODI')]\n",
    "\n",
    "print(docRaw.shape)"
   ]
  },
  {
   "cell_type": "code",
   "execution_count": 4,
   "metadata": {},
   "outputs": [
    {
     "data": {
      "image/png": "[encoded data removed]",
      "text/plain": [
       "<Figure size 432x288 with 1 Axes>"
      ]
     },
     "metadata": {
      "needs_background": "light"
     },
     "output_type": "display_data"
    }
   ],
   "source": [
    "svmKernelList = ['linear','poly','rbf','sigmoid']\n",
    "doc2vecAccuracy = [0.6033879673,0.6033879673,0.5888818391,0.4496038202]\n",
    "code2vecAccuracy = [0.8299840086,0.8273027949,0.835268571,0.6928319959]\n",
    "tfidfAccuracy = [0.8743485132,0.8606830227,0.873022526,0.7287268895]\n",
    "\n",
    "plt.plot(svmKernelList, doc2vecAccuracy, label = 'doc2vec')\n",
    "plt.plot(svmKernelList, code2vecAccuracy, label = 'code2vec')\n",
    "plt.plot(svmKernelList, tfidfAccuracy, label = 'tfidf')\n",
    "plt.legend()\n",
    "plt.show()"
   ]
  },
  {
   "cell_type": "code",
   "execution_count": 10,
   "metadata": {},
   "outputs": [
    {
     "name": "stdout",
     "output_type": "stream",
     "text": [
      "[(1, 4, 7), (2, 5, 8), (3, 6, 9)]\n"
     ]
    }
   ],
   "source": [
    "m = [ [1, 2, 3],\n",
    "  [4, 5, 6],\n",
    "  [7, 8, 9] ]\n",
    "\n",
    "n = list(reversed(list(zip(*m))[::-1]))\n",
    "print(n)"
   ]
  }
 ],
 "metadata": {
  "kernelspec": {
   "display_name": "Python 3.9.0 64-bit",
   "language": "python",
   "name": "python3"
  },
  "language_info": {
   "codemirror_mode": {
    "name": "ipython",
    "version": 3
   },
   "file_extension": ".py",
   "mimetype": "text/x-python",
   "name": "python",
   "nbconvert_exporter": "python",
   "pygments_lexer": "ipython3",
   "version": "3.9.0"
  },
  "metadata": {
   "interpreter": {
    "hash": "31f2aee4e71d21fbe5cf8b01ff0e069b9275f58929596ceb00d14d90e3e16cd6"
   }
  },
  "orig_nbformat": 2,
  "vscode": {
   "interpreter": {
    "hash": "aee8b7b246df8f9039afb4144a1f6fd8d2ca17a180786b69acc140d282b71a49"
   }
  }
 },
 "nbformat": 4,
 "nbformat_minor": 2
}
