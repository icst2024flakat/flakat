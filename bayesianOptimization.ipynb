{
 "cells": [
  {
   "cell_type": "code",
   "execution_count": 93,
   "metadata": {},
   "outputs": [],
   "source": [
    "import numpy as np\n",
    "import pandas as pd\n",
    "import matplotlib.pyplot as plt\n",
    "import seaborn as sns\n",
    "\n",
    "import imblearn\n",
    "from imblearn.over_sampling import SMOTE\n",
    "from imblearn.under_sampling import TomekLinks\n",
    "from imblearn.under_sampling import RandomUnderSampler\n",
    "\n",
    "\n",
    "from sklearn.model_selection import train_test_split,cross_val_score,StratifiedKFold\n",
    "from sklearn.metrics import confusion_matrix,classification_report,precision_score, recall_score, f1_score, accuracy_score, matthews_corrcoef\n",
    "from sklearn.ensemble import RandomForestClassifier\n",
    "from sklearn.ensemble import GradientBoostingClassifier\n",
    "from sklearn.neighbors import KNeighborsClassifier\n",
    "from sklearn import svm\n",
    "\n",
    "from bayes_opt import BayesianOptimization\n",
    "from sklearn.discriminant_analysis import LinearDiscriminantAnalysis"
   ]
  },
  {
   "cell_type": "code",
   "execution_count": 25,
   "metadata": {},
   "outputs": [],
   "source": [
    "def writeResultToFile(fileName, result):\n",
    "    f = open(fileName, \"a\")\n",
    "    f.write(result)\n",
    "    f.close()"
   ]
  },
  {
   "cell_type": "code",
   "execution_count": 5,
   "metadata": {},
   "outputs": [
    {
     "name": "stderr",
     "output_type": "stream",
     "text": [
      "/var/folders/s8/vyj613fs57b4g86vrn1xc5t80000gn/T/ipykernel_57314/552859148.py:8: SettingWithCopyWarning: \n",
      "A value is trying to be set on a copy of a slice from a DataFrame.\n",
      "Try using .loc[row_indexer,col_indexer] = value instead\n",
      "\n",
      "See the caveats in the documentation: https://pandas.pydata.org/pandas-docs/stable/user_guide/indexing.html#returning-a-view-versus-a-copy\n",
      "  switchedCSV['category'] = dataCSV['category']\n",
      "/usr/local/lib/python3.9/site-packages/pandas/core/generic.py:6619: SettingWithCopyWarning: \n",
      "A value is trying to be set on a copy of a slice from a DataFrame\n",
      "\n",
      "See the caveats in the documentation: https://pandas.pydata.org/pandas-docs/stable/user_guide/indexing.html#returning-a-view-versus-a-copy\n",
      "  return self._update_inplace(result)\n"
     ]
    }
   ],
   "source": [
    "dataCSV = pd.read_csv('extracted-all-projects.csv')\n",
    "vectorCSV = pd.read_csv('vector.csv')\n",
    "\n",
    "raw = dataCSV['raw']\n",
    "dataCSV['id']=range(1, len(dataCSV) + 1)\n",
    "vectorCSV['id']=range(1, len(vectorCSV) + 1)\n",
    "switchedCSV = vectorCSV[['id','name','feature_0','feature_1','feature_2','feature_3','feature_4','feature_5','feature_6','feature_7','feature_8','feature_9','feature_10','feature_11','feature_12','feature_13','feature_14','feature_15','feature_16','feature_17','feature_18','feature_19','feature_20','feature_21','feature_22','feature_23','feature_24','feature_25','feature_26','feature_27','feature_28','feature_29','feature_30','feature_31','feature_32','feature_33','feature_34','feature_35','feature_36','feature_37','feature_38','feature_39','feature_40','feature_41','feature_42','feature_43','feature_44','feature_45','feature_46','feature_47','feature_48','feature_49','feature_50','feature_51','feature_52','feature_53','feature_54','feature_55','feature_56','feature_57','feature_58','feature_59','feature_60','feature_61','feature_62','feature_63','feature_64','feature_65','feature_66','feature_67','feature_68','feature_69','feature_70','feature_71','feature_72','feature_73','feature_74','feature_75','feature_76','feature_77','feature_78','feature_79','feature_80','feature_81','feature_82','feature_83','feature_84','feature_85','feature_86','feature_87','feature_88','feature_89','feature_90','feature_91','feature_92','feature_93','feature_94','feature_95','feature_96','feature_97','feature_98','feature_99','feature_100','feature_101','feature_102','feature_103','feature_104','feature_105','feature_106','feature_107','feature_108','feature_109','feature_110','feature_111','feature_112','feature_113','feature_114','feature_115','feature_116','feature_117','feature_118','feature_119','feature_120','feature_121','feature_122','feature_123','feature_124','feature_125','feature_126','feature_127','feature_128','feature_129','feature_130','feature_131','feature_132','feature_133','feature_134','feature_135','feature_136','feature_137','feature_138','feature_139','feature_140','feature_141','feature_142','feature_143','feature_144','feature_145','feature_146','feature_147','feature_148','feature_149','feature_150','feature_151','feature_152','feature_153','feature_154','feature_155','feature_156','feature_157','feature_158','feature_159','feature_160','feature_161','feature_162','feature_163','feature_164','feature_165','feature_166','feature_167','feature_168','feature_169','feature_170','feature_171','feature_172','feature_173','feature_174','feature_175','feature_176','feature_177','feature_178','feature_179','feature_180','feature_181','feature_182','feature_183','feature_184','feature_185','feature_186','feature_187','feature_188','feature_189','feature_190','feature_191','feature_192','feature_193','feature_194','feature_195','feature_196','feature_197','feature_198','feature_199','feature_200','feature_201','feature_202','feature_203','feature_204','feature_205','feature_206','feature_207','feature_208','feature_209','feature_210','feature_211','feature_212','feature_213','feature_214','feature_215','feature_216','feature_217','feature_218','feature_219','feature_220','feature_221','feature_222','feature_223','feature_224','feature_225','feature_226','feature_227','feature_228','feature_229','feature_230','feature_231','feature_232','feature_233','feature_234','feature_235','feature_236','feature_237','feature_238','feature_239','feature_240','feature_241','feature_242','feature_243','feature_244','feature_245','feature_246','feature_247','feature_248','feature_249','feature_250','feature_251','feature_252','feature_253','feature_254','feature_255','feature_256','feature_257','feature_258','feature_259','feature_260','feature_261','feature_262','feature_263','feature_264','feature_265','feature_266','feature_267','feature_268','feature_269','feature_270','feature_271','feature_272','feature_273','feature_274','feature_275','feature_276','feature_277','feature_278','feature_279','feature_280','feature_281','feature_282','feature_283','feature_284','feature_285','feature_286','feature_287','feature_288','feature_289','feature_290','feature_291','feature_292','feature_293','feature_294','feature_295','feature_296','feature_297','feature_298','feature_299','feature_300','feature_301','feature_302','feature_303','feature_304','feature_305','feature_306','feature_307','feature_308','feature_309','feature_310','feature_311','feature_312','feature_313','feature_314','feature_315','feature_316','feature_317','feature_318','feature_319','feature_320','feature_321','feature_322','feature_323','feature_324','feature_325','feature_326','feature_327','feature_328','feature_329','feature_330','feature_331','feature_332','feature_333','feature_334','feature_335','feature_336','feature_337','feature_338','feature_339','feature_340','feature_341','feature_342','feature_343','feature_344','feature_345','feature_346','feature_347','feature_348','feature_349','feature_350','feature_351','feature_352','feature_353','feature_354','feature_355','feature_356','feature_357','feature_358','feature_359','feature_360','feature_361','feature_362','feature_363','feature_364','feature_365','feature_366','feature_367','feature_368','feature_369','feature_370','feature_371','feature_372','feature_373','feature_374','feature_375','feature_376','feature_377','feature_378','feature_379','feature_380','feature_381','feature_382','feature_383']]\n",
    "switchedCSV['category'] = dataCSV['category']\n",
    "switchedCSV['category'].replace(np.nan, 'NonFlaky', inplace=True)\n",
    "switchedCSV = switchedCSV[(switchedCSV['category'] == 'ID') | (switchedCSV['category'] == 'UD') |(switchedCSV['category'] == 'OD') | (switchedCSV['category'] == 'OD-Vic') | (switchedCSV['category'] == 'OD-Brit') | (switchedCSV['category'] == 'NOD') | (switchedCSV['category'] == 'NDOD') | (switchedCSV['category'] == 'NODI')]\n",
    "features = ['feature_0','feature_1','feature_2','feature_3','feature_4','feature_5','feature_6','feature_7','feature_8','feature_9','feature_10','feature_11','feature_12','feature_13','feature_14','feature_15','feature_16','feature_17','feature_18','feature_19','feature_20','feature_21','feature_22','feature_23','feature_24','feature_25','feature_26','feature_27','feature_28','feature_29','feature_30','feature_31','feature_32','feature_33','feature_34','feature_35','feature_36','feature_37','feature_38','feature_39','feature_40','feature_41','feature_42','feature_43','feature_44','feature_45','feature_46','feature_47','feature_48','feature_49','feature_50','feature_51','feature_52','feature_53','feature_54','feature_55','feature_56','feature_57','feature_58','feature_59','feature_60','feature_61','feature_62','feature_63','feature_64','feature_65','feature_66','feature_67','feature_68','feature_69','feature_70','feature_71','feature_72','feature_73','feature_74','feature_75','feature_76','feature_77','feature_78','feature_79','feature_80','feature_81','feature_82','feature_83','feature_84','feature_85','feature_86','feature_87','feature_88','feature_89','feature_90','feature_91','feature_92','feature_93','feature_94','feature_95','feature_96','feature_97','feature_98','feature_99','feature_100','feature_101','feature_102','feature_103','feature_104','feature_105','feature_106','feature_107','feature_108','feature_109','feature_110','feature_111','feature_112','feature_113','feature_114','feature_115','feature_116','feature_117','feature_118','feature_119','feature_120','feature_121','feature_122','feature_123','feature_124','feature_125','feature_126','feature_127','feature_128','feature_129','feature_130','feature_131','feature_132','feature_133','feature_134','feature_135','feature_136','feature_137','feature_138','feature_139','feature_140','feature_141','feature_142','feature_143','feature_144','feature_145','feature_146','feature_147','feature_148','feature_149','feature_150','feature_151','feature_152','feature_153','feature_154','feature_155','feature_156','feature_157','feature_158','feature_159','feature_160','feature_161','feature_162','feature_163','feature_164','feature_165','feature_166','feature_167','feature_168','feature_169','feature_170','feature_171','feature_172','feature_173','feature_174','feature_175','feature_176','feature_177','feature_178','feature_179','feature_180','feature_181','feature_182','feature_183','feature_184','feature_185','feature_186','feature_187','feature_188','feature_189','feature_190','feature_191','feature_192','feature_193','feature_194','feature_195','feature_196','feature_197','feature_198','feature_199','feature_200','feature_201','feature_202','feature_203','feature_204','feature_205','feature_206','feature_207','feature_208','feature_209','feature_210','feature_211','feature_212','feature_213','feature_214','feature_215','feature_216','feature_217','feature_218','feature_219','feature_220','feature_221','feature_222','feature_223','feature_224','feature_225','feature_226','feature_227','feature_228','feature_229','feature_230','feature_231','feature_232','feature_233','feature_234','feature_235','feature_236','feature_237','feature_238','feature_239','feature_240','feature_241','feature_242','feature_243','feature_244','feature_245','feature_246','feature_247','feature_248','feature_249','feature_250','feature_251','feature_252','feature_253','feature_254','feature_255','feature_256','feature_257','feature_258','feature_259','feature_260','feature_261','feature_262','feature_263','feature_264','feature_265','feature_266','feature_267','feature_268','feature_269','feature_270','feature_271','feature_272','feature_273','feature_274','feature_275','feature_276','feature_277','feature_278','feature_279','feature_280','feature_281','feature_282','feature_283','feature_284','feature_285','feature_286','feature_287','feature_288','feature_289','feature_290','feature_291','feature_292','feature_293','feature_294','feature_295','feature_296','feature_297','feature_298','feature_299','feature_300','feature_301','feature_302','feature_303','feature_304','feature_305','feature_306','feature_307','feature_308','feature_309','feature_310','feature_311','feature_312','feature_313','feature_314','feature_315','feature_316','feature_317','feature_318','feature_319','feature_320','feature_321','feature_322','feature_323','feature_324','feature_325','feature_326','feature_327','feature_328','feature_329','feature_330','feature_331','feature_332','feature_333','feature_334','feature_335','feature_336','feature_337','feature_338','feature_339','feature_340','feature_341','feature_342','feature_343','feature_344','feature_345','feature_346','feature_347','feature_348','feature_349','feature_350','feature_351','feature_352','feature_353','feature_354','feature_355','feature_356','feature_357','feature_358','feature_359','feature_360','feature_361','feature_362','feature_363','feature_364','feature_365','feature_366','feature_367','feature_368','feature_369','feature_370','feature_371','feature_372','feature_373','feature_374','feature_375','feature_376','feature_377','feature_378','feature_379','feature_380','feature_381','feature_382','feature_383']\n",
    "vector_val = switchedCSV[features]\n",
    "vector_cat = switchedCSV['category']"
   ]
  },
  {
   "cell_type": "code",
   "execution_count": 11,
   "metadata": {},
   "outputs": [
    {
     "name": "stdout",
     "output_type": "stream",
     "text": [
      "ID         589\n",
      "OD         307\n",
      "OD-Vic     133\n",
      "NOD        109\n",
      "UD          93\n",
      "OD-Brit     15\n",
      "NDOD        11\n",
      "Name: category, dtype: int64\n"
     ]
    }
   ],
   "source": [
    "print(vector_cat.value_counts())"
   ]
  },
  {
   "cell_type": "code",
   "execution_count": 18,
   "metadata": {},
   "outputs": [
    {
     "name": "stdout",
     "output_type": "stream",
     "text": [
      "ID         589\n",
      "OD         589\n",
      "UD         589\n",
      "OD-Vic     589\n",
      "OD-Brit    589\n",
      "NOD        589\n",
      "NDOD       589\n",
      "Name: category, dtype: int64\n"
     ]
    }
   ],
   "source": [
    "smote = SMOTE()\n",
    "x_smote, y_smote = smote.fit_resample(vector_val, vector_cat)\n",
    "print(y_smote.value_counts())"
   ]
  },
  {
   "cell_type": "code",
   "execution_count": 19,
   "metadata": {},
   "outputs": [
    {
     "name": "stdout",
     "output_type": "stream",
     "text": [
      "ID         579\n",
      "OD         296\n",
      "OD-Vic     124\n",
      "NOD         94\n",
      "UD          84\n",
      "OD-Brit     11\n",
      "NDOD        11\n",
      "Name: category, dtype: int64\n"
     ]
    }
   ],
   "source": [
    "tl = TomekLinks()\n",
    "X_tl, y_tl = tl.fit_resample(vector_val, vector_cat)\n",
    "print(y_tl.value_counts())"
   ]
  },
  {
   "cell_type": "code",
   "execution_count": 107,
   "metadata": {},
   "outputs": [
    {
     "name": "stdout",
     "output_type": "stream",
     "text": [
      "ID         579\n",
      "OD         579\n",
      "UD         579\n",
      "OD-Vic     579\n",
      "OD-Brit    579\n",
      "NOD        579\n",
      "NDOD       579\n",
      "Name: category, dtype: int64\n",
      "ID         589\n",
      "NDOD       589\n",
      "OD-Vic     588\n",
      "OD-Brit    588\n",
      "OD         587\n",
      "UD         584\n",
      "NOD        582\n",
      "Name: category, dtype: int64\n"
     ]
    }
   ],
   "source": [
    "X_tl_smote, y_tl_smote = smote.fit_resample(X_tl, y_tl)\n",
    "print(y_tl_smote.value_counts())\n",
    "x_smote_tl, y_smote_tl = tl.fit_resample(x_smote, y_smote)\n",
    "print(y_smote_tl.value_counts())"
   ]
  },
  {
   "cell_type": "code",
   "execution_count": 105,
   "metadata": {},
   "outputs": [
    {
     "ename": "KeyError",
     "evalue": "'category'",
     "output_type": "error",
     "traceback": [
      "\u001b[0;31m---------------------------------------------------------------------------\u001b[0m",
      "\u001b[0;31mKeyError\u001b[0m                                  Traceback (most recent call last)",
      "\u001b[0;32m/var/folders/s8/vyj613fs57b4g86vrn1xc5t80000gn/T/ipykernel_57314/3963614962.py\u001b[0m in \u001b[0;36m<module>\u001b[0;34m\u001b[0m\n\u001b[0;32m----> 1\u001b[0;31m \u001b[0mprint\u001b[0m\u001b[0;34m(\u001b[0m\u001b[0my_smote_tl\u001b[0m\u001b[0;34m[\u001b[0m\u001b[0;34m'category'\u001b[0m\u001b[0;34m]\u001b[0m\u001b[0;34m)\u001b[0m\u001b[0;34m\u001b[0m\u001b[0;34m\u001b[0m\u001b[0m\n\u001b[0m",
      "\u001b[0;32m/usr/local/lib/python3.9/site-packages/pandas/core/series.py\u001b[0m in \u001b[0;36m__getitem__\u001b[0;34m(self, key)\u001b[0m\n\u001b[1;32m    940\u001b[0m \u001b[0;34m\u001b[0m\u001b[0m\n\u001b[1;32m    941\u001b[0m         \u001b[0;32melif\u001b[0m \u001b[0mkey_is_scalar\u001b[0m\u001b[0;34m:\u001b[0m\u001b[0;34m\u001b[0m\u001b[0;34m\u001b[0m\u001b[0m\n\u001b[0;32m--> 942\u001b[0;31m             \u001b[0;32mreturn\u001b[0m \u001b[0mself\u001b[0m\u001b[0;34m.\u001b[0m\u001b[0m_get_value\u001b[0m\u001b[0;34m(\u001b[0m\u001b[0mkey\u001b[0m\u001b[0;34m)\u001b[0m\u001b[0;34m\u001b[0m\u001b[0;34m\u001b[0m\u001b[0m\n\u001b[0m\u001b[1;32m    943\u001b[0m \u001b[0;34m\u001b[0m\u001b[0m\n\u001b[1;32m    944\u001b[0m         \u001b[0;32mif\u001b[0m \u001b[0mis_hashable\u001b[0m\u001b[0;34m(\u001b[0m\u001b[0mkey\u001b[0m\u001b[0;34m)\u001b[0m\u001b[0;34m:\u001b[0m\u001b[0;34m\u001b[0m\u001b[0;34m\u001b[0m\u001b[0m\n",
      "\u001b[0;32m/usr/local/lib/python3.9/site-packages/pandas/core/series.py\u001b[0m in \u001b[0;36m_get_value\u001b[0;34m(self, label, takeable)\u001b[0m\n\u001b[1;32m   1049\u001b[0m \u001b[0;34m\u001b[0m\u001b[0m\n\u001b[1;32m   1050\u001b[0m         \u001b[0;31m# Similar to Index.get_value, but we do not fall back to positional\u001b[0m\u001b[0;34m\u001b[0m\u001b[0;34m\u001b[0m\u001b[0;34m\u001b[0m\u001b[0m\n\u001b[0;32m-> 1051\u001b[0;31m         \u001b[0mloc\u001b[0m \u001b[0;34m=\u001b[0m \u001b[0mself\u001b[0m\u001b[0;34m.\u001b[0m\u001b[0mindex\u001b[0m\u001b[0;34m.\u001b[0m\u001b[0mget_loc\u001b[0m\u001b[0;34m(\u001b[0m\u001b[0mlabel\u001b[0m\u001b[0;34m)\u001b[0m\u001b[0;34m\u001b[0m\u001b[0;34m\u001b[0m\u001b[0m\n\u001b[0m\u001b[1;32m   1052\u001b[0m         \u001b[0;32mreturn\u001b[0m \u001b[0mself\u001b[0m\u001b[0;34m.\u001b[0m\u001b[0mindex\u001b[0m\u001b[0;34m.\u001b[0m\u001b[0m_get_values_for_loc\u001b[0m\u001b[0;34m(\u001b[0m\u001b[0mself\u001b[0m\u001b[0;34m,\u001b[0m \u001b[0mloc\u001b[0m\u001b[0;34m,\u001b[0m \u001b[0mlabel\u001b[0m\u001b[0;34m)\u001b[0m\u001b[0;34m\u001b[0m\u001b[0;34m\u001b[0m\u001b[0m\n\u001b[1;32m   1053\u001b[0m \u001b[0;34m\u001b[0m\u001b[0m\n",
      "\u001b[0;32m/usr/local/lib/python3.9/site-packages/pandas/core/indexes/range.py\u001b[0m in \u001b[0;36mget_loc\u001b[0;34m(self, key, method, tolerance)\u001b[0m\n\u001b[1;32m    386\u001b[0m                 \u001b[0;32mexcept\u001b[0m \u001b[0mValueError\u001b[0m \u001b[0;32mas\u001b[0m \u001b[0merr\u001b[0m\u001b[0;34m:\u001b[0m\u001b[0;34m\u001b[0m\u001b[0;34m\u001b[0m\u001b[0m\n\u001b[1;32m    387\u001b[0m                     \u001b[0;32mraise\u001b[0m \u001b[0mKeyError\u001b[0m\u001b[0;34m(\u001b[0m\u001b[0mkey\u001b[0m\u001b[0;34m)\u001b[0m \u001b[0;32mfrom\u001b[0m \u001b[0merr\u001b[0m\u001b[0;34m\u001b[0m\u001b[0;34m\u001b[0m\u001b[0m\n\u001b[0;32m--> 388\u001b[0;31m             \u001b[0;32mraise\u001b[0m \u001b[0mKeyError\u001b[0m\u001b[0;34m(\u001b[0m\u001b[0mkey\u001b[0m\u001b[0;34m)\u001b[0m\u001b[0;34m\u001b[0m\u001b[0;34m\u001b[0m\u001b[0m\n\u001b[0m\u001b[1;32m    389\u001b[0m         \u001b[0;32mreturn\u001b[0m \u001b[0msuper\u001b[0m\u001b[0;34m(\u001b[0m\u001b[0;34m)\u001b[0m\u001b[0;34m.\u001b[0m\u001b[0mget_loc\u001b[0m\u001b[0;34m(\u001b[0m\u001b[0mkey\u001b[0m\u001b[0;34m,\u001b[0m \u001b[0mmethod\u001b[0m\u001b[0;34m=\u001b[0m\u001b[0mmethod\u001b[0m\u001b[0;34m,\u001b[0m \u001b[0mtolerance\u001b[0m\u001b[0;34m=\u001b[0m\u001b[0mtolerance\u001b[0m\u001b[0;34m)\u001b[0m\u001b[0;34m\u001b[0m\u001b[0;34m\u001b[0m\u001b[0m\n\u001b[1;32m    390\u001b[0m \u001b[0;34m\u001b[0m\u001b[0m\n",
      "\u001b[0;31mKeyError\u001b[0m: 'category'"
     ]
    }
   ],
   "source": [
    "print(y_smote_tl['category'])"
   ]
  },
  {
   "cell_type": "code",
   "execution_count": 83,
   "metadata": {},
   "outputs": [
    {
     "name": "stdout",
     "output_type": "stream",
     "text": [
      "{'ID': {'precision': 0.9137931034482759, 'recall': 0.9034090909090909, 'f1-score': 0.9085714285714287, 'support': 176}, 'NDOD': {'precision': 0.25, 'recall': 1.0, 'f1-score': 0.4, 'support': 1}, 'NOD': {'precision': 0.4642857142857143, 'recall': 0.43333333333333335, 'f1-score': 0.4482758620689655, 'support': 30}, 'OD': {'precision': 0.9438202247191011, 'recall': 0.9130434782608695, 'f1-score': 0.9281767955801105, 'support': 92}, 'OD-Brit': {'precision': 0.3333333333333333, 'recall': 1.0, 'f1-score': 0.5, 'support': 1}, 'OD-Vic': {'precision': 0.918918918918919, 'recall': 0.9714285714285714, 'f1-score': 0.9444444444444445, 'support': 35}, 'UD': {'precision': 0.88, 'recall': 0.88, 'f1-score': 0.88, 'support': 25}, 'accuracy': 0.8722222222222222, 'macro avg': {'precision': 0.6720216135293349, 'recall': 0.8716020677045523, 'f1-score': 0.7156383615235642, 'support': 360}, 'weighted avg': {'precision': 0.8787030939031133, 'recall': 0.8722222222222222, 'f1-score': 0.8741796334432392, 'support': 360}}\n",
      "Precision:0.8787030939031133\n",
      "Recall:0.8722222222222222\n",
      "F1 Score:0.8741796334432392\n"
     ]
    }
   ],
   "source": [
    "lda = LinearDiscriminantAnalysis(n_components=3)\n",
    "lda_val = lda.fit_transform(X_tl, y_tl)\n",
    "\n",
    "X = lda_val\n",
    "y = y_tl\n",
    "\n",
    "X_train,X_test,y_train,y_test = train_test_split(X,y,test_size=0.3,stratify=y,random_state=42)\n",
    "\n",
    "rf = RandomForestClassifier()\n",
    "rf.fit(X_train,y_train)\n",
    "preds = rf.predict(X_test)\n",
    "print(classification_report(preds,y_test,output_dict=True))\n",
    "print(\"Precision:{}\".format(precision_score(preds,y_test,average='weighted')))\n",
    "print(\"Recall:{}\".format(recall_score(preds,y_test, average='weighted')))\n",
    "print(\"F1 Score:{}\".format((f1_score(preds,y_test, average='weighted'))))\n",
    "\n",
    "fileName = \"sampling_tl.csv\"\n",
    "df = pd.DataFrame(classification_report(preds,y_test,output_dict=True)).transpose()\n",
    "df.to_csv(fileName)\n"
   ]
  },
  {
   "cell_type": "code",
   "execution_count": 95,
   "metadata": {},
   "outputs": [
    {
     "name": "stdout",
     "output_type": "stream",
     "text": [
      "0.8120385307431411\n"
     ]
    }
   ],
   "source": [
    "print(matthews_corrcoef(y_test,preds))"
   ]
  },
  {
   "cell_type": "code",
   "execution_count": 126,
   "metadata": {},
   "outputs": [
    {
     "name": "stdout",
     "output_type": "stream",
     "text": [
      "['ID' 'NOD' 'OD' 'OD-Brit' 'OD-Vic' 'UD']\n",
      "[[164   7   2   0   0   1]\n",
      " [ 11  14   3   0   0   0]\n",
      " [  3   3  83   0   0   0]\n",
      " [  0   1   0   1   0   1]\n",
      " [  0   3   0   0  34   0]\n",
      " [  3   1   0   0   0  21]]\n",
      "[17 15  5  0  0  2]\n",
      "[10 14  6  2  3  4]\n",
      "[164  14  83   1  34  21]\n",
      "[165 313 262 353 319 329]\n",
      "[0.94252874 0.5        0.93258427 0.33333333 0.91891892 0.84      ]\n",
      "[0.90607735 0.48275862 0.94318182 1.         1.         0.91304348]\n",
      "[0.92394366 0.49122807 0.93785311 0.5        0.95774648 0.875     ]\n",
      "0.8232274888979061\n",
      "[0.94252874 0.5        0.93258427 0.33333333 0.91891892 0.84      ]\n",
      "[0.90607735 0.48275862 0.94318182 1.         1.         0.91304348]\n",
      "[0.92394366 0.49122807 0.93785311 0.5        0.95774648 0.875     ]\n",
      "[0.84902831 0.44704937 0.91731916 0.57572163 0.9541266  0.86684608]\n"
     ]
    }
   ],
   "source": [
    "unique, counts = np.unique(preds, return_counts=True)\n",
    "print(unique)\n",
    "cm = confusion_matrix(y_test,preds,labels=unique)\n",
    "print(cm)\n",
    "FP = np.sum(cm, axis=0) - np.diag(cm)  \n",
    "FN = np.sum(cm, axis=1) - np.diag(cm)\n",
    "TP = np.diag(cm)\n",
    "TN = cm[:].sum() - (FP + FN + TP)\n",
    "\n",
    "print(FP)\n",
    "print(FN)\n",
    "print(TP)\n",
    "print(TN)\n",
    "\n",
    "recall = np.diag(cm) / np.sum(cm, axis = 1)\n",
    "precision = np.diag(cm) / np.sum(cm, axis = 0)\n",
    "print(recall)\n",
    "print(precision)\n",
    "f1score = 2*precision*recall/(precision+recall)\n",
    "print(f1score)\n",
    "mcc = matthews_corrcoef(y_test,preds)\n",
    "print(mcc)\n",
    "new_precision = TP/(TP+FN)\n",
    "new_recall = TP/(TP+FP)\n",
    "new_f1score = TP/(TP+0.5*(FP+FN))\n",
    "new_mcc = (TP*TN-FP*FN)/np.sqrt((TP+FP)*(TP+FN)*(TN+FP)*(TN+FN))\n",
    "print(new_precision)\n",
    "print(new_recall)\n",
    "print(new_f1score)\n",
    "print(new_mcc)"
   ]
  },
  {
   "cell_type": "code",
   "execution_count": 125,
   "metadata": {},
   "outputs": [
    {
     "name": "stdout",
     "output_type": "stream",
     "text": [
      "[1.         1.         1.         1.         1.         0.85670732\n",
      " 0.09716599]\n",
      "[0.00689655 0.5        0.00393701 0.01470588 0.04761905 0.97231834\n",
      " 1.        ]\n",
      "[0.01369863 0.66666667 0.00784314 0.02898551 0.09090909 0.910859\n",
      " 0.17712177]\n",
      "[0.07542146 0.70667654 0.05220395 0.1162206  0.21554682 0.86204969\n",
      " 0.20291941]\n"
     ]
    }
   ],
   "source": [
    "FP = np.asarray([144 , 1 ,253 , 67  ,20 ,  8 ,  0], dtype=np.int)\n",
    "FN = np.asarray([  0 ,  0 ,  0 ,  0 ,  0 , 47 ,446], dtype=np.int)\n",
    "TP = np.asarray([1, 1, 1, 1, 1, 281, 48], dtype=np.int)\n",
    "TN = np.asarray([678 ,821 ,569 ,755 ,802, 486, 328], dtype=np.int)\n",
    "precision = TP/(TP+FN)\n",
    "recall = TP/(TP+FP)\n",
    "f1score = TP/(TP+0.5*(FP+FN))\n",
    "mcc = (TP*TN-FP*FN)/np.sqrt((TP+FP)*(TP+FN)*(TN+FP)*(TN+FN))\n",
    "\n",
    "print(precision)\n",
    "print(recall)\n",
    "print(f1score)\n",
    "print(mcc)\n"
   ]
  },
  {
   "cell_type": "code",
   "execution_count": 86,
   "metadata": {},
   "outputs": [
    {
     "name": "stdout",
     "output_type": "stream",
     "text": [
      "{'ID': {'precision': 0.855}}\n"
     ]
    }
   ],
   "source": [
    "result = {}\n",
    "result['ID']={}\n",
    "result['ID']['precision']=[]\n",
    "result['ID']['precision'].append(0.91)\n",
    "result['ID']['precision'].append(0.80)\n",
    "result['ID']['precision'] = sum(result['ID']['precision'])/len(result['ID']['precision'])\n",
    "print(result)"
   ]
  },
  {
   "cell_type": "code",
   "execution_count": 89,
   "metadata": {},
   "outputs": [
    {
     "name": "stdout",
     "output_type": "stream",
     "text": [
      "f1s\n"
     ]
    }
   ],
   "source": [
    "matchers = ['f1s','precision','recall','fdc','mcc']\n",
    "if 'f1s' in matchers:\n",
    "    print('f1s')"
   ]
  },
  {
   "cell_type": "code",
   "execution_count": 88,
   "metadata": {},
   "outputs": [
    {
     "name": "stdout",
     "output_type": "stream",
     "text": [
      "['ID' 'NDOD' 'NOD' 'OD' 'OD-Brit' 'OD-Vic' 'UD']\n"
     ]
    }
   ],
   "source": []
  },
  {
   "cell_type": "code",
   "execution_count": 39,
   "metadata": {},
   "outputs": [
    {
     "name": "stdout",
     "output_type": "stream",
     "text": [
      "              precision    recall  f1-score   support\n",
      "\n",
      "          ID       0.68      0.68      0.68       177\n",
      "        NDOD       1.00      1.00      1.00       177\n",
      "         NOD       0.79      0.72      0.75       192\n",
      "          OD       0.56      0.66      0.60       148\n",
      "     OD-Brit       0.99      1.00      0.99       175\n",
      "      OD-Vic       0.94      0.88      0.91       189\n",
      "          UD       0.97      0.97      0.97       175\n",
      "\n",
      "    accuracy                           0.85      1233\n",
      "   macro avg       0.85      0.84      0.84      1233\n",
      "weighted avg       0.85      0.85      0.85      1233\n",
      "\n",
      "Precision:0.8532836721015615\n",
      "Recall:0.8467153284671532\n",
      "F1 Score:0.8490196637104973\n"
     ]
    }
   ],
   "source": [
    "lda = LinearDiscriminantAnalysis(n_components=3)\n",
    "lda_val = lda.fit_transform(x_smote_tl, y_smote_tl)\n",
    "\n",
    "X = lda_val\n",
    "y = y_smote_tl\n",
    "\n",
    "X_train,X_test,y_train,y_test = train_test_split(X,y,test_size=0.3,stratify=y,random_state=42)\n",
    "\n",
    "rf = RandomForestClassifier()\n",
    "rf.fit(X_train,y_train)\n",
    "preds = rf.predict(X_test)\n",
    "print(classification_report(preds,y_test))\n",
    "print(\"Precision:{}\".format(precision_score(preds,y_test,average='weighted')))\n",
    "print(\"Recall:{}\".format(recall_score(preds,y_test, average='weighted')))\n",
    "print(\"F1 Score:{}\".format((f1_score(preds,y_test, average='weighted'))))\n",
    "\n",
    "fileName = \"sampling_smote_tl.csv\"\n",
    "df = pd.DataFrame(classification_report(preds,y_test,output_dict=True)).transpose()\n",
    "df.to_csv(fileName)"
   ]
  },
  {
   "cell_type": "code",
   "execution_count": 127,
   "metadata": {},
   "outputs": [
    {
     "name": "stdout",
     "output_type": "stream",
     "text": [
      "              precision    recall  f1-score   support\n",
      "\n",
      "          ID       0.94      0.91      0.93       183\n",
      "        NDOD       0.33      1.00      0.50         1\n",
      "         NOD       0.36      0.52      0.43        23\n",
      "          OD       0.89      0.85      0.87        97\n",
      "     OD-Brit       0.00      0.00      0.00         0\n",
      "      OD-Vic       0.93      0.86      0.89        43\n",
      "          UD       0.93      0.84      0.88        31\n",
      "\n",
      "    accuracy                           0.86       378\n",
      "   macro avg       0.63      0.71      0.64       378\n",
      "weighted avg       0.89      0.86      0.87       378\n",
      "\n",
      "Precision:0.8898815414575845\n",
      "Recall:0.8597883597883598\n",
      "F1 Score:0.872934316549428\n"
     ]
    },
    {
     "name": "stderr",
     "output_type": "stream",
     "text": [
      "/usr/local/lib/python3.9/site-packages/sklearn/metrics/_classification.py:1327: UndefinedMetricWarning: Recall and F-score are ill-defined and being set to 0.0 in labels with no true samples. Use `zero_division` parameter to control this behavior.\n",
      "  _warn_prf(average, modifier, msg_start, len(result))\n",
      "/usr/local/lib/python3.9/site-packages/sklearn/metrics/_classification.py:1327: UndefinedMetricWarning: Recall and F-score are ill-defined and being set to 0.0 in labels with no true samples. Use `zero_division` parameter to control this behavior.\n",
      "  _warn_prf(average, modifier, msg_start, len(result))\n",
      "/usr/local/lib/python3.9/site-packages/sklearn/metrics/_classification.py:1327: UndefinedMetricWarning: Recall and F-score are ill-defined and being set to 0.0 in labels with no true samples. Use `zero_division` parameter to control this behavior.\n",
      "  _warn_prf(average, modifier, msg_start, len(result))\n",
      "/usr/local/lib/python3.9/site-packages/sklearn/metrics/_classification.py:1327: UndefinedMetricWarning: Recall is ill-defined and being set to 0.0 in labels with no true samples. Use `zero_division` parameter to control this behavior.\n",
      "  _warn_prf(average, modifier, msg_start, len(result))\n",
      "/usr/local/lib/python3.9/site-packages/sklearn/metrics/_classification.py:1327: UndefinedMetricWarning: Recall and F-score are ill-defined and being set to 0.0 in labels with no true samples. Use `zero_division` parameter to control this behavior.\n",
      "  _warn_prf(average, modifier, msg_start, len(result))\n",
      "/usr/local/lib/python3.9/site-packages/sklearn/metrics/_classification.py:1327: UndefinedMetricWarning: Recall and F-score are ill-defined and being set to 0.0 in labels with no true samples. Use `zero_division` parameter to control this behavior.\n",
      "  _warn_prf(average, modifier, msg_start, len(result))\n",
      "/usr/local/lib/python3.9/site-packages/sklearn/metrics/_classification.py:1327: UndefinedMetricWarning: Recall and F-score are ill-defined and being set to 0.0 in labels with no true samples. Use `zero_division` parameter to control this behavior.\n",
      "  _warn_prf(average, modifier, msg_start, len(result))\n"
     ]
    }
   ],
   "source": [
    "lda = LinearDiscriminantAnalysis(n_components=3)\n",
    "lda_val = lda.fit_transform(vector_val, vector_cat)\n",
    "\n",
    "X = lda_val\n",
    "y = vector_cat\n",
    "\n",
    "X_train,X_test,y_train,y_test = train_test_split(X,y,test_size=0.3,stratify=y,random_state=42)\n",
    "\n",
    "rf = RandomForestClassifier()\n",
    "rf.fit(X_train,y_train)\n",
    "preds = rf.predict(X_test)\n",
    "print(classification_report(preds,y_test))\n",
    "print(\"Precision:{}\".format(precision_score(preds,y_test,average='weighted')))\n",
    "print(\"Recall:{}\".format(recall_score(preds,y_test, average='weighted')))\n",
    "print(\"F1 Score:{}\".format((f1_score(preds,y_test, average='weighted'))))\n",
    "\n",
    "fileName = \"sampling_none.csv\"\n",
    "df = pd.DataFrame(classification_report(preds,y_test,output_dict=True)).transpose()\n",
    "df.to_csv(fileName)"
   ]
  },
  {
   "cell_type": "code",
   "execution_count": 36,
   "metadata": {},
   "outputs": [
    {
     "data": {
      "text/plain": [
       "{'bootstrap': True,\n",
       " 'ccp_alpha': 0.0,\n",
       " 'class_weight': None,\n",
       " 'criterion': 'gini',\n",
       " 'max_depth': None,\n",
       " 'max_features': 'sqrt',\n",
       " 'max_leaf_nodes': None,\n",
       " 'max_samples': None,\n",
       " 'min_impurity_decrease': 0.0,\n",
       " 'min_samples_leaf': 1,\n",
       " 'min_samples_split': 2,\n",
       " 'min_weight_fraction_leaf': 0.0,\n",
       " 'n_estimators': 100,\n",
       " 'n_jobs': None,\n",
       " 'oob_score': False,\n",
       " 'random_state': None,\n",
       " 'verbose': 0,\n",
       " 'warm_start': False}"
      ]
     },
     "execution_count": 36,
     "metadata": {},
     "output_type": "execute_result"
    }
   ],
   "source": [
    "rf.get_params()"
   ]
  },
  {
   "cell_type": "code",
   "execution_count": 128,
   "metadata": {},
   "outputs": [],
   "source": [
    "def stratified_kfold_score(clf,X,y,n_fold):\n",
    "    X,y = X,y.values\n",
    "    strat_kfold = StratifiedKFold(n_splits=n_fold, shuffle=True, random_state=1)\n",
    "    accuracy_list = []\n",
    "\n",
    "    for train_index, test_index in strat_kfold.split(X, y):\n",
    "        x_train_fold, x_test_fold = X[train_index], X[test_index]\n",
    "        y_train_fold, y_test_fold = y[train_index], y[test_index]\n",
    "        clf.fit(x_train_fold, y_train_fold)\n",
    "        preds = clf.predict(x_test_fold)\n",
    "        accuracy_test = accuracy_score(preds,y_test_fold)\n",
    "        print(accuracy_test)\n",
    "        accuracy_list.append(accuracy_test)\n",
    "\n",
    "    return np.array(accuracy_list).mean()\n",
    "\n",
    "    \n",
    "def bo_params_rf(max_samples,n_estimators,min_impurity_decrease,min_samples_leaf,min_samples_split,max_depth,X,y):\n",
    "        \n",
    "    params = {\n",
    "        'max_samples': max_samples,\n",
    "        'max_depth': int(max_depth),\n",
    "        'min_impurity_decrease':min_impurity_decrease,\n",
    "        'min_samples_leaf':int(min_samples_leaf),\n",
    "        'min_samples_split':int(min_samples_split),\n",
    "        'n_estimators':int(n_estimators)\n",
    "    }\n",
    "    clf = RandomForestClassifier(max_samples=params['max_samples'],max_depth=params['max_depth'],min_impurity_decrease=params['min_impurity_decrease'],min_samples_leaf=params['min_samples_leaf'],min_samples_split=params['min_samples_split'],n_estimators=params['n_estimators'])\n",
    "    score = stratified_kfold_score(clf,X, y,5)\n",
    "    return score\n",
    "\n",
    "def bo_params_gbdt(n_estimators,learning_rate,max_depth,min_samples_leaf,min_samples_split):\n",
    "        \n",
    "    params = {\n",
    "        'learning_rate': learning_rate,\n",
    "        'max_depth':int(max_depth),\n",
    "        'min_samples_leaf':int(min_samples_leaf),\n",
    "        'min_samples_split':int(min_samples_split),\n",
    "        'n_estimators':int(n_estimators)\n",
    "    }\n",
    "    clf = GradientBoostingClassifier(learning_rate=params['learning_rate'],max_depth=params['max_depth'],min_samples_leaf=params['min_samples_leaf'],min_samples_split=params['min_samples_split'],n_estimators=params['n_estimators'])\n",
    "    score = stratified_kfold_score(clf,X_train, y_train,5)\n",
    "    return score"
   ]
  },
  {
   "cell_type": "code",
   "execution_count": 131,
   "metadata": {},
   "outputs": [],
   "source": [
    "rf_bo = BayesianOptimization(bo_params_rf, {\n",
    "                                              'max_samples':(0.5,1),\n",
    "                                              'max_depth':(1,200),\n",
    "                                              'min_impurity_decrease':(0,0.5),\n",
    "                                              'min_samples_leaf':(1,200),\n",
    "                                              'min_samples_split':(2,400),\n",
    "                                              'n_estimators':(100,200)\n",
    "                                             })"
   ]
  },
  {
   "cell_type": "code",
   "execution_count": 54,
   "metadata": {},
   "outputs": [
    {
     "name": "stdout",
     "output_type": "stream",
     "text": [
      "|   iter    |  target   | max_depth | max_sa... | min_im... | min_sa... | min_sa... | n_esti... |\n",
      "-------------------------------------------------------------------------------------------------\n",
      "| \u001b[0m 1       \u001b[0m | \u001b[0m 0.1434  \u001b[0m | \u001b[0m 169.7   \u001b[0m | \u001b[0m 0.8177  \u001b[0m | \u001b[0m 0.1853  \u001b[0m | \u001b[0m 67.38   \u001b[0m | \u001b[0m 48.18   \u001b[0m | \u001b[0m 165.4   \u001b[0m |\n",
      "| \u001b[95m 2       \u001b[0m | \u001b[95m 0.6948  \u001b[0m | \u001b[95m 60.47   \u001b[0m | \u001b[95m 0.725   \u001b[0m | \u001b[95m 0.05249 \u001b[0m | \u001b[95m 195.2   \u001b[0m | \u001b[95m 157.7   \u001b[0m | \u001b[95m 137.2   \u001b[0m |\n",
      "| \u001b[0m 3       \u001b[0m | \u001b[0m 0.143   \u001b[0m | \u001b[0m 198.9   \u001b[0m | \u001b[0m 0.8433  \u001b[0m | \u001b[0m 0.3394  \u001b[0m | \u001b[0m 108.2   \u001b[0m | \u001b[0m 52.34   \u001b[0m | \u001b[0m 171.6   \u001b[0m |\n",
      "| \u001b[95m 4       \u001b[0m | \u001b[95m 0.7227  \u001b[0m | \u001b[95m 43.9    \u001b[0m | \u001b[95m 0.969   \u001b[0m | \u001b[95m 0.03465 \u001b[0m | \u001b[95m 178.0   \u001b[0m | \u001b[95m 49.25   \u001b[0m | \u001b[95m 140.0   \u001b[0m |\n",
      "| \u001b[0m 5       \u001b[0m | \u001b[0m 0.143   \u001b[0m | \u001b[0m 78.48   \u001b[0m | \u001b[0m 0.7509  \u001b[0m | \u001b[0m 0.4424  \u001b[0m | \u001b[0m 109.7   \u001b[0m | \u001b[0m 125.5   \u001b[0m | \u001b[0m 157.8   \u001b[0m |\n",
      "| \u001b[95m 6       \u001b[0m | \u001b[95m 0.7651  \u001b[0m | \u001b[95m 104.5   \u001b[0m | \u001b[95m 0.9018  \u001b[0m | \u001b[95m 0.002188\u001b[0m | \u001b[95m 146.9   \u001b[0m | \u001b[95m 74.48   \u001b[0m | \u001b[95m 184.8   \u001b[0m |\n",
      "| \u001b[0m 7       \u001b[0m | \u001b[0m 0.1427  \u001b[0m | \u001b[0m 28.41   \u001b[0m | \u001b[0m 0.6199  \u001b[0m | \u001b[0m 0.2901  \u001b[0m | \u001b[0m 153.0   \u001b[0m | \u001b[0m 2.247   \u001b[0m | \u001b[0m 148.2   \u001b[0m |\n",
      "| \u001b[0m 8       \u001b[0m | \u001b[0m 0.143   \u001b[0m | \u001b[0m 22.78   \u001b[0m | \u001b[0m 0.5586  \u001b[0m | \u001b[0m 0.2901  \u001b[0m | \u001b[0m 151.4   \u001b[0m | \u001b[0m 276.1   \u001b[0m | \u001b[0m 178.2   \u001b[0m |\n",
      "| \u001b[0m 9       \u001b[0m | \u001b[0m 0.1427  \u001b[0m | \u001b[0m 190.8   \u001b[0m | \u001b[0m 0.9718  \u001b[0m | \u001b[0m 0.2698  \u001b[0m | \u001b[0m 168.6   \u001b[0m | \u001b[0m 54.59   \u001b[0m | \u001b[0m 147.1   \u001b[0m |\n",
      "| \u001b[0m 10      \u001b[0m | \u001b[0m 0.7279  \u001b[0m | \u001b[0m 65.79   \u001b[0m | \u001b[0m 0.9523  \u001b[0m | \u001b[0m 0.07713 \u001b[0m | \u001b[0m 30.6    \u001b[0m | \u001b[0m 217.6   \u001b[0m | \u001b[0m 185.8   \u001b[0m |\n",
      "| \u001b[0m 11      \u001b[0m | \u001b[0m 0.2286  \u001b[0m | \u001b[0m 167.3   \u001b[0m | \u001b[0m 0.9107  \u001b[0m | \u001b[0m 0.155   \u001b[0m | \u001b[0m 81.54   \u001b[0m | \u001b[0m 367.1   \u001b[0m | \u001b[0m 156.2   \u001b[0m |\n",
      "| \u001b[0m 12      \u001b[0m | \u001b[0m 0.1434  \u001b[0m | \u001b[0m 7.381   \u001b[0m | \u001b[0m 0.5956  \u001b[0m | \u001b[0m 0.3176  \u001b[0m | \u001b[0m 126.4   \u001b[0m | \u001b[0m 45.26   \u001b[0m | \u001b[0m 132.4   \u001b[0m |\n",
      "| \u001b[0m 13      \u001b[0m | \u001b[0m 0.143   \u001b[0m | \u001b[0m 108.2   \u001b[0m | \u001b[0m 0.6854  \u001b[0m | \u001b[0m 0.2706  \u001b[0m | \u001b[0m 4.774   \u001b[0m | \u001b[0m 47.42   \u001b[0m | \u001b[0m 183.4   \u001b[0m |\n",
      "| \u001b[0m 14      \u001b[0m | \u001b[0m 0.1427  \u001b[0m | \u001b[0m 147.1   \u001b[0m | \u001b[0m 0.8554  \u001b[0m | \u001b[0m 0.2323  \u001b[0m | \u001b[0m 84.36   \u001b[0m | \u001b[0m 142.4   \u001b[0m | \u001b[0m 116.4   \u001b[0m |\n",
      "| \u001b[0m 15      \u001b[0m | \u001b[0m 0.7241  \u001b[0m | \u001b[0m 2.397   \u001b[0m | \u001b[0m 0.5304  \u001b[0m | \u001b[0m 0.0569  \u001b[0m | \u001b[0m 24.27   \u001b[0m | \u001b[0m 258.3   \u001b[0m | \u001b[0m 130.2   \u001b[0m |\n",
      "| \u001b[0m 16      \u001b[0m | \u001b[0m 0.143   \u001b[0m | \u001b[0m 19.54   \u001b[0m | \u001b[0m 0.8699  \u001b[0m | \u001b[0m 0.1974  \u001b[0m | \u001b[0m 4.494   \u001b[0m | \u001b[0m 322.2   \u001b[0m | \u001b[0m 199.6   \u001b[0m |\n",
      "| \u001b[0m 17      \u001b[0m | \u001b[0m 0.5045  \u001b[0m | \u001b[0m 128.5   \u001b[0m | \u001b[0m 0.6354  \u001b[0m | \u001b[0m 0.1504  \u001b[0m | \u001b[0m 7.143   \u001b[0m | \u001b[0m 206.1   \u001b[0m | \u001b[0m 158.1   \u001b[0m |\n",
      "| \u001b[0m 18      \u001b[0m | \u001b[0m 0.143   \u001b[0m | \u001b[0m 158.1   \u001b[0m | \u001b[0m 0.8622  \u001b[0m | \u001b[0m 0.356   \u001b[0m | \u001b[0m 174.8   \u001b[0m | \u001b[0m 173.1   \u001b[0m | \u001b[0m 193.0   \u001b[0m |\n",
      "| \u001b[0m 19      \u001b[0m | \u001b[0m 0.1427  \u001b[0m | \u001b[0m 84.83   \u001b[0m | \u001b[0m 0.8533  \u001b[0m | \u001b[0m 0.3112  \u001b[0m | \u001b[0m 137.6   \u001b[0m | \u001b[0m 51.67   \u001b[0m | \u001b[0m 105.4   \u001b[0m |\n",
      "| \u001b[0m 20      \u001b[0m | \u001b[0m 0.7606  \u001b[0m | \u001b[0m 171.5   \u001b[0m | \u001b[0m 0.7604  \u001b[0m | \u001b[0m 0.01599 \u001b[0m | \u001b[0m 20.1    \u001b[0m | \u001b[0m 320.5   \u001b[0m | \u001b[0m 138.6   \u001b[0m |\n",
      "| \u001b[0m 21      \u001b[0m | \u001b[0m 0.143   \u001b[0m | \u001b[0m 62.73   \u001b[0m | \u001b[0m 0.9946  \u001b[0m | \u001b[0m 0.2215  \u001b[0m | \u001b[0m 188.4   \u001b[0m | \u001b[0m 160.7   \u001b[0m | \u001b[0m 133.7   \u001b[0m |\n",
      "| \u001b[0m 22      \u001b[0m | \u001b[0m 0.143   \u001b[0m | \u001b[0m 146.6   \u001b[0m | \u001b[0m 0.5522  \u001b[0m | \u001b[0m 0.3033  \u001b[0m | \u001b[0m 37.36   \u001b[0m | \u001b[0m 265.2   \u001b[0m | \u001b[0m 169.0   \u001b[0m |\n",
      "| \u001b[95m 23      \u001b[0m | \u001b[95m 0.7651  \u001b[0m | \u001b[95m 54.75   \u001b[0m | \u001b[95m 0.7905  \u001b[0m | \u001b[95m 0.007407\u001b[0m | \u001b[95m 57.73   \u001b[0m | \u001b[95m 380.1   \u001b[0m | \u001b[95m 161.9   \u001b[0m |\n",
      "| \u001b[0m 24      \u001b[0m | \u001b[0m 0.1427  \u001b[0m | \u001b[0m 40.25   \u001b[0m | \u001b[0m 0.6102  \u001b[0m | \u001b[0m 0.1933  \u001b[0m | \u001b[0m 90.73   \u001b[0m | \u001b[0m 232.5   \u001b[0m | \u001b[0m 136.5   \u001b[0m |\n",
      "| \u001b[0m 25      \u001b[0m | \u001b[0m 0.1434  \u001b[0m | \u001b[0m 149.5   \u001b[0m | \u001b[0m 0.6227  \u001b[0m | \u001b[0m 0.4263  \u001b[0m | \u001b[0m 71.32   \u001b[0m | \u001b[0m 46.11   \u001b[0m | \u001b[0m 145.3   \u001b[0m |\n",
      "| \u001b[0m 26      \u001b[0m | \u001b[0m 0.7195  \u001b[0m | \u001b[0m 187.6   \u001b[0m | \u001b[0m 0.5243  \u001b[0m | \u001b[0m 0.06315 \u001b[0m | \u001b[0m 1.428   \u001b[0m | \u001b[0m 11.4    \u001b[0m | \u001b[0m 168.1   \u001b[0m |\n",
      "| \u001b[0m 27      \u001b[0m | \u001b[0m 0.7213  \u001b[0m | \u001b[0m 68.38   \u001b[0m | \u001b[0m 0.7224  \u001b[0m | \u001b[0m 0.0765  \u001b[0m | \u001b[0m 97.18   \u001b[0m | \u001b[0m 184.8   \u001b[0m | \u001b[0m 155.0   \u001b[0m |\n",
      "| \u001b[0m 28      \u001b[0m | \u001b[0m 0.4791  \u001b[0m | \u001b[0m 7.001   \u001b[0m | \u001b[0m 0.8932  \u001b[0m | \u001b[0m 0.1476  \u001b[0m | \u001b[0m 68.8    \u001b[0m | \u001b[0m 59.34   \u001b[0m | \u001b[0m 199.6   \u001b[0m |\n",
      "| \u001b[0m 29      \u001b[0m | \u001b[0m 0.1427  \u001b[0m | \u001b[0m 20.22   \u001b[0m | \u001b[0m 0.748   \u001b[0m | \u001b[0m 0.1826  \u001b[0m | \u001b[0m 25.61   \u001b[0m | \u001b[0m 159.9   \u001b[0m | \u001b[0m 112.0   \u001b[0m |\n",
      "| \u001b[0m 30      \u001b[0m | \u001b[0m 0.1434  \u001b[0m | \u001b[0m 40.65   \u001b[0m | \u001b[0m 0.9916  \u001b[0m | \u001b[0m 0.2827  \u001b[0m | \u001b[0m 63.45   \u001b[0m | \u001b[0m 136.1   \u001b[0m | \u001b[0m 190.1   \u001b[0m |\n",
      "| \u001b[0m 31      \u001b[0m | \u001b[0m 0.7648  \u001b[0m | \u001b[0m 43.26   \u001b[0m | \u001b[0m 0.8129  \u001b[0m | \u001b[0m 0.01029 \u001b[0m | \u001b[0m 102.1   \u001b[0m | \u001b[0m 185.2   \u001b[0m | \u001b[0m 120.0   \u001b[0m |\n",
      "| \u001b[0m 32      \u001b[0m | \u001b[0m 0.7307  \u001b[0m | \u001b[0m 106.9   \u001b[0m | \u001b[0m 0.7006  \u001b[0m | \u001b[0m 0.04237 \u001b[0m | \u001b[0m 131.7   \u001b[0m | \u001b[0m 114.3   \u001b[0m | \u001b[0m 126.1   \u001b[0m |\n",
      "| \u001b[0m 33      \u001b[0m | \u001b[0m 0.564   \u001b[0m | \u001b[0m 176.4   \u001b[0m | \u001b[0m 0.9161  \u001b[0m | \u001b[0m 0.1361  \u001b[0m | \u001b[0m 35.18   \u001b[0m | \u001b[0m 90.13   \u001b[0m | \u001b[0m 177.1   \u001b[0m |\n",
      "| \u001b[0m 34      \u001b[0m | \u001b[0m 0.1427  \u001b[0m | \u001b[0m 125.9   \u001b[0m | \u001b[0m 0.9189  \u001b[0m | \u001b[0m 0.4619  \u001b[0m | \u001b[0m 95.86   \u001b[0m | \u001b[0m 222.3   \u001b[0m | \u001b[0m 198.8   \u001b[0m |\n",
      "| \u001b[0m 35      \u001b[0m | \u001b[0m 0.143   \u001b[0m | \u001b[0m 133.7   \u001b[0m | \u001b[0m 0.5106  \u001b[0m | \u001b[0m 0.4811  \u001b[0m | \u001b[0m 124.2   \u001b[0m | \u001b[0m 15.99   \u001b[0m | \u001b[0m 121.4   \u001b[0m |\n",
      "| \u001b[0m 36      \u001b[0m | \u001b[0m 0.7223  \u001b[0m | \u001b[0m 109.4   \u001b[0m | \u001b[0m 0.9569  \u001b[0m | \u001b[0m 0.06716 \u001b[0m | \u001b[0m 123.0   \u001b[0m | \u001b[0m 268.9   \u001b[0m | \u001b[0m 167.4   \u001b[0m |\n",
      "| \u001b[0m 37      \u001b[0m | \u001b[0m 0.143   \u001b[0m | \u001b[0m 104.5   \u001b[0m | \u001b[0m 0.7055  \u001b[0m | \u001b[0m 0.248   \u001b[0m | \u001b[0m 85.08   \u001b[0m | \u001b[0m 81.67   \u001b[0m | \u001b[0m 117.8   \u001b[0m |\n",
      "| \u001b[0m 38      \u001b[0m | \u001b[0m 0.143   \u001b[0m | \u001b[0m 129.3   \u001b[0m | \u001b[0m 0.6695  \u001b[0m | \u001b[0m 0.403   \u001b[0m | \u001b[0m 133.4   \u001b[0m | \u001b[0m 192.2   \u001b[0m | \u001b[0m 181.3   \u001b[0m |\n",
      "| \u001b[0m 39      \u001b[0m | \u001b[0m 0.6712  \u001b[0m | \u001b[0m 116.6   \u001b[0m | \u001b[0m 0.703   \u001b[0m | \u001b[0m 0.1231  \u001b[0m | \u001b[0m 106.0   \u001b[0m | \u001b[0m 64.36   \u001b[0m | \u001b[0m 189.3   \u001b[0m |\n",
      "| \u001b[0m 40      \u001b[0m | \u001b[0m 0.1434  \u001b[0m | \u001b[0m 103.3   \u001b[0m | \u001b[0m 0.8129  \u001b[0m | \u001b[0m 0.2464  \u001b[0m | \u001b[0m 134.4   \u001b[0m | \u001b[0m 335.4   \u001b[0m | \u001b[0m 129.1   \u001b[0m |\n",
      "| \u001b[95m 41      \u001b[0m | \u001b[95m 0.7728  \u001b[0m | \u001b[95m 94.28   \u001b[0m | \u001b[95m 0.9882  \u001b[0m | \u001b[95m 0.001613\u001b[0m | \u001b[95m 42.69   \u001b[0m | \u001b[95m 259.0   \u001b[0m | \u001b[95m 113.1   \u001b[0m |\n",
      "| \u001b[0m 42      \u001b[0m | \u001b[0m 0.5874  \u001b[0m | \u001b[0m 62.38   \u001b[0m | \u001b[0m 0.9704  \u001b[0m | \u001b[0m 0.1271  \u001b[0m | \u001b[0m 169.4   \u001b[0m | \u001b[0m 229.6   \u001b[0m | \u001b[0m 175.5   \u001b[0m |\n",
      "| \u001b[0m 43      \u001b[0m | \u001b[0m 0.143   \u001b[0m | \u001b[0m 29.3    \u001b[0m | \u001b[0m 0.5517  \u001b[0m | \u001b[0m 0.3084  \u001b[0m | \u001b[0m 78.88   \u001b[0m | \u001b[0m 31.7    \u001b[0m | \u001b[0m 116.9   \u001b[0m |\n",
      "| \u001b[0m 44      \u001b[0m | \u001b[0m 0.1427  \u001b[0m | \u001b[0m 154.5   \u001b[0m | \u001b[0m 0.6797  \u001b[0m | \u001b[0m 0.3626  \u001b[0m | \u001b[0m 111.6   \u001b[0m | \u001b[0m 348.5   \u001b[0m | \u001b[0m 178.7   \u001b[0m |\n",
      "| \u001b[0m 45      \u001b[0m | \u001b[0m 0.143   \u001b[0m | \u001b[0m 168.4   \u001b[0m | \u001b[0m 0.5118  \u001b[0m | \u001b[0m 0.3467  \u001b[0m | \u001b[0m 29.96   \u001b[0m | \u001b[0m 386.5   \u001b[0m | \u001b[0m 153.4   \u001b[0m |\n",
      "| \u001b[0m 46      \u001b[0m | \u001b[0m 0.7216  \u001b[0m | \u001b[0m 7.784   \u001b[0m | \u001b[0m 0.7257  \u001b[0m | \u001b[0m 0.05383 \u001b[0m | \u001b[0m 49.93   \u001b[0m | \u001b[0m 19.82   \u001b[0m | \u001b[0m 144.5   \u001b[0m |\n",
      "| \u001b[0m 47      \u001b[0m | \u001b[0m 0.143   \u001b[0m | \u001b[0m 41.73   \u001b[0m | \u001b[0m 0.6517  \u001b[0m | \u001b[0m 0.3243  \u001b[0m | \u001b[0m 26.67   \u001b[0m | \u001b[0m 16.41   \u001b[0m | \u001b[0m 125.3   \u001b[0m |\n",
      "| \u001b[0m 48      \u001b[0m | \u001b[0m 0.143   \u001b[0m | \u001b[0m 138.1   \u001b[0m | \u001b[0m 0.8646  \u001b[0m | \u001b[0m 0.4689  \u001b[0m | \u001b[0m 42.36   \u001b[0m | \u001b[0m 281.1   \u001b[0m | \u001b[0m 102.8   \u001b[0m |\n",
      "| \u001b[0m 49      \u001b[0m | \u001b[0m 0.1437  \u001b[0m | \u001b[0m 31.39   \u001b[0m | \u001b[0m 0.5518  \u001b[0m | \u001b[0m 0.4737  \u001b[0m | \u001b[0m 192.1   \u001b[0m | \u001b[0m 242.5   \u001b[0m | \u001b[0m 196.9   \u001b[0m |\n",
      "| \u001b[0m 50      \u001b[0m | \u001b[0m 0.143   \u001b[0m | \u001b[0m 18.08   \u001b[0m | \u001b[0m 0.9894  \u001b[0m | \u001b[0m 0.1827  \u001b[0m | \u001b[0m 140.9   \u001b[0m | \u001b[0m 284.6   \u001b[0m | \u001b[0m 150.4   \u001b[0m |\n",
      "| \u001b[0m 51      \u001b[0m | \u001b[0m 0.1434  \u001b[0m | \u001b[0m 99.44   \u001b[0m | \u001b[0m 0.8765  \u001b[0m | \u001b[0m 0.3386  \u001b[0m | \u001b[0m 159.8   \u001b[0m | \u001b[0m 50.51   \u001b[0m | \u001b[0m 173.0   \u001b[0m |\n",
      "| \u001b[0m 52      \u001b[0m | \u001b[0m 0.1427  \u001b[0m | \u001b[0m 199.0   \u001b[0m | \u001b[0m 0.838   \u001b[0m | \u001b[0m 0.4122  \u001b[0m | \u001b[0m 93.56   \u001b[0m | \u001b[0m 217.1   \u001b[0m | \u001b[0m 123.3   \u001b[0m |\n",
      "| \u001b[0m 53      \u001b[0m | \u001b[0m 0.6837  \u001b[0m | \u001b[0m 63.59   \u001b[0m | \u001b[0m 0.5985  \u001b[0m | \u001b[0m 0.104   \u001b[0m | \u001b[0m 134.4   \u001b[0m | \u001b[0m 113.1   \u001b[0m | \u001b[0m 151.9   \u001b[0m |\n",
      "| \u001b[0m 54      \u001b[0m | \u001b[0m 0.1434  \u001b[0m | \u001b[0m 72.32   \u001b[0m | \u001b[0m 0.8299  \u001b[0m | \u001b[0m 0.2703  \u001b[0m | \u001b[0m 105.4   \u001b[0m | \u001b[0m 20.41   \u001b[0m | \u001b[0m 120.1   \u001b[0m |\n",
      "| \u001b[0m 55      \u001b[0m | \u001b[0m 0.143   \u001b[0m | \u001b[0m 130.3   \u001b[0m | \u001b[0m 0.5791  \u001b[0m | \u001b[0m 0.3079  \u001b[0m | \u001b[0m 49.6    \u001b[0m | \u001b[0m 298.1   \u001b[0m | \u001b[0m 130.9   \u001b[0m |\n",
      "| \u001b[0m 56      \u001b[0m | \u001b[0m 0.143   \u001b[0m | \u001b[0m 196.6   \u001b[0m | \u001b[0m 0.8419  \u001b[0m | \u001b[0m 0.4217  \u001b[0m | \u001b[0m 25.49   \u001b[0m | \u001b[0m 229.6   \u001b[0m | \u001b[0m 106.0   \u001b[0m |\n",
      "| \u001b[0m 57      \u001b[0m | \u001b[0m 0.1434  \u001b[0m | \u001b[0m 25.05   \u001b[0m | \u001b[0m 0.8152  \u001b[0m | \u001b[0m 0.3591  \u001b[0m | \u001b[0m 133.4   \u001b[0m | \u001b[0m 207.7   \u001b[0m | \u001b[0m 106.4   \u001b[0m |\n",
      "| \u001b[0m 58      \u001b[0m | \u001b[0m 0.1427  \u001b[0m | \u001b[0m 188.8   \u001b[0m | \u001b[0m 0.8331  \u001b[0m | \u001b[0m 0.4341  \u001b[0m | \u001b[0m 19.17   \u001b[0m | \u001b[0m 102.0   \u001b[0m | \u001b[0m 149.4   \u001b[0m |\n",
      "| \u001b[0m 59      \u001b[0m | \u001b[0m 0.143   \u001b[0m | \u001b[0m 67.67   \u001b[0m | \u001b[0m 0.9813  \u001b[0m | \u001b[0m 0.2376  \u001b[0m | \u001b[0m 110.3   \u001b[0m | \u001b[0m 300.9   \u001b[0m | \u001b[0m 163.3   \u001b[0m |\n",
      "| \u001b[0m 60      \u001b[0m | \u001b[0m 0.1427  \u001b[0m | \u001b[0m 25.08   \u001b[0m | \u001b[0m 0.7038  \u001b[0m | \u001b[0m 0.2863  \u001b[0m | \u001b[0m 143.4   \u001b[0m | \u001b[0m 392.5   \u001b[0m | \u001b[0m 131.9   \u001b[0m |\n",
      "| \u001b[0m 61      \u001b[0m | \u001b[0m 0.1427  \u001b[0m | \u001b[0m 176.1   \u001b[0m | \u001b[0m 0.9358  \u001b[0m | \u001b[0m 0.282   \u001b[0m | \u001b[0m 90.75   \u001b[0m | \u001b[0m 267.2   \u001b[0m | \u001b[0m 178.6   \u001b[0m |\n",
      "| \u001b[0m 62      \u001b[0m | \u001b[0m 0.5651  \u001b[0m | \u001b[0m 33.82   \u001b[0m | \u001b[0m 0.8545  \u001b[0m | \u001b[0m 0.1287  \u001b[0m | \u001b[0m 114.2   \u001b[0m | \u001b[0m 324.2   \u001b[0m | \u001b[0m 177.5   \u001b[0m |\n",
      "| \u001b[0m 63      \u001b[0m | \u001b[0m 0.6127  \u001b[0m | \u001b[0m 41.83   \u001b[0m | \u001b[0m 0.5676  \u001b[0m | \u001b[0m 0.1048  \u001b[0m | \u001b[0m 185.8   \u001b[0m | \u001b[0m 48.57   \u001b[0m | \u001b[0m 193.0   \u001b[0m |\n",
      "| \u001b[0m 64      \u001b[0m | \u001b[0m 0.1434  \u001b[0m | \u001b[0m 134.8   \u001b[0m | \u001b[0m 0.6904  \u001b[0m | \u001b[0m 0.1659  \u001b[0m | \u001b[0m 109.2   \u001b[0m | \u001b[0m 319.0   \u001b[0m | \u001b[0m 130.3   \u001b[0m |\n",
      "| \u001b[0m 65      \u001b[0m | \u001b[0m 0.143   \u001b[0m | \u001b[0m 128.5   \u001b[0m | \u001b[0m 0.907   \u001b[0m | \u001b[0m 0.1935  \u001b[0m | \u001b[0m 25.51   \u001b[0m | \u001b[0m 294.3   \u001b[0m | \u001b[0m 119.9   \u001b[0m |\n",
      "| \u001b[0m 66      \u001b[0m | \u001b[0m 0.1434  \u001b[0m | \u001b[0m 170.9   \u001b[0m | \u001b[0m 0.6184  \u001b[0m | \u001b[0m 0.3046  \u001b[0m | \u001b[0m 4.802   \u001b[0m | \u001b[0m 172.2   \u001b[0m | \u001b[0m 121.2   \u001b[0m |\n",
      "| \u001b[0m 67      \u001b[0m | \u001b[0m 0.1427  \u001b[0m | \u001b[0m 187.9   \u001b[0m | \u001b[0m 0.6886  \u001b[0m | \u001b[0m 0.3042  \u001b[0m | \u001b[0m 193.5   \u001b[0m | \u001b[0m 38.02   \u001b[0m | \u001b[0m 179.3   \u001b[0m |\n",
      "| \u001b[0m 68      \u001b[0m | \u001b[0m 0.1434  \u001b[0m | \u001b[0m 78.81   \u001b[0m | \u001b[0m 0.7086  \u001b[0m | \u001b[0m 0.4995  \u001b[0m | \u001b[0m 58.87   \u001b[0m | \u001b[0m 225.3   \u001b[0m | \u001b[0m 128.9   \u001b[0m |\n",
      "| \u001b[0m 69      \u001b[0m | \u001b[0m 0.7195  \u001b[0m | \u001b[0m 198.9   \u001b[0m | \u001b[0m 0.7267  \u001b[0m | \u001b[0m 0.07653 \u001b[0m | \u001b[0m 23.78   \u001b[0m | \u001b[0m 284.4   \u001b[0m | \u001b[0m 181.5   \u001b[0m |\n",
      "| \u001b[0m 70      \u001b[0m | \u001b[0m 0.1427  \u001b[0m | \u001b[0m 188.5   \u001b[0m | \u001b[0m 0.9736  \u001b[0m | \u001b[0m 0.294   \u001b[0m | \u001b[0m 79.42   \u001b[0m | \u001b[0m 143.9   \u001b[0m | \u001b[0m 182.7   \u001b[0m |\n",
      "| \u001b[0m 71      \u001b[0m | \u001b[0m 0.7491  \u001b[0m | \u001b[0m 44.95   \u001b[0m | \u001b[0m 0.6728  \u001b[0m | \u001b[0m 0.03116 \u001b[0m | \u001b[0m 78.73   \u001b[0m | \u001b[0m 155.0   \u001b[0m | \u001b[0m 136.4   \u001b[0m |\n",
      "| \u001b[0m 72      \u001b[0m | \u001b[0m 0.7171  \u001b[0m | \u001b[0m 175.0   \u001b[0m | \u001b[0m 0.5779  \u001b[0m | \u001b[0m 0.04111 \u001b[0m | \u001b[0m 60.1    \u001b[0m | \u001b[0m 281.3   \u001b[0m | \u001b[0m 199.4   \u001b[0m |\n",
      "| \u001b[0m 73      \u001b[0m | \u001b[0m 0.143   \u001b[0m | \u001b[0m 140.8   \u001b[0m | \u001b[0m 0.8301  \u001b[0m | \u001b[0m 0.1738  \u001b[0m | \u001b[0m 43.58   \u001b[0m | \u001b[0m 241.8   \u001b[0m | \u001b[0m 112.2   \u001b[0m |\n",
      "| \u001b[0m 74      \u001b[0m | \u001b[0m 0.143   \u001b[0m | \u001b[0m 138.7   \u001b[0m | \u001b[0m 0.7988  \u001b[0m | \u001b[0m 0.4659  \u001b[0m | \u001b[0m 106.2   \u001b[0m | \u001b[0m 169.3   \u001b[0m | \u001b[0m 107.3   \u001b[0m |\n",
      "| \u001b[0m 75      \u001b[0m | \u001b[0m 0.143   \u001b[0m | \u001b[0m 41.75   \u001b[0m | \u001b[0m 0.5281  \u001b[0m | \u001b[0m 0.1844  \u001b[0m | \u001b[0m 93.41   \u001b[0m | \u001b[0m 364.7   \u001b[0m | \u001b[0m 185.3   \u001b[0m |\n",
      "| \u001b[0m 76      \u001b[0m | \u001b[0m 0.1427  \u001b[0m | \u001b[0m 47.23   \u001b[0m | \u001b[0m 0.8275  \u001b[0m | \u001b[0m 0.4138  \u001b[0m | \u001b[0m 34.62   \u001b[0m | \u001b[0m 324.7   \u001b[0m | \u001b[0m 132.7   \u001b[0m |\n",
      "| \u001b[0m 77      \u001b[0m | \u001b[0m 0.143   \u001b[0m | \u001b[0m 98.55   \u001b[0m | \u001b[0m 0.7529  \u001b[0m | \u001b[0m 0.2216  \u001b[0m | \u001b[0m 135.2   \u001b[0m | \u001b[0m 341.5   \u001b[0m | \u001b[0m 199.9   \u001b[0m |\n",
      "| \u001b[0m 78      \u001b[0m | \u001b[0m 0.6701  \u001b[0m | \u001b[0m 119.9   \u001b[0m | \u001b[0m 0.5068  \u001b[0m | \u001b[0m 0.04163 \u001b[0m | \u001b[0m 160.8   \u001b[0m | \u001b[0m 75.58   \u001b[0m | \u001b[0m 172.0   \u001b[0m |\n",
      "| \u001b[0m 79      \u001b[0m | \u001b[0m 0.1434  \u001b[0m | \u001b[0m 87.26   \u001b[0m | \u001b[0m 0.6729  \u001b[0m | \u001b[0m 0.279   \u001b[0m | \u001b[0m 98.85   \u001b[0m | \u001b[0m 92.91   \u001b[0m | \u001b[0m 152.5   \u001b[0m |\n",
      "| \u001b[0m 80      \u001b[0m | \u001b[0m 0.143   \u001b[0m | \u001b[0m 97.67   \u001b[0m | \u001b[0m 0.8513  \u001b[0m | \u001b[0m 0.2218  \u001b[0m | \u001b[0m 175.4   \u001b[0m | \u001b[0m 379.1   \u001b[0m | \u001b[0m 154.9   \u001b[0m |\n",
      "| \u001b[0m 81      \u001b[0m | \u001b[0m 0.7133  \u001b[0m | \u001b[0m 8.58    \u001b[0m | \u001b[0m 0.8063  \u001b[0m | \u001b[0m 0.0959  \u001b[0m | \u001b[0m 171.6   \u001b[0m | \u001b[0m 67.4    \u001b[0m | \u001b[0m 103.8   \u001b[0m |\n",
      "| \u001b[0m 82      \u001b[0m | \u001b[0m 0.1427  \u001b[0m | \u001b[0m 107.8   \u001b[0m | \u001b[0m 0.6534  \u001b[0m | \u001b[0m 0.4234  \u001b[0m | \u001b[0m 124.5   \u001b[0m | \u001b[0m 56.88   \u001b[0m | \u001b[0m 101.6   \u001b[0m |\n",
      "| \u001b[0m 83      \u001b[0m | \u001b[0m 0.1423  \u001b[0m | \u001b[0m 97.37   \u001b[0m | \u001b[0m 0.5617  \u001b[0m | \u001b[0m 0.4762  \u001b[0m | \u001b[0m 2.403   \u001b[0m | \u001b[0m 247.7   \u001b[0m | \u001b[0m 191.7   \u001b[0m |\n",
      "| \u001b[0m 84      \u001b[0m | \u001b[0m 0.143   \u001b[0m | \u001b[0m 144.3   \u001b[0m | \u001b[0m 0.6065  \u001b[0m | \u001b[0m 0.3311  \u001b[0m | \u001b[0m 109.2   \u001b[0m | \u001b[0m 57.18   \u001b[0m | \u001b[0m 113.7   \u001b[0m |\n",
      "| \u001b[0m 85      \u001b[0m | \u001b[0m 0.1427  \u001b[0m | \u001b[0m 4.85    \u001b[0m | \u001b[0m 0.8926  \u001b[0m | \u001b[0m 0.4024  \u001b[0m | \u001b[0m 99.34   \u001b[0m | \u001b[0m 253.0   \u001b[0m | \u001b[0m 172.4   \u001b[0m |\n",
      "| \u001b[0m 86      \u001b[0m | \u001b[0m 0.143   \u001b[0m | \u001b[0m 15.52   \u001b[0m | \u001b[0m 0.7826  \u001b[0m | \u001b[0m 0.4563  \u001b[0m | \u001b[0m 178.4   \u001b[0m | \u001b[0m 271.9   \u001b[0m | \u001b[0m 126.7   \u001b[0m |\n",
      "| \u001b[0m 87      \u001b[0m | \u001b[0m 0.286   \u001b[0m | \u001b[0m 1.031   \u001b[0m | \u001b[0m 0.7919  \u001b[0m | \u001b[0m 0.1511  \u001b[0m | \u001b[0m 35.39   \u001b[0m | \u001b[0m 121.3   \u001b[0m | \u001b[0m 123.5   \u001b[0m |\n",
      "| \u001b[0m 88      \u001b[0m | \u001b[0m 0.143   \u001b[0m | \u001b[0m 199.5   \u001b[0m | \u001b[0m 0.8783  \u001b[0m | \u001b[0m 0.473   \u001b[0m | \u001b[0m 55.76   \u001b[0m | \u001b[0m 18.51   \u001b[0m | \u001b[0m 167.4   \u001b[0m |\n",
      "| \u001b[0m 89      \u001b[0m | \u001b[0m 0.7171  \u001b[0m | \u001b[0m 192.9   \u001b[0m | \u001b[0m 0.5347  \u001b[0m | \u001b[0m 0.01029 \u001b[0m | \u001b[0m 162.3   \u001b[0m | \u001b[0m 302.8   \u001b[0m | \u001b[0m 199.2   \u001b[0m |\n",
      "| \u001b[0m 90      \u001b[0m | \u001b[0m 0.5647  \u001b[0m | \u001b[0m 157.0   \u001b[0m | \u001b[0m 0.82    \u001b[0m | \u001b[0m 0.1309  \u001b[0m | \u001b[0m 102.9   \u001b[0m | \u001b[0m 278.7   \u001b[0m | \u001b[0m 109.0   \u001b[0m |\n",
      "| \u001b[0m 91      \u001b[0m | \u001b[0m 0.722   \u001b[0m | \u001b[0m 174.9   \u001b[0m | \u001b[0m 0.9368  \u001b[0m | \u001b[0m 0.05232 \u001b[0m | \u001b[0m 35.74   \u001b[0m | \u001b[0m 90.48   \u001b[0m | \u001b[0m 176.0   \u001b[0m |\n",
      "| \u001b[0m 92      \u001b[0m | \u001b[0m 0.7331  \u001b[0m | \u001b[0m 2.682   \u001b[0m | \u001b[0m 0.8957  \u001b[0m | \u001b[0m 0.09279 \u001b[0m | \u001b[0m 18.97   \u001b[0m | \u001b[0m 260.7   \u001b[0m | \u001b[0m 133.0   \u001b[0m |\n",
      "| \u001b[0m 93      \u001b[0m | \u001b[0m 0.1427  \u001b[0m | \u001b[0m 173.9   \u001b[0m | \u001b[0m 0.7484  \u001b[0m | \u001b[0m 0.3116  \u001b[0m | \u001b[0m 25.83   \u001b[0m | \u001b[0m 318.6   \u001b[0m | \u001b[0m 141.2   \u001b[0m |\n",
      "| \u001b[0m 94      \u001b[0m | \u001b[0m 0.1427  \u001b[0m | \u001b[0m 63.95   \u001b[0m | \u001b[0m 0.5746  \u001b[0m | \u001b[0m 0.4233  \u001b[0m | \u001b[0m 132.4   \u001b[0m | \u001b[0m 115.0   \u001b[0m | \u001b[0m 149.4   \u001b[0m |\n",
      "| \u001b[0m 95      \u001b[0m | \u001b[0m 0.143   \u001b[0m | \u001b[0m 119.7   \u001b[0m | \u001b[0m 0.8168  \u001b[0m | \u001b[0m 0.4957  \u001b[0m | \u001b[0m 161.7   \u001b[0m | \u001b[0m 79.57   \u001b[0m | \u001b[0m 172.4   \u001b[0m |\n",
      "| \u001b[0m 96      \u001b[0m | \u001b[0m 0.1427  \u001b[0m | \u001b[0m 89.06   \u001b[0m | \u001b[0m 0.8759  \u001b[0m | \u001b[0m 0.2014  \u001b[0m | \u001b[0m 39.88   \u001b[0m | \u001b[0m 257.9   \u001b[0m | \u001b[0m 109.5   \u001b[0m |\n",
      "| \u001b[0m 97      \u001b[0m | \u001b[0m 0.143   \u001b[0m | \u001b[0m 91.04   \u001b[0m | \u001b[0m 0.8474  \u001b[0m | \u001b[0m 0.2993  \u001b[0m | \u001b[0m 45.46   \u001b[0m | \u001b[0m 260.2   \u001b[0m | \u001b[0m 115.0   \u001b[0m |\n",
      "| \u001b[0m 98      \u001b[0m | \u001b[0m 0.5591  \u001b[0m | \u001b[0m 197.5   \u001b[0m | \u001b[0m 0.8775  \u001b[0m | \u001b[0m 0.141   \u001b[0m | \u001b[0m 22.79   \u001b[0m | \u001b[0m 285.7   \u001b[0m | \u001b[0m 185.9   \u001b[0m |\n",
      "| \u001b[0m 99      \u001b[0m | \u001b[0m 0.143   \u001b[0m | \u001b[0m 102.9   \u001b[0m | \u001b[0m 0.5364  \u001b[0m | \u001b[0m 0.2206  \u001b[0m | \u001b[0m 145.6   \u001b[0m | \u001b[0m 79.2    \u001b[0m | \u001b[0m 183.3   \u001b[0m |\n",
      "| \u001b[0m 100     \u001b[0m | \u001b[0m 0.7262  \u001b[0m | \u001b[0m 3.644   \u001b[0m | \u001b[0m 0.9011  \u001b[0m | \u001b[0m 0.0551  \u001b[0m | \u001b[0m 20.26   \u001b[0m | \u001b[0m 264.7   \u001b[0m | \u001b[0m 132.4   \u001b[0m |\n",
      "| \u001b[0m 101     \u001b[0m | \u001b[0m 0.2004  \u001b[0m | \u001b[0m 51.43   \u001b[0m | \u001b[0m 0.8966  \u001b[0m | \u001b[0m 0.1561  \u001b[0m | \u001b[0m 54.2    \u001b[0m | \u001b[0m 383.7   \u001b[0m | \u001b[0m 162.0   \u001b[0m |\n",
      "| \u001b[0m 102     \u001b[0m | \u001b[0m 0.7571  \u001b[0m | \u001b[0m 104.4   \u001b[0m | \u001b[0m 0.5692  \u001b[0m | \u001b[0m 0.01687 \u001b[0m | \u001b[0m 118.9   \u001b[0m | \u001b[0m 270.1   \u001b[0m | \u001b[0m 166.8   \u001b[0m |\n",
      "| \u001b[0m 103     \u001b[0m | \u001b[0m 0.1427  \u001b[0m | \u001b[0m 173.1   \u001b[0m | \u001b[0m 0.7801  \u001b[0m | \u001b[0m 0.4194  \u001b[0m | \u001b[0m 60.53   \u001b[0m | \u001b[0m 275.1   \u001b[0m | \u001b[0m 197.5   \u001b[0m |\n",
      "| \u001b[0m 104     \u001b[0m | \u001b[0m 0.3427  \u001b[0m | \u001b[0m 11.32   \u001b[0m | \u001b[0m 0.9169  \u001b[0m | \u001b[0m 0.1543  \u001b[0m | \u001b[0m 170.9   \u001b[0m | \u001b[0m 68.86   \u001b[0m | \u001b[0m 102.0   \u001b[0m |\n",
      "| \u001b[0m 105     \u001b[0m | \u001b[0m 0.1427  \u001b[0m | \u001b[0m 189.2   \u001b[0m | \u001b[0m 0.565   \u001b[0m | \u001b[0m 0.4905  \u001b[0m | \u001b[0m 1.082   \u001b[0m | \u001b[0m 9.92    \u001b[0m | \u001b[0m 162.3   \u001b[0m |\n",
      "| \u001b[0m 106     \u001b[0m | \u001b[0m 0.1427  \u001b[0m | \u001b[0m 178.8   \u001b[0m | \u001b[0m 0.6423  \u001b[0m | \u001b[0m 0.2811  \u001b[0m | \u001b[0m 64.07   \u001b[0m | \u001b[0m 282.3   \u001b[0m | \u001b[0m 195.9   \u001b[0m |\n",
      "| \u001b[0m 107     \u001b[0m | \u001b[0m 0.1434  \u001b[0m | \u001b[0m 106.1   \u001b[0m | \u001b[0m 0.8359  \u001b[0m | \u001b[0m 0.4337  \u001b[0m | \u001b[0m 128.8   \u001b[0m | \u001b[0m 110.6   \u001b[0m | \u001b[0m 125.1   \u001b[0m |\n",
      "| \u001b[0m 108     \u001b[0m | \u001b[0m 0.143   \u001b[0m | \u001b[0m 122.2   \u001b[0m | \u001b[0m 0.9741  \u001b[0m | \u001b[0m 0.2975  \u001b[0m | \u001b[0m 160.9   \u001b[0m | \u001b[0m 76.62   \u001b[0m | \u001b[0m 169.9   \u001b[0m |\n",
      "| \u001b[0m 109     \u001b[0m | \u001b[0m 0.1434  \u001b[0m | \u001b[0m 107.6   \u001b[0m | \u001b[0m 0.5536  \u001b[0m | \u001b[0m 0.4965  \u001b[0m | \u001b[0m 141.6   \u001b[0m | \u001b[0m 77.13   \u001b[0m | \u001b[0m 184.0   \u001b[0m |\n",
      "| \u001b[0m 110     \u001b[0m | \u001b[0m 0.143   \u001b[0m | \u001b[0m 102.1   \u001b[0m | \u001b[0m 0.6715  \u001b[0m | \u001b[0m 0.2292  \u001b[0m | \u001b[0m 117.6   \u001b[0m | \u001b[0m 267.5   \u001b[0m | \u001b[0m 166.4   \u001b[0m |\n",
      "| \u001b[0m 111     \u001b[0m | \u001b[0m 0.143   \u001b[0m | \u001b[0m 67.33   \u001b[0m | \u001b[0m 0.7219  \u001b[0m | \u001b[0m 0.4293  \u001b[0m | \u001b[0m 169.9   \u001b[0m | \u001b[0m 228.9   \u001b[0m | \u001b[0m 180.7   \u001b[0m |\n",
      "| \u001b[0m 112     \u001b[0m | \u001b[0m 0.1434  \u001b[0m | \u001b[0m 177.9   \u001b[0m | \u001b[0m 0.9303  \u001b[0m | \u001b[0m 0.3069  \u001b[0m | \u001b[0m 39.06   \u001b[0m | \u001b[0m 91.89   \u001b[0m | \u001b[0m 172.7   \u001b[0m |\n",
      "| \u001b[0m 113     \u001b[0m | \u001b[0m 0.7589  \u001b[0m | \u001b[0m 47.75   \u001b[0m | \u001b[0m 0.6339  \u001b[0m | \u001b[0m 0.01879 \u001b[0m | \u001b[0m 102.9   \u001b[0m | \u001b[0m 183.4   \u001b[0m | \u001b[0m 119.7   \u001b[0m |\n",
      "| \u001b[0m 114     \u001b[0m | \u001b[0m 0.713   \u001b[0m | \u001b[0m 131.6   \u001b[0m | \u001b[0m 0.5149  \u001b[0m | \u001b[0m 0.07043 \u001b[0m | \u001b[0m 4.983   \u001b[0m | \u001b[0m 208.3   \u001b[0m | \u001b[0m 157.7   \u001b[0m |\n",
      "| \u001b[0m 115     \u001b[0m | \u001b[0m 0.1437  \u001b[0m | \u001b[0m 134.8   \u001b[0m | \u001b[0m 0.8299  \u001b[0m | \u001b[0m 0.4855  \u001b[0m | \u001b[0m 5.588   \u001b[0m | \u001b[0m 211.8   \u001b[0m | \u001b[0m 153.7   \u001b[0m |\n",
      "| \u001b[0m 116     \u001b[0m | \u001b[0m 0.1427  \u001b[0m | \u001b[0m 49.7    \u001b[0m | \u001b[0m 0.6119  \u001b[0m | \u001b[0m 0.1683  \u001b[0m | \u001b[0m 179.6   \u001b[0m | \u001b[0m 46.95   \u001b[0m | \u001b[0m 141.5   \u001b[0m |\n",
      "| \u001b[0m 117     \u001b[0m | \u001b[0m 0.1434  \u001b[0m | \u001b[0m 105.3   \u001b[0m | \u001b[0m 0.9489  \u001b[0m | \u001b[0m 0.4366  \u001b[0m | \u001b[0m 132.7   \u001b[0m | \u001b[0m 117.1   \u001b[0m | \u001b[0m 132.9   \u001b[0m |\n",
      "| \u001b[0m 118     \u001b[0m | \u001b[0m 0.1427  \u001b[0m | \u001b[0m 105.6   \u001b[0m | \u001b[0m 0.8229  \u001b[0m | \u001b[0m 0.4326  \u001b[0m | \u001b[0m 150.0   \u001b[0m | \u001b[0m 76.14   \u001b[0m | \u001b[0m 181.3   \u001b[0m |\n",
      "| \u001b[0m 119     \u001b[0m | \u001b[0m 0.6806  \u001b[0m | \u001b[0m 57.17   \u001b[0m | \u001b[0m 0.669   \u001b[0m | \u001b[0m 0.04663 \u001b[0m | \u001b[0m 191.1   \u001b[0m | \u001b[0m 158.2   \u001b[0m | \u001b[0m 139.0   \u001b[0m |\n",
      "| \u001b[0m 120     \u001b[0m | \u001b[0m 0.143   \u001b[0m | \u001b[0m 45.07   \u001b[0m | \u001b[0m 0.6018  \u001b[0m | \u001b[0m 0.238   \u001b[0m | \u001b[0m 99.59   \u001b[0m | \u001b[0m 190.3   \u001b[0m | \u001b[0m 122.8   \u001b[0m |\n",
      "| \u001b[0m 121     \u001b[0m | \u001b[0m 0.1427  \u001b[0m | \u001b[0m 108.0   \u001b[0m | \u001b[0m 0.7571  \u001b[0m | \u001b[0m 0.2619  \u001b[0m | \u001b[0m 134.3   \u001b[0m | \u001b[0m 114.1   \u001b[0m | \u001b[0m 122.5   \u001b[0m |\n",
      "| \u001b[0m 122     \u001b[0m | \u001b[0m 0.1427  \u001b[0m | \u001b[0m 113.7   \u001b[0m | \u001b[0m 0.6741  \u001b[0m | \u001b[0m 0.4538  \u001b[0m | \u001b[0m 110.7   \u001b[0m | \u001b[0m 60.38   \u001b[0m | \u001b[0m 186.8   \u001b[0m |\n",
      "| \u001b[0m 123     \u001b[0m | \u001b[0m 0.143   \u001b[0m | \u001b[0m 120.2   \u001b[0m | \u001b[0m 0.9223  \u001b[0m | \u001b[0m 0.4848  \u001b[0m | \u001b[0m 154.0   \u001b[0m | \u001b[0m 78.23   \u001b[0m | \u001b[0m 171.0   \u001b[0m |\n",
      "| \u001b[0m 124     \u001b[0m | \u001b[0m 0.1434  \u001b[0m | \u001b[0m 40.31   \u001b[0m | \u001b[0m 0.6903  \u001b[0m | \u001b[0m 0.2283  \u001b[0m | \u001b[0m 174.5   \u001b[0m | \u001b[0m 47.07   \u001b[0m | \u001b[0m 142.3   \u001b[0m |\n",
      "| \u001b[0m 125     \u001b[0m | \u001b[0m 0.7119  \u001b[0m | \u001b[0m 58.51   \u001b[0m | \u001b[0m 0.8121  \u001b[0m | \u001b[0m 0.06521 \u001b[0m | \u001b[0m 188.4   \u001b[0m | \u001b[0m 159.7   \u001b[0m | \u001b[0m 140.9   \u001b[0m |\n",
      "| \u001b[0m 126     \u001b[0m | \u001b[0m 0.143   \u001b[0m | \u001b[0m 44.88   \u001b[0m | \u001b[0m 0.5203  \u001b[0m | \u001b[0m 0.4861  \u001b[0m | \u001b[0m 181.4   \u001b[0m | \u001b[0m 48.08   \u001b[0m | \u001b[0m 141.7   \u001b[0m |\n",
      "| \u001b[0m 127     \u001b[0m | \u001b[0m 0.143   \u001b[0m | \u001b[0m 5.3     \u001b[0m | \u001b[0m 0.7889  \u001b[0m | \u001b[0m 0.2891  \u001b[0m | \u001b[0m 28.77   \u001b[0m | \u001b[0m 256.6   \u001b[0m | \u001b[0m 128.5   \u001b[0m |\n",
      "| \u001b[0m 128     \u001b[0m | \u001b[0m 0.143   \u001b[0m | \u001b[0m 47.11   \u001b[0m | \u001b[0m 0.7178  \u001b[0m | \u001b[0m 0.4755  \u001b[0m | \u001b[0m 80.1    \u001b[0m | \u001b[0m 158.4   \u001b[0m | \u001b[0m 138.9   \u001b[0m |\n",
      "| \u001b[0m 129     \u001b[0m | \u001b[0m 0.7644  \u001b[0m | \u001b[0m 191.2   \u001b[0m | \u001b[0m 0.7373  \u001b[0m | \u001b[0m 0.01275 \u001b[0m | \u001b[0m 157.0   \u001b[0m | \u001b[0m 304.5   \u001b[0m | \u001b[0m 199.9   \u001b[0m |\n",
      "| \u001b[0m 130     \u001b[0m | \u001b[0m 0.7544  \u001b[0m | \u001b[0m 30.14   \u001b[0m | \u001b[0m 0.9329  \u001b[0m | \u001b[0m 0.02898 \u001b[0m | \u001b[0m 112.9   \u001b[0m | \u001b[0m 324.7   \u001b[0m | \u001b[0m 179.7   \u001b[0m |\n",
      "| \u001b[0m 131     \u001b[0m | \u001b[0m 0.6782  \u001b[0m | \u001b[0m 60.66   \u001b[0m | \u001b[0m 0.65    \u001b[0m | \u001b[0m 0.124   \u001b[0m | \u001b[0m 134.2   \u001b[0m | \u001b[0m 112.9   \u001b[0m | \u001b[0m 148.8   \u001b[0m |\n",
      "| \u001b[0m 132     \u001b[0m | \u001b[0m 0.7129  \u001b[0m | \u001b[0m 64.43   \u001b[0m | \u001b[0m 0.961   \u001b[0m | \u001b[0m 0.04866 \u001b[0m | \u001b[0m 169.3   \u001b[0m | \u001b[0m 227.7   \u001b[0m | \u001b[0m 173.5   \u001b[0m |\n",
      "| \u001b[0m 133     \u001b[0m | \u001b[0m 0.1427  \u001b[0m | \u001b[0m 46.72   \u001b[0m | \u001b[0m 0.5689  \u001b[0m | \u001b[0m 0.3844  \u001b[0m | \u001b[0m 176.8   \u001b[0m | \u001b[0m 49.62   \u001b[0m | \u001b[0m 139.7   \u001b[0m |\n",
      "| \u001b[0m 134     \u001b[0m | \u001b[0m 0.7067  \u001b[0m | \u001b[0m 40.22   \u001b[0m | \u001b[0m 0.9075  \u001b[0m | \u001b[0m 0.06597 \u001b[0m | \u001b[0m 187.5   \u001b[0m | \u001b[0m 48.78   \u001b[0m | \u001b[0m 193.1   \u001b[0m |\n",
      "| \u001b[0m 135     \u001b[0m | \u001b[0m 0.1434  \u001b[0m | \u001b[0m 32.55   \u001b[0m | \u001b[0m 0.9363  \u001b[0m | \u001b[0m 0.3969  \u001b[0m | \u001b[0m 110.1   \u001b[0m | \u001b[0m 327.8   \u001b[0m | \u001b[0m 182.2   \u001b[0m |\n",
      "| \u001b[0m 136     \u001b[0m | \u001b[0m 0.1427  \u001b[0m | \u001b[0m 104.5   \u001b[0m | \u001b[0m 0.6625  \u001b[0m | \u001b[0m 0.3271  \u001b[0m | \u001b[0m 123.6   \u001b[0m | \u001b[0m 267.6   \u001b[0m | \u001b[0m 162.8   \u001b[0m |\n",
      "| \u001b[0m 137     \u001b[0m | \u001b[0m 0.6809  \u001b[0m | \u001b[0m 108.3   \u001b[0m | \u001b[0m 0.9371  \u001b[0m | \u001b[0m 0.1089  \u001b[0m | \u001b[0m 146.5   \u001b[0m | \u001b[0m 71.46   \u001b[0m | \u001b[0m 186.6   \u001b[0m |\n",
      "| \u001b[0m 138     \u001b[0m | \u001b[0m 0.143   \u001b[0m | \u001b[0m 55.26   \u001b[0m | \u001b[0m 0.9219  \u001b[0m | \u001b[0m 0.3661  \u001b[0m | \u001b[0m 57.76   \u001b[0m | \u001b[0m 380.5   \u001b[0m | \u001b[0m 160.9   \u001b[0m |\n",
      "| \u001b[0m 139     \u001b[0m | \u001b[0m 0.1427  \u001b[0m | \u001b[0m 39.9    \u001b[0m | \u001b[0m 0.7823  \u001b[0m | \u001b[0m 0.2507  \u001b[0m | \u001b[0m 159.3   \u001b[0m | \u001b[0m 56.53   \u001b[0m | \u001b[0m 132.8   \u001b[0m |\n",
      "| \u001b[0m 140     \u001b[0m | \u001b[0m 0.143   \u001b[0m | \u001b[0m 91.22   \u001b[0m | \u001b[0m 0.7818  \u001b[0m | \u001b[0m 0.2676  \u001b[0m | \u001b[0m 186.0   \u001b[0m | \u001b[0m 387.9   \u001b[0m | \u001b[0m 117.8   \u001b[0m |\n",
      "| \u001b[0m 141     \u001b[0m | \u001b[0m 0.7387  \u001b[0m | \u001b[0m 99.44   \u001b[0m | \u001b[0m 0.9188  \u001b[0m | \u001b[0m 0.04013 \u001b[0m | \u001b[0m 20.11   \u001b[0m | \u001b[0m 17.42   \u001b[0m | \u001b[0m 143.0   \u001b[0m |\n",
      "| \u001b[0m 142     \u001b[0m | \u001b[0m 0.6855  \u001b[0m | \u001b[0m 93.45   \u001b[0m | \u001b[0m 0.5178  \u001b[0m | \u001b[0m 0.1036  \u001b[0m | \u001b[0m 127.2   \u001b[0m | \u001b[0m 47.93   \u001b[0m | \u001b[0m 186.7   \u001b[0m |\n",
      "| \u001b[0m 143     \u001b[0m | \u001b[0m 0.143   \u001b[0m | \u001b[0m 139.1   \u001b[0m | \u001b[0m 0.9804  \u001b[0m | \u001b[0m 0.4976  \u001b[0m | \u001b[0m 66.96   \u001b[0m | \u001b[0m 63.85   \u001b[0m | \u001b[0m 181.8   \u001b[0m |\n",
      "| \u001b[0m 144     \u001b[0m | \u001b[0m 0.143   \u001b[0m | \u001b[0m 96.01   \u001b[0m | \u001b[0m 0.7124  \u001b[0m | \u001b[0m 0.1973  \u001b[0m | \u001b[0m 142.8   \u001b[0m | \u001b[0m 81.04   \u001b[0m | \u001b[0m 145.6   \u001b[0m |\n",
      "| \u001b[0m 145     \u001b[0m | \u001b[0m 0.143   \u001b[0m | \u001b[0m 190.2   \u001b[0m | \u001b[0m 0.911   \u001b[0m | \u001b[0m 0.191   \u001b[0m | \u001b[0m 17.44   \u001b[0m | \u001b[0m 21.64   \u001b[0m | \u001b[0m 161.8   \u001b[0m |\n",
      "| \u001b[0m 146     \u001b[0m | \u001b[0m 0.7251  \u001b[0m | \u001b[0m 141.0   \u001b[0m | \u001b[0m 0.7845  \u001b[0m | \u001b[0m 0.09163 \u001b[0m | \u001b[0m 125.4   \u001b[0m | \u001b[0m 251.9   \u001b[0m | \u001b[0m 160.3   \u001b[0m |\n",
      "| \u001b[0m 147     \u001b[0m | \u001b[0m 0.143   \u001b[0m | \u001b[0m 1.854   \u001b[0m | \u001b[0m 0.5569  \u001b[0m | \u001b[0m 0.263   \u001b[0m | \u001b[0m 46.78   \u001b[0m | \u001b[0m 152.6   \u001b[0m | \u001b[0m 110.4   \u001b[0m |\n",
      "| \u001b[0m 148     \u001b[0m | \u001b[0m 0.7711  \u001b[0m | \u001b[0m 182.8   \u001b[0m | \u001b[0m 0.6481  \u001b[0m | \u001b[0m 0.005631\u001b[0m | \u001b[0m 12.82   \u001b[0m | \u001b[0m 172.6   \u001b[0m | \u001b[0m 181.9   \u001b[0m |\n",
      "| \u001b[0m 149     \u001b[0m | \u001b[0m 0.143   \u001b[0m | \u001b[0m 32.78   \u001b[0m | \u001b[0m 0.8488  \u001b[0m | \u001b[0m 0.2937  \u001b[0m | \u001b[0m 98.15   \u001b[0m | \u001b[0m 316.1   \u001b[0m | \u001b[0m 177.5   \u001b[0m |\n",
      "| \u001b[0m 150     \u001b[0m | \u001b[0m 0.1434  \u001b[0m | \u001b[0m 89.84   \u001b[0m | \u001b[0m 0.8364  \u001b[0m | \u001b[0m 0.1821  \u001b[0m | \u001b[0m 131.2   \u001b[0m | \u001b[0m 226.9   \u001b[0m | \u001b[0m 194.9   \u001b[0m |\n",
      "| \u001b[0m 151     \u001b[0m | \u001b[0m 0.143   \u001b[0m | \u001b[0m 94.05   \u001b[0m | \u001b[0m 0.9041  \u001b[0m | \u001b[0m 0.4123  \u001b[0m | \u001b[0m 100.3   \u001b[0m | \u001b[0m 257.4   \u001b[0m | \u001b[0m 151.6   \u001b[0m |\n",
      "| \u001b[0m 152     \u001b[0m | \u001b[0m 0.7091  \u001b[0m | \u001b[0m 112.9   \u001b[0m | \u001b[0m 0.7821  \u001b[0m | \u001b[0m 0.07247 \u001b[0m | \u001b[0m 77.69   \u001b[0m | \u001b[0m 28.06   \u001b[0m | \u001b[0m 171.8   \u001b[0m |\n",
      "| \u001b[0m 153     \u001b[0m | \u001b[0m 0.1427  \u001b[0m | \u001b[0m 87.44   \u001b[0m | \u001b[0m 0.6461  \u001b[0m | \u001b[0m 0.2602  \u001b[0m | \u001b[0m 170.6   \u001b[0m | \u001b[0m 43.04   \u001b[0m | \u001b[0m 177.8   \u001b[0m |\n",
      "| \u001b[0m 154     \u001b[0m | \u001b[0m 0.5056  \u001b[0m | \u001b[0m 17.52   \u001b[0m | \u001b[0m 0.6886  \u001b[0m | \u001b[0m 0.1498  \u001b[0m | \u001b[0m 74.82   \u001b[0m | \u001b[0m 266.2   \u001b[0m | \u001b[0m 178.9   \u001b[0m |\n",
      "| \u001b[0m 155     \u001b[0m | \u001b[0m 0.7286  \u001b[0m | \u001b[0m 25.83   \u001b[0m | \u001b[0m 0.7569  \u001b[0m | \u001b[0m 0.05525 \u001b[0m | \u001b[0m 17.36   \u001b[0m | \u001b[0m 219.8   \u001b[0m | \u001b[0m 169.1   \u001b[0m |\n",
      "| \u001b[0m 156     \u001b[0m | \u001b[0m 0.1427  \u001b[0m | \u001b[0m 149.4   \u001b[0m | \u001b[0m 0.8775  \u001b[0m | \u001b[0m 0.4783  \u001b[0m | \u001b[0m 123.3   \u001b[0m | \u001b[0m 75.29   \u001b[0m | \u001b[0m 196.0   \u001b[0m |\n",
      "| \u001b[0m 157     \u001b[0m | \u001b[0m 0.1719  \u001b[0m | \u001b[0m 118.7   \u001b[0m | \u001b[0m 0.6916  \u001b[0m | \u001b[0m 0.1586  \u001b[0m | \u001b[0m 16.52   \u001b[0m | \u001b[0m 184.7   \u001b[0m | \u001b[0m 152.7   \u001b[0m |\n",
      "| \u001b[0m 158     \u001b[0m | \u001b[0m 0.753   \u001b[0m | \u001b[0m 55.11   \u001b[0m | \u001b[0m 0.9141  \u001b[0m | \u001b[0m 0.02317 \u001b[0m | \u001b[0m 169.3   \u001b[0m | \u001b[0m 277.6   \u001b[0m | \u001b[0m 158.1   \u001b[0m |\n",
      "| \u001b[0m 159     \u001b[0m | \u001b[0m 0.5852  \u001b[0m | \u001b[0m 65.59   \u001b[0m | \u001b[0m 0.7136  \u001b[0m | \u001b[0m 0.1296  \u001b[0m | \u001b[0m 97.76   \u001b[0m | \u001b[0m 303.8   \u001b[0m | \u001b[0m 183.7   \u001b[0m |\n",
      "| \u001b[0m 160     \u001b[0m | \u001b[0m 0.1427  \u001b[0m | \u001b[0m 75.08   \u001b[0m | \u001b[0m 0.8952  \u001b[0m | \u001b[0m 0.4125  \u001b[0m | \u001b[0m 176.4   \u001b[0m | \u001b[0m 220.6   \u001b[0m | \u001b[0m 106.3   \u001b[0m |\n",
      "| \u001b[0m 161     \u001b[0m | \u001b[0m 0.1427  \u001b[0m | \u001b[0m 78.06   \u001b[0m | \u001b[0m 0.6877  \u001b[0m | \u001b[0m 0.4151  \u001b[0m | \u001b[0m 140.1   \u001b[0m | \u001b[0m 45.12   \u001b[0m | \u001b[0m 166.3   \u001b[0m |\n",
      "| \u001b[0m 162     \u001b[0m | \u001b[0m 0.7216  \u001b[0m | \u001b[0m 134.2   \u001b[0m | \u001b[0m 0.9797  \u001b[0m | \u001b[0m 0.08771 \u001b[0m | \u001b[0m 129.7   \u001b[0m | \u001b[0m 244.9   \u001b[0m | \u001b[0m 122.2   \u001b[0m |\n",
      "| \u001b[0m 163     \u001b[0m | \u001b[0m 0.143   \u001b[0m | \u001b[0m 97.0    \u001b[0m | \u001b[0m 0.9714  \u001b[0m | \u001b[0m 0.2699  \u001b[0m | \u001b[0m 57.97   \u001b[0m | \u001b[0m 95.3    \u001b[0m | \u001b[0m 165.2   \u001b[0m |\n",
      "| \u001b[0m 164     \u001b[0m | \u001b[0m 0.143   \u001b[0m | \u001b[0m 166.7   \u001b[0m | \u001b[0m 0.926   \u001b[0m | \u001b[0m 0.4916  \u001b[0m | \u001b[0m 24.8    \u001b[0m | \u001b[0m 194.3   \u001b[0m | \u001b[0m 155.1   \u001b[0m |\n",
      "| \u001b[0m 165     \u001b[0m | \u001b[0m 0.1434  \u001b[0m | \u001b[0m 42.71   \u001b[0m | \u001b[0m 0.5165  \u001b[0m | \u001b[0m 0.3941  \u001b[0m | \u001b[0m 193.4   \u001b[0m | \u001b[0m 223.0   \u001b[0m | \u001b[0m 111.6   \u001b[0m |\n",
      "| \u001b[0m 166     \u001b[0m | \u001b[0m 0.1427  \u001b[0m | \u001b[0m 141.2   \u001b[0m | \u001b[0m 0.5246  \u001b[0m | \u001b[0m 0.4164  \u001b[0m | \u001b[0m 190.5   \u001b[0m | \u001b[0m 261.0   \u001b[0m | \u001b[0m 193.6   \u001b[0m |\n",
      "| \u001b[0m 167     \u001b[0m | \u001b[0m 0.1434  \u001b[0m | \u001b[0m 189.9   \u001b[0m | \u001b[0m 0.5773  \u001b[0m | \u001b[0m 0.3228  \u001b[0m | \u001b[0m 190.3   \u001b[0m | \u001b[0m 232.8   \u001b[0m | \u001b[0m 117.3   \u001b[0m |\n",
      "| \u001b[0m 168     \u001b[0m | \u001b[0m 0.6865  \u001b[0m | \u001b[0m 138.3   \u001b[0m | \u001b[0m 0.5271  \u001b[0m | \u001b[0m 0.1039  \u001b[0m | \u001b[0m 27.63   \u001b[0m | \u001b[0m 117.3   \u001b[0m | \u001b[0m 155.9   \u001b[0m |\n",
      "| \u001b[0m 169     \u001b[0m | \u001b[0m 0.1437  \u001b[0m | \u001b[0m 192.7   \u001b[0m | \u001b[0m 0.8004  \u001b[0m | \u001b[0m 0.3144  \u001b[0m | \u001b[0m 4.777   \u001b[0m | \u001b[0m 259.0   \u001b[0m | \u001b[0m 105.6   \u001b[0m |\n",
      "| \u001b[0m 170     \u001b[0m | \u001b[0m 0.1427  \u001b[0m | \u001b[0m 20.04   \u001b[0m | \u001b[0m 0.8091  \u001b[0m | \u001b[0m 0.3913  \u001b[0m | \u001b[0m 67.48   \u001b[0m | \u001b[0m 333.9   \u001b[0m | \u001b[0m 144.6   \u001b[0m |\n",
      "| \u001b[0m 171     \u001b[0m | \u001b[0m 0.7074  \u001b[0m | \u001b[0m 148.9   \u001b[0m | \u001b[0m 0.6549  \u001b[0m | \u001b[0m 0.07111 \u001b[0m | \u001b[0m 175.2   \u001b[0m | \u001b[0m 124.9   \u001b[0m | \u001b[0m 100.8   \u001b[0m |\n",
      "| \u001b[0m 172     \u001b[0m | \u001b[0m 0.143   \u001b[0m | \u001b[0m 40.55   \u001b[0m | \u001b[0m 0.5296  \u001b[0m | \u001b[0m 0.338   \u001b[0m | \u001b[0m 55.63   \u001b[0m | \u001b[0m 62.19   \u001b[0m | \u001b[0m 172.6   \u001b[0m |\n",
      "| \u001b[0m 173     \u001b[0m | \u001b[0m 0.7216  \u001b[0m | \u001b[0m 194.1   \u001b[0m | \u001b[0m 0.6291  \u001b[0m | \u001b[0m 0.06316 \u001b[0m | \u001b[0m 85.66   \u001b[0m | \u001b[0m 227.4   \u001b[0m | \u001b[0m 134.3   \u001b[0m |\n",
      "| \u001b[0m 174     \u001b[0m | \u001b[0m 0.143   \u001b[0m | \u001b[0m 167.7   \u001b[0m | \u001b[0m 0.8019  \u001b[0m | \u001b[0m 0.3188  \u001b[0m | \u001b[0m 124.5   \u001b[0m | \u001b[0m 50.67   \u001b[0m | \u001b[0m 109.1   \u001b[0m |\n",
      "| \u001b[0m 175     \u001b[0m | \u001b[0m 0.5616  \u001b[0m | \u001b[0m 27.9    \u001b[0m | \u001b[0m 0.7365  \u001b[0m | \u001b[0m 0.1338  \u001b[0m | \u001b[0m 122.4   \u001b[0m | \u001b[0m 26.38   \u001b[0m | \u001b[0m 129.8   \u001b[0m |\n",
      "| \u001b[0m 176     \u001b[0m | \u001b[0m 0.4792  \u001b[0m | \u001b[0m 43.72   \u001b[0m | \u001b[0m 0.8171  \u001b[0m | \u001b[0m 0.1483  \u001b[0m | \u001b[0m 58.72   \u001b[0m | \u001b[0m 261.2   \u001b[0m | \u001b[0m 149.9   \u001b[0m |\n",
      "| \u001b[0m 177     \u001b[0m | \u001b[0m 0.7533  \u001b[0m | \u001b[0m 152.6   \u001b[0m | \u001b[0m 0.8693  \u001b[0m | \u001b[0m 0.02141 \u001b[0m | \u001b[0m 76.93   \u001b[0m | \u001b[0m 329.6   \u001b[0m | \u001b[0m 144.5   \u001b[0m |\n",
      "| \u001b[0m 178     \u001b[0m | \u001b[0m 0.1434  \u001b[0m | \u001b[0m 6.079   \u001b[0m | \u001b[0m 0.814   \u001b[0m | \u001b[0m 0.2813  \u001b[0m | \u001b[0m 82.9    \u001b[0m | \u001b[0m 84.5    \u001b[0m | \u001b[0m 174.4   \u001b[0m |\n",
      "| \u001b[0m 179     \u001b[0m | \u001b[0m 0.5644  \u001b[0m | \u001b[0m 187.4   \u001b[0m | \u001b[0m 0.9422  \u001b[0m | \u001b[0m 0.147   \u001b[0m | \u001b[0m 182.1   \u001b[0m | \u001b[0m 238.4   \u001b[0m | \u001b[0m 140.7   \u001b[0m |\n",
      "| \u001b[0m 180     \u001b[0m | \u001b[0m 0.143   \u001b[0m | \u001b[0m 120.8   \u001b[0m | \u001b[0m 0.8974  \u001b[0m | \u001b[0m 0.2329  \u001b[0m | \u001b[0m 164.8   \u001b[0m | \u001b[0m 393.1   \u001b[0m | \u001b[0m 147.8   \u001b[0m |\n",
      "| \u001b[0m 181     \u001b[0m | \u001b[0m 0.143   \u001b[0m | \u001b[0m 103.4   \u001b[0m | \u001b[0m 0.6653  \u001b[0m | \u001b[0m 0.4391  \u001b[0m | \u001b[0m 99.9    \u001b[0m | \u001b[0m 225.8   \u001b[0m | \u001b[0m 166.7   \u001b[0m |\n",
      "| \u001b[0m 182     \u001b[0m | \u001b[0m 0.1434  \u001b[0m | \u001b[0m 112.7   \u001b[0m | \u001b[0m 0.6344  \u001b[0m | \u001b[0m 0.3312  \u001b[0m | \u001b[0m 187.0   \u001b[0m | \u001b[0m 393.3   \u001b[0m | \u001b[0m 137.0   \u001b[0m |\n",
      "| \u001b[0m 183     \u001b[0m | \u001b[0m 0.1437  \u001b[0m | \u001b[0m 72.92   \u001b[0m | \u001b[0m 0.6687  \u001b[0m | \u001b[0m 0.2801  \u001b[0m | \u001b[0m 180.1   \u001b[0m | \u001b[0m 231.8   \u001b[0m | \u001b[0m 186.7   \u001b[0m |\n",
      "| \u001b[0m 184     \u001b[0m | \u001b[0m 0.1427  \u001b[0m | \u001b[0m 132.2   \u001b[0m | \u001b[0m 0.7034  \u001b[0m | \u001b[0m 0.2812  \u001b[0m | \u001b[0m 147.0   \u001b[0m | \u001b[0m 250.9   \u001b[0m | \u001b[0m 161.9   \u001b[0m |\n",
      "| \u001b[0m 185     \u001b[0m | \u001b[0m 0.753   \u001b[0m | \u001b[0m 45.31   \u001b[0m | \u001b[0m 0.7142  \u001b[0m | \u001b[0m 0.02497 \u001b[0m | \u001b[0m 48.2    \u001b[0m | \u001b[0m 300.6   \u001b[0m | \u001b[0m 136.3   \u001b[0m |\n",
      "| \u001b[0m 186     \u001b[0m | \u001b[0m 0.7129  \u001b[0m | \u001b[0m 32.6    \u001b[0m | \u001b[0m 0.8779  \u001b[0m | \u001b[0m 0.07034 \u001b[0m | \u001b[0m 187.0   \u001b[0m | \u001b[0m 153.6   \u001b[0m | \u001b[0m 184.4   \u001b[0m |\n",
      "| \u001b[0m 187     \u001b[0m | \u001b[0m 0.1427  \u001b[0m | \u001b[0m 133.6   \u001b[0m | \u001b[0m 0.9001  \u001b[0m | \u001b[0m 0.1876  \u001b[0m | \u001b[0m 96.33   \u001b[0m | \u001b[0m 171.5   \u001b[0m | \u001b[0m 131.1   \u001b[0m |\n",
      "| \u001b[0m 188     \u001b[0m | \u001b[0m 0.143   \u001b[0m | \u001b[0m 86.34   \u001b[0m | \u001b[0m 0.697   \u001b[0m | \u001b[0m 0.1785  \u001b[0m | \u001b[0m 183.0   \u001b[0m | \u001b[0m 82.86   \u001b[0m | \u001b[0m 177.6   \u001b[0m |\n",
      "| \u001b[0m 189     \u001b[0m | \u001b[0m 0.1427  \u001b[0m | \u001b[0m 111.1   \u001b[0m | \u001b[0m 0.6537  \u001b[0m | \u001b[0m 0.1735  \u001b[0m | \u001b[0m 180.5   \u001b[0m | \u001b[0m 328.1   \u001b[0m | \u001b[0m 190.7   \u001b[0m |\n",
      "| \u001b[0m 190     \u001b[0m | \u001b[0m 0.143   \u001b[0m | \u001b[0m 174.4   \u001b[0m | \u001b[0m 0.6803  \u001b[0m | \u001b[0m 0.1835  \u001b[0m | \u001b[0m 126.2   \u001b[0m | \u001b[0m 181.9   \u001b[0m | \u001b[0m 157.6   \u001b[0m |\n",
      "| \u001b[0m 191     \u001b[0m | \u001b[0m 0.143   \u001b[0m | \u001b[0m 135.7   \u001b[0m | \u001b[0m 0.8858  \u001b[0m | \u001b[0m 0.1694  \u001b[0m | \u001b[0m 123.9   \u001b[0m | \u001b[0m 208.4   \u001b[0m | \u001b[0m 132.0   \u001b[0m |\n",
      "| \u001b[0m 192     \u001b[0m | \u001b[0m 0.143   \u001b[0m | \u001b[0m 147.2   \u001b[0m | \u001b[0m 0.6327  \u001b[0m | \u001b[0m 0.4135  \u001b[0m | \u001b[0m 37.31   \u001b[0m | \u001b[0m 304.4   \u001b[0m | \u001b[0m 115.2   \u001b[0m |\n",
      "| \u001b[0m 193     \u001b[0m | \u001b[0m 0.1427  \u001b[0m | \u001b[0m 147.4   \u001b[0m | \u001b[0m 0.8679  \u001b[0m | \u001b[0m 0.3012  \u001b[0m | \u001b[0m 2.471   \u001b[0m | \u001b[0m 363.2   \u001b[0m | \u001b[0m 132.3   \u001b[0m |\n",
      "| \u001b[0m 194     \u001b[0m | \u001b[0m 0.7651  \u001b[0m | \u001b[0m 154.2   \u001b[0m | \u001b[0m 0.628   \u001b[0m | \u001b[0m 0.01149 \u001b[0m | \u001b[0m 116.4   \u001b[0m | \u001b[0m 324.8   \u001b[0m | \u001b[0m 111.8   \u001b[0m |\n",
      "| \u001b[0m 195     \u001b[0m | \u001b[0m 0.1434  \u001b[0m | \u001b[0m 144.7   \u001b[0m | \u001b[0m 0.6057  \u001b[0m | \u001b[0m 0.3645  \u001b[0m | \u001b[0m 75.98   \u001b[0m | \u001b[0m 56.27   \u001b[0m | \u001b[0m 156.9   \u001b[0m |\n",
      "| \u001b[0m 196     \u001b[0m | \u001b[0m 0.7147  \u001b[0m | \u001b[0m 73.42   \u001b[0m | \u001b[0m 0.9788  \u001b[0m | \u001b[0m 0.04807 \u001b[0m | \u001b[0m 84.87   \u001b[0m | \u001b[0m 370.6   \u001b[0m | \u001b[0m 168.2   \u001b[0m |\n",
      "| \u001b[0m 197     \u001b[0m | \u001b[0m 0.143   \u001b[0m | \u001b[0m 185.8   \u001b[0m | \u001b[0m 0.9666  \u001b[0m | \u001b[0m 0.1704  \u001b[0m | \u001b[0m 88.46   \u001b[0m | \u001b[0m 149.1   \u001b[0m | \u001b[0m 197.1   \u001b[0m |\n",
      "| \u001b[0m 198     \u001b[0m | \u001b[0m 0.143   \u001b[0m | \u001b[0m 138.4   \u001b[0m | \u001b[0m 0.5302  \u001b[0m | \u001b[0m 0.3524  \u001b[0m | \u001b[0m 46.64   \u001b[0m | \u001b[0m 174.0   \u001b[0m | \u001b[0m 177.0   \u001b[0m |\n",
      "| \u001b[0m 199     \u001b[0m | \u001b[0m 0.7175  \u001b[0m | \u001b[0m 152.8   \u001b[0m | \u001b[0m 0.9837  \u001b[0m | \u001b[0m 0.04379 \u001b[0m | \u001b[0m 190.2   \u001b[0m | \u001b[0m 222.3   \u001b[0m | \u001b[0m 161.7   \u001b[0m |\n",
      "| \u001b[0m 200     \u001b[0m | \u001b[0m 0.143   \u001b[0m | \u001b[0m 118.7   \u001b[0m | \u001b[0m 0.9523  \u001b[0m | \u001b[0m 0.2402  \u001b[0m | \u001b[0m 155.1   \u001b[0m | \u001b[0m 295.1   \u001b[0m | \u001b[0m 170.0   \u001b[0m |\n",
      "| \u001b[0m 201     \u001b[0m | \u001b[0m 0.143   \u001b[0m | \u001b[0m 10.6    \u001b[0m | \u001b[0m 0.535   \u001b[0m | \u001b[0m 0.3626  \u001b[0m | \u001b[0m 89.68   \u001b[0m | \u001b[0m 267.8   \u001b[0m | \u001b[0m 122.9   \u001b[0m |\n",
      "| \u001b[0m 202     \u001b[0m | \u001b[0m 0.143   \u001b[0m | \u001b[0m 126.9   \u001b[0m | \u001b[0m 0.7815  \u001b[0m | \u001b[0m 0.4099  \u001b[0m | \u001b[0m 122.3   \u001b[0m | \u001b[0m 75.46   \u001b[0m | \u001b[0m 168.0   \u001b[0m |\n",
      "| \u001b[0m 203     \u001b[0m | \u001b[0m 0.143   \u001b[0m | \u001b[0m 167.8   \u001b[0m | \u001b[0m 0.8307  \u001b[0m | \u001b[0m 0.3811  \u001b[0m | \u001b[0m 118.8   \u001b[0m | \u001b[0m 357.0   \u001b[0m | \u001b[0m 185.9   \u001b[0m |\n",
      "| \u001b[0m 204     \u001b[0m | \u001b[0m 0.1427  \u001b[0m | \u001b[0m 184.0   \u001b[0m | \u001b[0m 0.7922  \u001b[0m | \u001b[0m 0.2969  \u001b[0m | \u001b[0m 93.68   \u001b[0m | \u001b[0m 276.2   \u001b[0m | \u001b[0m 173.7   \u001b[0m |\n",
      "| \u001b[0m 205     \u001b[0m | \u001b[0m 0.1427  \u001b[0m | \u001b[0m 65.1    \u001b[0m | \u001b[0m 0.5907  \u001b[0m | \u001b[0m 0.456   \u001b[0m | \u001b[0m 20.81   \u001b[0m | \u001b[0m 224.6   \u001b[0m | \u001b[0m 130.3   \u001b[0m |\n",
      "| \u001b[0m 206     \u001b[0m | \u001b[0m 0.1427  \u001b[0m | \u001b[0m 196.1   \u001b[0m | \u001b[0m 0.6852  \u001b[0m | \u001b[0m 0.3417  \u001b[0m | \u001b[0m 132.3   \u001b[0m | \u001b[0m 108.9   \u001b[0m | \u001b[0m 171.1   \u001b[0m |\n",
      "| \u001b[0m 207     \u001b[0m | \u001b[0m 0.6841  \u001b[0m | \u001b[0m 171.4   \u001b[0m | \u001b[0m 0.5436  \u001b[0m | \u001b[0m 0.101   \u001b[0m | \u001b[0m 74.75   \u001b[0m | \u001b[0m 317.8   \u001b[0m | \u001b[0m 111.7   \u001b[0m |\n",
      "| \u001b[0m 208     \u001b[0m | \u001b[0m 0.1423  \u001b[0m | \u001b[0m 179.4   \u001b[0m | \u001b[0m 0.5603  \u001b[0m | \u001b[0m 0.3167  \u001b[0m | \u001b[0m 114.1   \u001b[0m | \u001b[0m 384.8   \u001b[0m | \u001b[0m 110.0   \u001b[0m |\n",
      "| \u001b[0m 209     \u001b[0m | \u001b[0m 0.1434  \u001b[0m | \u001b[0m 130.4   \u001b[0m | \u001b[0m 0.8215  \u001b[0m | \u001b[0m 0.4966  \u001b[0m | \u001b[0m 49.61   \u001b[0m | \u001b[0m 275.7   \u001b[0m | \u001b[0m 132.7   \u001b[0m |\n",
      "| \u001b[0m 210     \u001b[0m | \u001b[0m 0.3643  \u001b[0m | \u001b[0m 120.1   \u001b[0m | \u001b[0m 0.7506  \u001b[0m | \u001b[0m 0.1544  \u001b[0m | \u001b[0m 160.7   \u001b[0m | \u001b[0m 34.59   \u001b[0m | \u001b[0m 143.9   \u001b[0m |\n",
      "| \u001b[0m 211     \u001b[0m | \u001b[0m 0.7436  \u001b[0m | \u001b[0m 62.65   \u001b[0m | \u001b[0m 0.578   \u001b[0m | \u001b[0m 0.03034 \u001b[0m | \u001b[0m 108.9   \u001b[0m | \u001b[0m 19.34   \u001b[0m | \u001b[0m 125.7   \u001b[0m |\n",
      "| \u001b[0m 212     \u001b[0m | \u001b[0m 0.143   \u001b[0m | \u001b[0m 42.07   \u001b[0m | \u001b[0m 0.5291  \u001b[0m | \u001b[0m 0.3866  \u001b[0m | \u001b[0m 29.94   \u001b[0m | \u001b[0m 68.98   \u001b[0m | \u001b[0m 192.2   \u001b[0m |\n",
      "| \u001b[0m 213     \u001b[0m | \u001b[0m 0.7279  \u001b[0m | \u001b[0m 74.52   \u001b[0m | \u001b[0m 0.5578  \u001b[0m | \u001b[0m 0.03301 \u001b[0m | \u001b[0m 132.5   \u001b[0m | \u001b[0m 100.1   \u001b[0m | \u001b[0m 170.8   \u001b[0m |\n",
      "| \u001b[0m 214     \u001b[0m | \u001b[0m 0.6858  \u001b[0m | \u001b[0m 49.07   \u001b[0m | \u001b[0m 0.8632  \u001b[0m | \u001b[0m 0.09788 \u001b[0m | \u001b[0m 24.97   \u001b[0m | \u001b[0m 101.8   \u001b[0m | \u001b[0m 143.1   \u001b[0m |\n",
      "| \u001b[0m 215     \u001b[0m | \u001b[0m 0.1434  \u001b[0m | \u001b[0m 116.3   \u001b[0m | \u001b[0m 0.8594  \u001b[0m | \u001b[0m 0.2731  \u001b[0m | \u001b[0m 40.68   \u001b[0m | \u001b[0m 335.5   \u001b[0m | \u001b[0m 189.0   \u001b[0m |\n",
      "| \u001b[0m 216     \u001b[0m | \u001b[0m 0.1427  \u001b[0m | \u001b[0m 122.2   \u001b[0m | \u001b[0m 0.6593  \u001b[0m | \u001b[0m 0.3498  \u001b[0m | \u001b[0m 8.858   \u001b[0m | \u001b[0m 253.8   \u001b[0m | \u001b[0m 136.3   \u001b[0m |\n",
      "| \u001b[0m 217     \u001b[0m | \u001b[0m 0.1437  \u001b[0m | \u001b[0m 78.76   \u001b[0m | \u001b[0m 0.628   \u001b[0m | \u001b[0m 0.2186  \u001b[0m | \u001b[0m 191.0   \u001b[0m | \u001b[0m 345.3   \u001b[0m | \u001b[0m 103.4   \u001b[0m |\n",
      "| \u001b[0m 218     \u001b[0m | \u001b[0m 0.7258  \u001b[0m | \u001b[0m 132.2   \u001b[0m | \u001b[0m 0.9062  \u001b[0m | \u001b[0m 0.0563  \u001b[0m | \u001b[0m 36.27   \u001b[0m | \u001b[0m 223.2   \u001b[0m | \u001b[0m 107.5   \u001b[0m |\n",
      "| \u001b[0m 219     \u001b[0m | \u001b[0m 0.7363  \u001b[0m | \u001b[0m 135.2   \u001b[0m | \u001b[0m 0.7411  \u001b[0m | \u001b[0m 0.03036 \u001b[0m | \u001b[0m 175.7   \u001b[0m | \u001b[0m 186.9   \u001b[0m | \u001b[0m 163.2   \u001b[0m |\n",
      "| \u001b[0m 220     \u001b[0m | \u001b[0m 0.1427  \u001b[0m | \u001b[0m 17.96   \u001b[0m | \u001b[0m 0.7827  \u001b[0m | \u001b[0m 0.2463  \u001b[0m | \u001b[0m 123.9   \u001b[0m | \u001b[0m 155.5   \u001b[0m | \u001b[0m 137.1   \u001b[0m |\n",
      "=================================================================================================\n"
     ]
    }
   ],
   "source": [
    "results = rf_bo.maximize(n_iter=200, init_points=20,acq='ei')"
   ]
  },
  {
   "cell_type": "code",
   "execution_count": 55,
   "metadata": {},
   "outputs": [
    {
     "name": "stdout",
     "output_type": "stream",
     "text": [
      "{'max_depth': 94, 'max_samples': 0.9882223767788391, 'min_impurity_decrease': 0.0016126928268648255, 'min_samples_leaf': 42, 'min_samples_split': 258, 'n_estimators': 113}\n"
     ]
    }
   ],
   "source": [
    "params = rf_bo.max['params']\n",
    "params['max_depth']=  int(params['max_depth'])\n",
    "params['min_samples_leaf']=  int(params['min_samples_leaf'])\n",
    "params['min_samples_split']=  int(params['min_samples_split'])\n",
    "params['n_estimators']= int(params['n_estimators'])\n",
    "print(params)"
   ]
  },
  {
   "cell_type": "code",
   "execution_count": 57,
   "metadata": {},
   "outputs": [],
   "source": [
    "rf_v1 = RandomForestClassifier(max_samples=params['max_samples'],max_depth=params['max_depth'],min_samples_leaf=params['min_samples_leaf'],min_samples_split=params['min_samples_split'],n_estimators=params['n_estimators'])"
   ]
  },
  {
   "cell_type": "code",
   "execution_count": 58,
   "metadata": {},
   "outputs": [
    {
     "name": "stdout",
     "output_type": "stream",
     "text": [
      "              precision    recall  f1-score   support\n",
      "\n",
      "          ID       0.68      0.58      0.63       206\n",
      "        NDOD       1.00      1.00      1.00       177\n",
      "         NOD       0.76      0.60      0.67       221\n",
      "          OD       0.30      0.56      0.39        93\n",
      "     OD-Brit       0.97      1.00      0.99       172\n",
      "      OD-Vic       0.93      0.85      0.89       191\n",
      "          UD       0.95      0.96      0.95       173\n",
      "\n",
      "    accuracy                           0.80      1233\n",
      "   macro avg       0.80      0.79      0.79      1233\n",
      "weighted avg       0.83      0.80      0.81      1233\n",
      "\n",
      "Precision:0.8274407422641371\n",
      "Recall:0.797242497972425\n",
      "F1 Score:0.8067599076520422\n"
     ]
    }
   ],
   "source": [
    "rf_v1.fit(X_train,y_train)\n",
    "preds = rf_v1.predict(X_test)\n",
    "print(classification_report(preds,y_test))\n",
    "print(\"Precision:{}\".format(precision_score(preds,y_test,average='weighted')))\n",
    "print(\"Recall:{}\".format(recall_score(preds,y_test,average='weighted')))\n",
    "print(\"F1 Score:{}\".format((f1_score(preds,y_test,average='weighted'))))\n",
    "fileName = \"sampling_smote_tl_BO.csv\"\n",
    "df = pd.DataFrame(classification_report(preds,y_test,output_dict=True)).transpose()\n",
    "df.to_csv(fileName)"
   ]
  },
  {
   "cell_type": "code",
   "execution_count": 59,
   "metadata": {},
   "outputs": [
    {
     "name": "stdout",
     "output_type": "stream",
     "text": [
      "              precision    recall  f1-score   support\n",
      "\n",
      "          ID       0.61      0.63      0.62       172\n",
      "        NDOD       1.00      1.00      1.00       177\n",
      "         NOD       0.70      0.62      0.66       197\n",
      "          OD       0.48      0.56      0.52       151\n",
      "     OD-Brit       0.99      0.99      0.99       176\n",
      "      OD-Vic       0.93      0.88      0.90       185\n",
      "          UD       0.96      0.96      0.96       175\n",
      "\n",
      "    accuracy                           0.81      1233\n",
      "   macro avg       0.81      0.81      0.81      1233\n",
      "weighted avg       0.82      0.81      0.81      1233\n",
      "\n",
      "Precision:0.8164514783103178\n",
      "Recall:0.8102189781021898\n",
      "F1 Score:0.812486947174821\n"
     ]
    }
   ],
   "source": [
    "gbdt = GradientBoostingClassifier()\n",
    "gbdt.fit(X_train,y_train)\n",
    "preds = gbdt.predict(X_test)\n",
    "print(classification_report(preds,y_test))\n",
    "print(\"Precision:{}\".format(precision_score(preds,y_test,average='weighted')))\n",
    "print(\"Recall:{}\".format(recall_score(preds,y_test, average='weighted')))\n",
    "print(\"F1 Score:{}\".format((f1_score(preds,y_test, average='weighted'))))"
   ]
  },
  {
   "cell_type": "code",
   "execution_count": 47,
   "metadata": {},
   "outputs": [
    {
     "data": {
      "text/plain": [
       "{'ccp_alpha': 0.0,\n",
       " 'criterion': 'friedman_mse',\n",
       " 'init': None,\n",
       " 'learning_rate': 0.1,\n",
       " 'loss': 'log_loss',\n",
       " 'max_depth': 3,\n",
       " 'max_features': None,\n",
       " 'max_leaf_nodes': None,\n",
       " 'min_impurity_decrease': 0.0,\n",
       " 'min_samples_leaf': 1,\n",
       " 'min_samples_split': 2,\n",
       " 'min_weight_fraction_leaf': 0.0,\n",
       " 'n_estimators': 100,\n",
       " 'n_iter_no_change': None,\n",
       " 'random_state': None,\n",
       " 'subsample': 1.0,\n",
       " 'tol': 0.0001,\n",
       " 'validation_fraction': 0.1,\n",
       " 'verbose': 0,\n",
       " 'warm_start': False}"
      ]
     },
     "execution_count": 47,
     "metadata": {},
     "output_type": "execute_result"
    }
   ],
   "source": [
    "gbdt.get_params()"
   ]
  },
  {
   "cell_type": "code",
   "execution_count": 61,
   "metadata": {},
   "outputs": [],
   "source": [
    "gbdt_bo = BayesianOptimization(bo_params_gbdt, {\n",
    "                                              'learning_rate':(0.001,10),\n",
    "                                              'max_depth':(1,200),\n",
    "                                              'min_samples_leaf':(1,200),\n",
    "                                              'min_samples_split':(2,400),\n",
    "                                              'n_estimators':(100,200)\n",
    "                                             })"
   ]
  },
  {
   "cell_type": "code",
   "execution_count": 62,
   "metadata": {},
   "outputs": [
    {
     "name": "stdout",
     "output_type": "stream",
     "text": [
      "|   iter    |  target   | learni... | max_depth | min_sa... | min_sa... | n_esti... |\n",
      "-------------------------------------------------------------------------------------\n",
      "| \u001b[0m 1       \u001b[0m | \u001b[0m 0.435   \u001b[0m | \u001b[0m 4.821   \u001b[0m | \u001b[0m 62.8    \u001b[0m | \u001b[0m 85.31   \u001b[0m | \u001b[0m 70.36   \u001b[0m | \u001b[0m 143.9   \u001b[0m |\n",
      "| \u001b[0m 2       \u001b[0m | \u001b[0m 0.2529  \u001b[0m | \u001b[0m 6.644   \u001b[0m | \u001b[0m 105.9   \u001b[0m | \u001b[0m 39.02   \u001b[0m | \u001b[0m 323.2   \u001b[0m | \u001b[0m 190.8   \u001b[0m |\n",
      "| \u001b[95m 3       \u001b[0m | \u001b[95m 0.4478  \u001b[0m | \u001b[95m 5.03    \u001b[0m | \u001b[95m 70.97   \u001b[0m | \u001b[95m 61.13   \u001b[0m | \u001b[95m 54.82   \u001b[0m | \u001b[95m 159.7   \u001b[0m |\n",
      "| \u001b[0m 4       \u001b[0m | \u001b[0m 0.3086  \u001b[0m | \u001b[0m 3.842   \u001b[0m | \u001b[0m 65.88   \u001b[0m | \u001b[0m 193.0   \u001b[0m | \u001b[0m 96.05   \u001b[0m | \u001b[0m 169.8   \u001b[0m |\n",
      "| \u001b[0m 5       \u001b[0m | \u001b[0m 0.4318  \u001b[0m | \u001b[0m 4.118   \u001b[0m | \u001b[0m 146.7   \u001b[0m | \u001b[0m 60.85   \u001b[0m | \u001b[0m 23.25   \u001b[0m | \u001b[0m 175.0   \u001b[0m |\n",
      "| \u001b[0m 6       \u001b[0m | \u001b[0m 0.3545  \u001b[0m | \u001b[0m 3.75    \u001b[0m | \u001b[0m 84.16   \u001b[0m | \u001b[0m 196.9   \u001b[0m | \u001b[0m 269.5   \u001b[0m | \u001b[0m 175.9   \u001b[0m |\n",
      "| \u001b[95m 7       \u001b[0m | \u001b[95m 0.7909  \u001b[0m | \u001b[95m 0.5298  \u001b[0m | \u001b[95m 194.0   \u001b[0m | \u001b[95m 164.4   \u001b[0m | \u001b[95m 301.5   \u001b[0m | \u001b[95m 194.8   \u001b[0m |\n",
      "| \u001b[0m 8       \u001b[0m | \u001b[0m 0.3477  \u001b[0m | \u001b[0m 1.366   \u001b[0m | \u001b[0m 118.3   \u001b[0m | \u001b[0m 197.8   \u001b[0m | \u001b[0m 313.4   \u001b[0m | \u001b[0m 113.6   \u001b[0m |\n",
      "| \u001b[0m 9       \u001b[0m | \u001b[0m 0.4343  \u001b[0m | \u001b[0m 9.645   \u001b[0m | \u001b[0m 61.87   \u001b[0m | \u001b[0m 64.48   \u001b[0m | \u001b[0m 165.3   \u001b[0m | \u001b[0m 185.6   \u001b[0m |\n",
      "| \u001b[95m 10      \u001b[0m | \u001b[95m 0.7947  \u001b[0m | \u001b[95m 0.2601  \u001b[0m | \u001b[95m 84.26   \u001b[0m | \u001b[95m 85.64   \u001b[0m | \u001b[95m 10.87   \u001b[0m | \u001b[95m 125.1   \u001b[0m |\n",
      "| \u001b[0m 11      \u001b[0m | \u001b[0m 0.7944  \u001b[0m | \u001b[0m 0.01288 \u001b[0m | \u001b[0m 187.4   \u001b[0m | \u001b[0m 68.07   \u001b[0m | \u001b[0m 308.6   \u001b[0m | \u001b[0m 196.5   \u001b[0m |\n",
      "| \u001b[0m 12      \u001b[0m | \u001b[0m 0.7926  \u001b[0m | \u001b[0m 0.1146  \u001b[0m | \u001b[0m 90.54   \u001b[0m | \u001b[0m 14.94   \u001b[0m | \u001b[0m 311.3   \u001b[0m | \u001b[0m 102.1   \u001b[0m |\n",
      "| \u001b[0m 13      \u001b[0m | \u001b[0m 0.3754  \u001b[0m | \u001b[0m 5.494   \u001b[0m | \u001b[0m 38.1    \u001b[0m | \u001b[0m 111.4   \u001b[0m | \u001b[0m 156.1   \u001b[0m | \u001b[0m 172.5   \u001b[0m |\n",
      "| \u001b[0m 14      \u001b[0m | \u001b[0m 0.3911  \u001b[0m | \u001b[0m 8.912   \u001b[0m | \u001b[0m 98.88   \u001b[0m | \u001b[0m 57.32   \u001b[0m | \u001b[0m 198.3   \u001b[0m | \u001b[0m 147.6   \u001b[0m |\n",
      "| \u001b[0m 15      \u001b[0m | \u001b[0m 0.4631  \u001b[0m | \u001b[0m 2.402   \u001b[0m | \u001b[0m 176.8   \u001b[0m | \u001b[0m 9.289   \u001b[0m | \u001b[0m 306.6   \u001b[0m | \u001b[0m 174.0   \u001b[0m |\n",
      "| \u001b[0m 16      \u001b[0m | \u001b[0m 0.3146  \u001b[0m | \u001b[0m 5.036   \u001b[0m | \u001b[0m 80.4    \u001b[0m | \u001b[0m 32.19   \u001b[0m | \u001b[0m 363.1   \u001b[0m | \u001b[0m 140.7   \u001b[0m |\n",
      "| \u001b[0m 17      \u001b[0m | \u001b[0m 0.2867  \u001b[0m | \u001b[0m 7.825   \u001b[0m | \u001b[0m 186.4   \u001b[0m | \u001b[0m 94.29   \u001b[0m | \u001b[0m 48.1    \u001b[0m | \u001b[0m 129.5   \u001b[0m |\n",
      "| \u001b[0m 18      \u001b[0m | \u001b[0m 0.3733  \u001b[0m | \u001b[0m 4.787   \u001b[0m | \u001b[0m 155.9   \u001b[0m | \u001b[0m 115.1   \u001b[0m | \u001b[0m 140.4   \u001b[0m | \u001b[0m 113.3   \u001b[0m |\n",
      "| \u001b[0m 19      \u001b[0m | \u001b[0m 0.6385  \u001b[0m | \u001b[0m 8.809   \u001b[0m | \u001b[0m 24.92   \u001b[0m | \u001b[0m 5.761   \u001b[0m | \u001b[0m 4.526   \u001b[0m | \u001b[0m 198.3   \u001b[0m |\n",
      "| \u001b[0m 20      \u001b[0m | \u001b[0m 0.2373  \u001b[0m | \u001b[0m 6.952   \u001b[0m | \u001b[0m 161.9   \u001b[0m | \u001b[0m 186.7   \u001b[0m | \u001b[0m 291.5   \u001b[0m | \u001b[0m 150.4   \u001b[0m |\n",
      "| \u001b[0m 21      \u001b[0m | \u001b[0m 0.2624  \u001b[0m | \u001b[0m 7.839   \u001b[0m | \u001b[0m 92.17   \u001b[0m | \u001b[0m 15.57   \u001b[0m | \u001b[0m 317.9   \u001b[0m | \u001b[0m 104.6   \u001b[0m |\n",
      "| \u001b[0m 22      \u001b[0m | \u001b[0m 0.3469  \u001b[0m | \u001b[0m 6.432   \u001b[0m | \u001b[0m 14.51   \u001b[0m | \u001b[0m 63.09   \u001b[0m | \u001b[0m 235.5   \u001b[0m | \u001b[0m 191.1   \u001b[0m |\n",
      "| \u001b[0m 23      \u001b[0m | \u001b[0m 0.3514  \u001b[0m | \u001b[0m 8.007   \u001b[0m | \u001b[0m 72.88   \u001b[0m | \u001b[0m 89.99   \u001b[0m | \u001b[0m 23.69   \u001b[0m | \u001b[0m 163.1   \u001b[0m |\n",
      "| \u001b[0m 24      \u001b[0m | \u001b[0m 0.2864  \u001b[0m | \u001b[0m 5.848   \u001b[0m | \u001b[0m 153.9   \u001b[0m | \u001b[0m 188.7   \u001b[0m | \u001b[0m 27.21   \u001b[0m | \u001b[0m 177.5   \u001b[0m |\n",
      "| \u001b[0m 25      \u001b[0m | \u001b[0m 0.4157  \u001b[0m | \u001b[0m 3.437   \u001b[0m | \u001b[0m 73.74   \u001b[0m | \u001b[0m 101.2   \u001b[0m | \u001b[0m 334.4   \u001b[0m | \u001b[0m 105.0   \u001b[0m |\n",
      "| \u001b[0m 26      \u001b[0m | \u001b[0m 0.3851  \u001b[0m | \u001b[0m 3.795   \u001b[0m | \u001b[0m 102.4   \u001b[0m | \u001b[0m 196.9   \u001b[0m | \u001b[0m 12.84   \u001b[0m | \u001b[0m 142.0   \u001b[0m |\n",
      "| \u001b[0m 27      \u001b[0m | \u001b[0m 0.4662  \u001b[0m | \u001b[0m 2.726   \u001b[0m | \u001b[0m 90.69   \u001b[0m | \u001b[0m 145.2   \u001b[0m | \u001b[0m 359.9   \u001b[0m | \u001b[0m 163.2   \u001b[0m |\n",
      "| \u001b[0m 28      \u001b[0m | \u001b[0m 0.4224  \u001b[0m | \u001b[0m 1.553   \u001b[0m | \u001b[0m 108.0   \u001b[0m | \u001b[0m 131.4   \u001b[0m | \u001b[0m 192.8   \u001b[0m | \u001b[0m 127.5   \u001b[0m |\n",
      "| \u001b[0m 29      \u001b[0m | \u001b[0m 0.2651  \u001b[0m | \u001b[0m 7.515   \u001b[0m | \u001b[0m 101.3   \u001b[0m | \u001b[0m 171.9   \u001b[0m | \u001b[0m 95.08   \u001b[0m | \u001b[0m 127.4   \u001b[0m |\n",
      "| \u001b[0m 30      \u001b[0m | \u001b[0m 0.4378  \u001b[0m | \u001b[0m 4.374   \u001b[0m | \u001b[0m 100.1   \u001b[0m | \u001b[0m 89.53   \u001b[0m | \u001b[0m 10.91   \u001b[0m | \u001b[0m 105.6   \u001b[0m |\n",
      "| \u001b[95m 31      \u001b[0m | \u001b[95m 0.8041  \u001b[0m | \u001b[95m 0.6689  \u001b[0m | \u001b[95m 199.0   \u001b[0m | \u001b[95m 99.03   \u001b[0m | \u001b[95m 363.3   \u001b[0m | \u001b[95m 177.1   \u001b[0m |\n",
      "| \u001b[0m 32      \u001b[0m | \u001b[0m 0.2965  \u001b[0m | \u001b[0m 5.629   \u001b[0m | \u001b[0m 89.17   \u001b[0m | \u001b[0m 184.3   \u001b[0m | \u001b[0m 386.9   \u001b[0m | \u001b[0m 134.0   \u001b[0m |\n",
      "| \u001b[0m 33      \u001b[0m | \u001b[0m 0.1955  \u001b[0m | \u001b[0m 9.224   \u001b[0m | \u001b[0m 109.5   \u001b[0m | \u001b[0m 175.6   \u001b[0m | \u001b[0m 335.2   \u001b[0m | \u001b[0m 184.4   \u001b[0m |\n",
      "| \u001b[0m 34      \u001b[0m | \u001b[0m 0.4043  \u001b[0m | \u001b[0m 7.2     \u001b[0m | \u001b[0m 102.0   \u001b[0m | \u001b[0m 103.0   \u001b[0m | \u001b[0m 105.1   \u001b[0m | \u001b[0m 193.8   \u001b[0m |\n",
      "| \u001b[0m 35      \u001b[0m | \u001b[0m 0.2495  \u001b[0m | \u001b[0m 9.833   \u001b[0m | \u001b[0m 162.7   \u001b[0m | \u001b[0m 17.04   \u001b[0m | \u001b[0m 375.7   \u001b[0m | \u001b[0m 176.3   \u001b[0m |\n",
      "| \u001b[0m 36      \u001b[0m | \u001b[0m 0.3156  \u001b[0m | \u001b[0m 1.837   \u001b[0m | \u001b[0m 7.488   \u001b[0m | \u001b[0m 111.9   \u001b[0m | \u001b[0m 338.8   \u001b[0m | \u001b[0m 165.4   \u001b[0m |\n",
      "| \u001b[0m 37      \u001b[0m | \u001b[0m 0.3682  \u001b[0m | \u001b[0m 5.621   \u001b[0m | \u001b[0m 157.8   \u001b[0m | \u001b[0m 112.5   \u001b[0m | \u001b[0m 180.2   \u001b[0m | \u001b[0m 164.6   \u001b[0m |\n",
      "| \u001b[0m 38      \u001b[0m | \u001b[0m 0.318   \u001b[0m | \u001b[0m 6.174   \u001b[0m | \u001b[0m 75.33   \u001b[0m | \u001b[0m 123.9   \u001b[0m | \u001b[0m 255.9   \u001b[0m | \u001b[0m 110.8   \u001b[0m |\n",
      "| \u001b[0m 39      \u001b[0m | \u001b[0m 0.4854  \u001b[0m | \u001b[0m 3.631   \u001b[0m | \u001b[0m 191.9   \u001b[0m | \u001b[0m 57.1    \u001b[0m | \u001b[0m 219.2   \u001b[0m | \u001b[0m 171.5   \u001b[0m |\n",
      "| \u001b[0m 40      \u001b[0m | \u001b[0m 0.2401  \u001b[0m | \u001b[0m 9.681   \u001b[0m | \u001b[0m 55.5    \u001b[0m | \u001b[0m 129.0   \u001b[0m | \u001b[0m 52.52   \u001b[0m | \u001b[0m 153.5   \u001b[0m |\n",
      "| \u001b[0m 41      \u001b[0m | \u001b[0m 0.3285  \u001b[0m | \u001b[0m 9.839   \u001b[0m | \u001b[0m 51.59   \u001b[0m | \u001b[0m 62.18   \u001b[0m | \u001b[0m 287.1   \u001b[0m | \u001b[0m 167.6   \u001b[0m |\n",
      "| \u001b[0m 42      \u001b[0m | \u001b[0m 0.499   \u001b[0m | \u001b[0m 2.962   \u001b[0m | \u001b[0m 137.0   \u001b[0m | \u001b[0m 120.5   \u001b[0m | \u001b[0m 279.1   \u001b[0m | \u001b[0m 108.6   \u001b[0m |\n",
      "| \u001b[0m 43      \u001b[0m | \u001b[0m 0.2021  \u001b[0m | \u001b[0m 8.645   \u001b[0m | \u001b[0m 100.5   \u001b[0m | \u001b[0m 170.0   \u001b[0m | \u001b[0m 9.994   \u001b[0m | \u001b[0m 195.2   \u001b[0m |\n",
      "| \u001b[0m 44      \u001b[0m | \u001b[0m 0.3897  \u001b[0m | \u001b[0m 4.823   \u001b[0m | \u001b[0m 187.5   \u001b[0m | \u001b[0m 132.1   \u001b[0m | \u001b[0m 208.9   \u001b[0m | \u001b[0m 164.2   \u001b[0m |\n",
      "| \u001b[0m 45      \u001b[0m | \u001b[0m 0.4415  \u001b[0m | \u001b[0m 3.179   \u001b[0m | \u001b[0m 136.4   \u001b[0m | \u001b[0m 102.2   \u001b[0m | \u001b[0m 386.5   \u001b[0m | \u001b[0m 107.3   \u001b[0m |\n",
      "| \u001b[0m 46      \u001b[0m | \u001b[0m 0.7926  \u001b[0m | \u001b[0m 0.1184  \u001b[0m | \u001b[0m 75.11   \u001b[0m | \u001b[0m 169.1   \u001b[0m | \u001b[0m 28.22   \u001b[0m | \u001b[0m 173.2   \u001b[0m |\n",
      "| \u001b[0m 47      \u001b[0m | \u001b[0m 0.2105  \u001b[0m | \u001b[0m 7.647   \u001b[0m | \u001b[0m 171.6   \u001b[0m | \u001b[0m 189.6   \u001b[0m | \u001b[0m 369.0   \u001b[0m | \u001b[0m 179.5   \u001b[0m |\n",
      "| \u001b[0m 48      \u001b[0m | \u001b[0m 0.3191  \u001b[0m | \u001b[0m 8.345   \u001b[0m | \u001b[0m 46.68   \u001b[0m | \u001b[0m 110.5   \u001b[0m | \u001b[0m 172.1   \u001b[0m | \u001b[0m 170.9   \u001b[0m |\n",
      "| \u001b[0m 49      \u001b[0m | \u001b[0m 0.7926  \u001b[0m | \u001b[0m 0.369   \u001b[0m | \u001b[0m 136.5   \u001b[0m | \u001b[0m 124.1   \u001b[0m | \u001b[0m 273.0   \u001b[0m | \u001b[0m 110.0   \u001b[0m |\n",
      "| \u001b[0m 50      \u001b[0m | \u001b[0m 0.3602  \u001b[0m | \u001b[0m 1.701   \u001b[0m | \u001b[0m 198.6   \u001b[0m | \u001b[0m 165.6   \u001b[0m | \u001b[0m 301.7   \u001b[0m | \u001b[0m 191.3   \u001b[0m |\n",
      "| \u001b[0m 51      \u001b[0m | \u001b[0m 0.4851  \u001b[0m | \u001b[0m 7.64    \u001b[0m | \u001b[0m 38.39   \u001b[0m | \u001b[0m 57.45   \u001b[0m | \u001b[0m 157.4   \u001b[0m | \u001b[0m 110.0   \u001b[0m |\n",
      "| \u001b[0m 52      \u001b[0m | \u001b[0m 0.5174  \u001b[0m | \u001b[0m 2.749   \u001b[0m | \u001b[0m 46.21   \u001b[0m | \u001b[0m 161.9   \u001b[0m | \u001b[0m 380.6   \u001b[0m | \u001b[0m 168.4   \u001b[0m |\n",
      "| \u001b[0m 53      \u001b[0m | \u001b[0m 0.46    \u001b[0m | \u001b[0m 7.143   \u001b[0m | \u001b[0m 40.33   \u001b[0m | \u001b[0m 26.43   \u001b[0m | \u001b[0m 241.8   \u001b[0m | \u001b[0m 109.0   \u001b[0m |\n",
      "| \u001b[0m 54      \u001b[0m | \u001b[0m 0.4534  \u001b[0m | \u001b[0m 3.142   \u001b[0m | \u001b[0m 15.26   \u001b[0m | \u001b[0m 116.2   \u001b[0m | \u001b[0m 147.0   \u001b[0m | \u001b[0m 102.5   \u001b[0m |\n",
      "| \u001b[0m 55      \u001b[0m | \u001b[0m 0.4544  \u001b[0m | \u001b[0m 3.868   \u001b[0m | \u001b[0m 184.2   \u001b[0m | \u001b[0m 68.38   \u001b[0m | \u001b[0m 305.2   \u001b[0m | \u001b[0m 195.1   \u001b[0m |\n",
      "| \u001b[0m 56      \u001b[0m | \u001b[0m 0.3584  \u001b[0m | \u001b[0m 1.782   \u001b[0m | \u001b[0m 160.8   \u001b[0m | \u001b[0m 125.6   \u001b[0m | \u001b[0m 42.8    \u001b[0m | \u001b[0m 105.8   \u001b[0m |\n",
      "| \u001b[0m 57      \u001b[0m | \u001b[0m 0.253   \u001b[0m | \u001b[0m 5.896   \u001b[0m | \u001b[0m 2.039   \u001b[0m | \u001b[0m 113.0   \u001b[0m | \u001b[0m 356.0   \u001b[0m | \u001b[0m 127.4   \u001b[0m |\n",
      "| \u001b[0m 58      \u001b[0m | \u001b[0m 0.3507  \u001b[0m | \u001b[0m 3.469   \u001b[0m | \u001b[0m 47.33   \u001b[0m | \u001b[0m 28.46   \u001b[0m | \u001b[0m 382.6   \u001b[0m | \u001b[0m 138.6   \u001b[0m |\n",
      "| \u001b[0m 59      \u001b[0m | \u001b[0m 0.5397  \u001b[0m | \u001b[0m 4.457   \u001b[0m | \u001b[0m 96.69   \u001b[0m | \u001b[0m 5.843   \u001b[0m | \u001b[0m 94.4    \u001b[0m | \u001b[0m 185.0   \u001b[0m |\n",
      "| \u001b[0m 60      \u001b[0m | \u001b[0m 0.3271  \u001b[0m | \u001b[0m 8.733   \u001b[0m | \u001b[0m 150.3   \u001b[0m | \u001b[0m 91.89   \u001b[0m | \u001b[0m 287.4   \u001b[0m | \u001b[0m 184.4   \u001b[0m |\n",
      "| \u001b[0m 61      \u001b[0m | \u001b[0m 0.7923  \u001b[0m | \u001b[0m 0.1885  \u001b[0m | \u001b[0m 20.2    \u001b[0m | \u001b[0m 174.6   \u001b[0m | \u001b[0m 375.9   \u001b[0m | \u001b[0m 135.3   \u001b[0m |\n",
      "| \u001b[0m 62      \u001b[0m | \u001b[0m 0.5425  \u001b[0m | \u001b[0m 7.93    \u001b[0m | \u001b[0m 27.95   \u001b[0m | \u001b[0m 19.94   \u001b[0m | \u001b[0m 23.66   \u001b[0m | \u001b[0m 158.4   \u001b[0m |\n",
      "| \u001b[0m 63      \u001b[0m | \u001b[0m 0.413   \u001b[0m | \u001b[0m 3.482   \u001b[0m | \u001b[0m 40.22   \u001b[0m | \u001b[0m 75.81   \u001b[0m | \u001b[0m 192.2   \u001b[0m | \u001b[0m 171.4   \u001b[0m |\n",
      "| \u001b[0m 64      \u001b[0m | \u001b[0m 0.4503  \u001b[0m | \u001b[0m 9.682   \u001b[0m | \u001b[0m 107.8   \u001b[0m | \u001b[0m 10.31   \u001b[0m | \u001b[0m 276.8   \u001b[0m | \u001b[0m 190.3   \u001b[0m |\n",
      "| \u001b[0m 65      \u001b[0m | \u001b[0m 0.4036  \u001b[0m | \u001b[0m 1.556   \u001b[0m | \u001b[0m 77.29   \u001b[0m | \u001b[0m 56.47   \u001b[0m | \u001b[0m 290.2   \u001b[0m | \u001b[0m 172.3   \u001b[0m |\n",
      "| \u001b[0m 66      \u001b[0m | \u001b[0m 0.4652  \u001b[0m | \u001b[0m 2.686   \u001b[0m | \u001b[0m 27.08   \u001b[0m | \u001b[0m 100.4   \u001b[0m | \u001b[0m 118.1   \u001b[0m | \u001b[0m 151.1   \u001b[0m |\n",
      "| \u001b[0m 67      \u001b[0m | \u001b[0m 0.1545  \u001b[0m | \u001b[0m 8.842   \u001b[0m | \u001b[0m 186.9   \u001b[0m | \u001b[0m 139.3   \u001b[0m | \u001b[0m 369.6   \u001b[0m | \u001b[0m 113.3   \u001b[0m |\n",
      "| \u001b[0m 68      \u001b[0m | \u001b[0m 0.4071  \u001b[0m | \u001b[0m 6.003   \u001b[0m | \u001b[0m 86.33   \u001b[0m | \u001b[0m 30.54   \u001b[0m | \u001b[0m 269.4   \u001b[0m | \u001b[0m 146.2   \u001b[0m |\n",
      "| \u001b[0m 69      \u001b[0m | \u001b[0m 0.4436  \u001b[0m | \u001b[0m 4.428   \u001b[0m | \u001b[0m 162.0   \u001b[0m | \u001b[0m 56.51   \u001b[0m | \u001b[0m 43.62   \u001b[0m | \u001b[0m 131.5   \u001b[0m |\n",
      "| \u001b[0m 70      \u001b[0m | \u001b[0m 0.4068  \u001b[0m | \u001b[0m 4.437   \u001b[0m | \u001b[0m 129.6   \u001b[0m | \u001b[0m 149.8   \u001b[0m | \u001b[0m 201.1   \u001b[0m | \u001b[0m 131.7   \u001b[0m |\n",
      "| \u001b[0m 71      \u001b[0m | \u001b[0m 0.445   \u001b[0m | \u001b[0m 1.844   \u001b[0m | \u001b[0m 36.19   \u001b[0m | \u001b[0m 42.4    \u001b[0m | \u001b[0m 289.5   \u001b[0m | \u001b[0m 157.8   \u001b[0m |\n",
      "| \u001b[0m 72      \u001b[0m | \u001b[0m 0.2749  \u001b[0m | \u001b[0m 5.163   \u001b[0m | \u001b[0m 63.05   \u001b[0m | \u001b[0m 191.4   \u001b[0m | \u001b[0m 105.1   \u001b[0m | \u001b[0m 187.0   \u001b[0m |\n",
      "| \u001b[0m 73      \u001b[0m | \u001b[0m 0.263   \u001b[0m | \u001b[0m 6.301   \u001b[0m | \u001b[0m 12.62   \u001b[0m | \u001b[0m 190.2   \u001b[0m | \u001b[0m 96.4    \u001b[0m | \u001b[0m 122.9   \u001b[0m |\n",
      "| \u001b[0m 74      \u001b[0m | \u001b[0m 0.413   \u001b[0m | \u001b[0m 4.088   \u001b[0m | \u001b[0m 70.89   \u001b[0m | \u001b[0m 27.86   \u001b[0m | \u001b[0m 338.7   \u001b[0m | \u001b[0m 196.4   \u001b[0m |\n",
      "| \u001b[0m 75      \u001b[0m | \u001b[0m 0.2648  \u001b[0m | \u001b[0m 7.721   \u001b[0m | \u001b[0m 146.3   \u001b[0m | \u001b[0m 100.7   \u001b[0m | \u001b[0m 368.0   \u001b[0m | \u001b[0m 179.6   \u001b[0m |\n",
      "| \u001b[0m 76      \u001b[0m | \u001b[0m 0.7975  \u001b[0m | \u001b[0m 0.2788  \u001b[0m | \u001b[0m 33.3    \u001b[0m | \u001b[0m 58.08   \u001b[0m | \u001b[0m 51.93   \u001b[0m | \u001b[0m 164.1   \u001b[0m |\n",
      "| \u001b[0m 77      \u001b[0m | \u001b[0m 0.3236  \u001b[0m | \u001b[0m 4.384   \u001b[0m | \u001b[0m 27.6    \u001b[0m | \u001b[0m 179.1   \u001b[0m | \u001b[0m 266.6   \u001b[0m | \u001b[0m 133.6   \u001b[0m |\n",
      "| \u001b[0m 78      \u001b[0m | \u001b[0m 0.2265  \u001b[0m | \u001b[0m 9.219   \u001b[0m | \u001b[0m 164.1   \u001b[0m | \u001b[0m 158.5   \u001b[0m | \u001b[0m 195.6   \u001b[0m | \u001b[0m 138.7   \u001b[0m |\n",
      "| \u001b[0m 79      \u001b[0m | \u001b[0m 0.3939  \u001b[0m | \u001b[0m 4.713   \u001b[0m | \u001b[0m 185.8   \u001b[0m | \u001b[0m 182.5   \u001b[0m | \u001b[0m 300.4   \u001b[0m | \u001b[0m 133.4   \u001b[0m |\n",
      "| \u001b[95m 80      \u001b[0m | \u001b[95m 0.8041  \u001b[0m | \u001b[95m 0.5434  \u001b[0m | \u001b[95m 17.58   \u001b[0m | \u001b[95m 88.56   \u001b[0m | \u001b[95m 305.7   \u001b[0m | \u001b[95m 187.4   \u001b[0m |\n",
      "| \u001b[0m 81      \u001b[0m | \u001b[0m 0.4092  \u001b[0m | \u001b[0m 1.865   \u001b[0m | \u001b[0m 103.0   \u001b[0m | \u001b[0m 196.8   \u001b[0m | \u001b[0m 292.8   \u001b[0m | \u001b[0m 158.1   \u001b[0m |\n",
      "| \u001b[0m 82      \u001b[0m | \u001b[0m 0.5056  \u001b[0m | \u001b[0m 8.319   \u001b[0m | \u001b[0m 93.56   \u001b[0m | \u001b[0m 35.82   \u001b[0m | \u001b[0m 56.6    \u001b[0m | \u001b[0m 197.0   \u001b[0m |\n",
      "| \u001b[0m 83      \u001b[0m | \u001b[0m 0.4663  \u001b[0m | \u001b[0m 2.043   \u001b[0m | \u001b[0m 24.78   \u001b[0m | \u001b[0m 18.47   \u001b[0m | \u001b[0m 390.6   \u001b[0m | \u001b[0m 135.3   \u001b[0m |\n",
      "| \u001b[0m 84      \u001b[0m | \u001b[0m 0.4134  \u001b[0m | \u001b[0m 3.958   \u001b[0m | \u001b[0m 82.29   \u001b[0m | \u001b[0m 172.0   \u001b[0m | \u001b[0m 145.6   \u001b[0m | \u001b[0m 187.3   \u001b[0m |\n",
      "| \u001b[0m 85      \u001b[0m | \u001b[0m 0.5177  \u001b[0m | \u001b[0m 2.939   \u001b[0m | \u001b[0m 145.0   \u001b[0m | \u001b[0m 90.5    \u001b[0m | \u001b[0m 318.8   \u001b[0m | \u001b[0m 198.0   \u001b[0m |\n",
      "| \u001b[0m 86      \u001b[0m | \u001b[0m 0.4509  \u001b[0m | \u001b[0m 3.235   \u001b[0m | \u001b[0m 54.98   \u001b[0m | \u001b[0m 157.2   \u001b[0m | \u001b[0m 241.9   \u001b[0m | \u001b[0m 138.1   \u001b[0m |\n",
      "| \u001b[0m 87      \u001b[0m | \u001b[0m 0.381   \u001b[0m | \u001b[0m 1.862   \u001b[0m | \u001b[0m 181.2   \u001b[0m | \u001b[0m 191.3   \u001b[0m | \u001b[0m 59.31   \u001b[0m | \u001b[0m 159.8   \u001b[0m |\n",
      "| \u001b[0m 88      \u001b[0m | \u001b[0m 0.3187  \u001b[0m | \u001b[0m 3.932   \u001b[0m | \u001b[0m 192.9   \u001b[0m | \u001b[0m 174.9   \u001b[0m | \u001b[0m 398.0   \u001b[0m | \u001b[0m 137.7   \u001b[0m |\n",
      "| \u001b[0m 89      \u001b[0m | \u001b[0m 0.3493  \u001b[0m | \u001b[0m 3.461   \u001b[0m | \u001b[0m 121.5   \u001b[0m | \u001b[0m 58.46   \u001b[0m | \u001b[0m 380.8   \u001b[0m | \u001b[0m 166.5   \u001b[0m |\n",
      "| \u001b[0m 90      \u001b[0m | \u001b[0m 0.2999  \u001b[0m | \u001b[0m 2.639   \u001b[0m | \u001b[0m 2.221   \u001b[0m | \u001b[0m 184.9   \u001b[0m | \u001b[0m 179.7   \u001b[0m | \u001b[0m 129.9   \u001b[0m |\n",
      "| \u001b[0m 91      \u001b[0m | \u001b[0m 0.205   \u001b[0m | \u001b[0m 9.057   \u001b[0m | \u001b[0m 83.85   \u001b[0m | \u001b[0m 94.7    \u001b[0m | \u001b[0m 350.2   \u001b[0m | \u001b[0m 118.8   \u001b[0m |\n",
      "| \u001b[0m 92      \u001b[0m | \u001b[0m 0.2968  \u001b[0m | \u001b[0m 6.356   \u001b[0m | \u001b[0m 153.0   \u001b[0m | \u001b[0m 113.8   \u001b[0m | \u001b[0m 290.3   \u001b[0m | \u001b[0m 177.9   \u001b[0m |\n",
      "| \u001b[0m 93      \u001b[0m | \u001b[0m 0.3796  \u001b[0m | \u001b[0m 6.547   \u001b[0m | \u001b[0m 126.9   \u001b[0m | \u001b[0m 74.56   \u001b[0m | \u001b[0m 157.5   \u001b[0m | \u001b[0m 129.6   \u001b[0m |\n",
      "| \u001b[0m 94      \u001b[0m | \u001b[0m 0.2592  \u001b[0m | \u001b[0m 7.351   \u001b[0m | \u001b[0m 42.06   \u001b[0m | \u001b[0m 93.65   \u001b[0m | \u001b[0m 272.1   \u001b[0m | \u001b[0m 161.0   \u001b[0m |\n",
      "| \u001b[0m 95      \u001b[0m | \u001b[0m 0.2564  \u001b[0m | \u001b[0m 6.603   \u001b[0m | \u001b[0m 135.5   \u001b[0m | \u001b[0m 91.03   \u001b[0m | \u001b[0m 386.6   \u001b[0m | \u001b[0m 135.9   \u001b[0m |\n",
      "| \u001b[0m 96      \u001b[0m | \u001b[0m 0.4443  \u001b[0m | \u001b[0m 1.958   \u001b[0m | \u001b[0m 188.2   \u001b[0m | \u001b[0m 112.8   \u001b[0m | \u001b[0m 5.1     \u001b[0m | \u001b[0m 123.0   \u001b[0m |\n",
      "| \u001b[0m 97      \u001b[0m | \u001b[0m 0.3855  \u001b[0m | \u001b[0m 3.165   \u001b[0m | \u001b[0m 142.7   \u001b[0m | \u001b[0m 103.3   \u001b[0m | \u001b[0m 247.0   \u001b[0m | \u001b[0m 143.6   \u001b[0m |\n",
      "| \u001b[0m 98      \u001b[0m | \u001b[0m 0.3768  \u001b[0m | \u001b[0m 4.54    \u001b[0m | \u001b[0m 186.5   \u001b[0m | \u001b[0m 143.2   \u001b[0m | \u001b[0m 185.5   \u001b[0m | \u001b[0m 132.6   \u001b[0m |\n",
      "| \u001b[0m 99      \u001b[0m | \u001b[0m 0.437   \u001b[0m | \u001b[0m 4.933   \u001b[0m | \u001b[0m 111.6   \u001b[0m | \u001b[0m 53.06   \u001b[0m | \u001b[0m 151.5   \u001b[0m | \u001b[0m 182.3   \u001b[0m |\n",
      "| \u001b[0m 100     \u001b[0m | \u001b[0m 0.2074  \u001b[0m | \u001b[0m 7.561   \u001b[0m | \u001b[0m 5.185   \u001b[0m | \u001b[0m 187.2   \u001b[0m | \u001b[0m 253.8   \u001b[0m | \u001b[0m 170.9   \u001b[0m |\n",
      "| \u001b[0m 101     \u001b[0m | \u001b[0m 0.7784  \u001b[0m | \u001b[0m 0.4789  \u001b[0m | \u001b[0m 136.6   \u001b[0m | \u001b[0m 12.02   \u001b[0m | \u001b[0m 347.8   \u001b[0m | \u001b[0m 119.7   \u001b[0m |\n",
      "| \u001b[0m 102     \u001b[0m | \u001b[0m 0.4815  \u001b[0m | \u001b[0m 3.767   \u001b[0m | \u001b[0m 190.2   \u001b[0m | \u001b[0m 144.1   \u001b[0m | \u001b[0m 193.1   \u001b[0m | \u001b[0m 103.8   \u001b[0m |\n",
      "| \u001b[0m 103     \u001b[0m | \u001b[0m 0.2533  \u001b[0m | \u001b[0m 8.703   \u001b[0m | \u001b[0m 122.3   \u001b[0m | \u001b[0m 86.11   \u001b[0m | \u001b[0m 299.3   \u001b[0m | \u001b[0m 150.0   \u001b[0m |\n",
      "| \u001b[0m 104     \u001b[0m | \u001b[0m 0.214   \u001b[0m | \u001b[0m 8.504   \u001b[0m | \u001b[0m 131.0   \u001b[0m | \u001b[0m 177.3   \u001b[0m | \u001b[0m 90.21   \u001b[0m | \u001b[0m 103.2   \u001b[0m |\n",
      "| \u001b[0m 105     \u001b[0m | \u001b[0m 0.794   \u001b[0m | \u001b[0m 0.6663  \u001b[0m | \u001b[0m 37.45   \u001b[0m | \u001b[0m 57.5    \u001b[0m | \u001b[0m 304.5   \u001b[0m | \u001b[0m 109.8   \u001b[0m |\n",
      "| \u001b[0m 106     \u001b[0m | \u001b[0m 0.444   \u001b[0m | \u001b[0m 3.17    \u001b[0m | \u001b[0m 17.28   \u001b[0m | \u001b[0m 58.33   \u001b[0m | \u001b[0m 138.9   \u001b[0m | \u001b[0m 121.2   \u001b[0m |\n",
      "| \u001b[0m 107     \u001b[0m | \u001b[0m 0.5202  \u001b[0m | \u001b[0m 7.417   \u001b[0m | \u001b[0m 72.03   \u001b[0m | \u001b[0m 34.02   \u001b[0m | \u001b[0m 40.49   \u001b[0m | \u001b[0m 171.6   \u001b[0m |\n",
      "| \u001b[0m 108     \u001b[0m | \u001b[0m 0.4589  \u001b[0m | \u001b[0m 2.821   \u001b[0m | \u001b[0m 53.56   \u001b[0m | \u001b[0m 123.9   \u001b[0m | \u001b[0m 229.4   \u001b[0m | \u001b[0m 106.4   \u001b[0m |\n",
      "| \u001b[0m 109     \u001b[0m | \u001b[0m 0.4558  \u001b[0m | \u001b[0m 3.873   \u001b[0m | \u001b[0m 169.8   \u001b[0m | \u001b[0m 150.3   \u001b[0m | \u001b[0m 74.02   \u001b[0m | \u001b[0m 139.6   \u001b[0m |\n",
      "| \u001b[0m 110     \u001b[0m | \u001b[0m 0.3845  \u001b[0m | \u001b[0m 5.456   \u001b[0m | \u001b[0m 54.62   \u001b[0m | \u001b[0m 113.3   \u001b[0m | \u001b[0m 2.45    \u001b[0m | \u001b[0m 144.8   \u001b[0m |\n",
      "| \u001b[0m 111     \u001b[0m | \u001b[0m 0.3281  \u001b[0m | \u001b[0m 4.654   \u001b[0m | \u001b[0m 59.34   \u001b[0m | \u001b[0m 175.7   \u001b[0m | \u001b[0m 102.0   \u001b[0m | \u001b[0m 179.9   \u001b[0m |\n",
      "| \u001b[0m 112     \u001b[0m | \u001b[0m 0.2008  \u001b[0m | \u001b[0m 10.0    \u001b[0m | \u001b[0m 100.3   \u001b[0m | \u001b[0m 109.8   \u001b[0m | \u001b[0m 260.5   \u001b[0m | \u001b[0m 109.9   \u001b[0m |\n",
      "| \u001b[0m 113     \u001b[0m | \u001b[0m 0.5112  \u001b[0m | \u001b[0m 2.622   \u001b[0m | \u001b[0m 18.21   \u001b[0m | \u001b[0m 49.45   \u001b[0m | \u001b[0m 275.2   \u001b[0m | \u001b[0m 121.5   \u001b[0m |\n",
      "| \u001b[0m 114     \u001b[0m | \u001b[0m 0.7933  \u001b[0m | \u001b[0m 0.8066  \u001b[0m | \u001b[0m 156.9   \u001b[0m | \u001b[0m 53.61   \u001b[0m | \u001b[0m 58.8    \u001b[0m | \u001b[0m 137.0   \u001b[0m |\n",
      "| \u001b[0m 115     \u001b[0m | \u001b[0m 0.2136  \u001b[0m | \u001b[0m 8.57    \u001b[0m | \u001b[0m 104.3   \u001b[0m | \u001b[0m 105.2   \u001b[0m | \u001b[0m 339.6   \u001b[0m | \u001b[0m 191.2   \u001b[0m |\n",
      "| \u001b[0m 116     \u001b[0m | \u001b[0m 0.4496  \u001b[0m | \u001b[0m 2.236   \u001b[0m | \u001b[0m 27.42   \u001b[0m | \u001b[0m 77.98   \u001b[0m | \u001b[0m 87.15   \u001b[0m | \u001b[0m 156.5   \u001b[0m |\n",
      "| \u001b[0m 117     \u001b[0m | \u001b[0m 0.2502  \u001b[0m | \u001b[0m 9.003   \u001b[0m | \u001b[0m 57.52   \u001b[0m | \u001b[0m 136.6   \u001b[0m | \u001b[0m 44.69   \u001b[0m | \u001b[0m 173.7   \u001b[0m |\n",
      "| \u001b[0m 118     \u001b[0m | \u001b[0m 0.5478  \u001b[0m | \u001b[0m 1.011   \u001b[0m | \u001b[0m 54.5    \u001b[0m | \u001b[0m 103.6   \u001b[0m | \u001b[0m 192.8   \u001b[0m | \u001b[0m 197.2   \u001b[0m |\n",
      "| \u001b[0m 119     \u001b[0m | \u001b[0m 0.4958  \u001b[0m | \u001b[0m 3.778   \u001b[0m | \u001b[0m 103.2   \u001b[0m | \u001b[0m 127.0   \u001b[0m | \u001b[0m 46.37   \u001b[0m | \u001b[0m 175.6   \u001b[0m |\n",
      "| \u001b[0m 120     \u001b[0m | \u001b[0m 0.3048  \u001b[0m | \u001b[0m 5.334   \u001b[0m | \u001b[0m 88.78   \u001b[0m | \u001b[0m 83.62   \u001b[0m | \u001b[0m 252.8   \u001b[0m | \u001b[0m 191.6   \u001b[0m |\n",
      "| \u001b[0m 121     \u001b[0m | \u001b[0m 0.294   \u001b[0m | \u001b[0m 7.549   \u001b[0m | \u001b[0m 56.21   \u001b[0m | \u001b[0m 140.2   \u001b[0m | \u001b[0m 167.9   \u001b[0m | \u001b[0m 105.4   \u001b[0m |\n",
      "| \u001b[0m 122     \u001b[0m | \u001b[0m 0.4961  \u001b[0m | \u001b[0m 2.311   \u001b[0m | \u001b[0m 28.54   \u001b[0m | \u001b[0m 190.3   \u001b[0m | \u001b[0m 95.58   \u001b[0m | \u001b[0m 167.8   \u001b[0m |\n",
      "| \u001b[0m 123     \u001b[0m | \u001b[0m 0.4875  \u001b[0m | \u001b[0m 7.422   \u001b[0m | \u001b[0m 24.21   \u001b[0m | \u001b[0m 33.7    \u001b[0m | \u001b[0m 215.7   \u001b[0m | \u001b[0m 143.2   \u001b[0m |\n",
      "| \u001b[0m 124     \u001b[0m | \u001b[0m 0.3087  \u001b[0m | \u001b[0m 7.589   \u001b[0m | \u001b[0m 40.93   \u001b[0m | \u001b[0m 147.4   \u001b[0m | \u001b[0m 9.317   \u001b[0m | \u001b[0m 103.7   \u001b[0m |\n",
      "| \u001b[0m 125     \u001b[0m | \u001b[0m 0.3528  \u001b[0m | \u001b[0m 1.367   \u001b[0m | \u001b[0m 127.3   \u001b[0m | \u001b[0m 145.1   \u001b[0m | \u001b[0m 285.4   \u001b[0m | \u001b[0m 183.9   \u001b[0m |\n",
      "| \u001b[0m 126     \u001b[0m | \u001b[0m 0.4008  \u001b[0m | \u001b[0m 3.79    \u001b[0m | \u001b[0m 132.5   \u001b[0m | \u001b[0m 150.7   \u001b[0m | \u001b[0m 207.1   \u001b[0m | \u001b[0m 116.3   \u001b[0m |\n",
      "| \u001b[0m 127     \u001b[0m | \u001b[0m 0.221   \u001b[0m | \u001b[0m 6.962   \u001b[0m | \u001b[0m 197.6   \u001b[0m | \u001b[0m 31.14   \u001b[0m | \u001b[0m 394.8   \u001b[0m | \u001b[0m 188.0   \u001b[0m |\n",
      "| \u001b[0m 128     \u001b[0m | \u001b[0m 0.271   \u001b[0m | \u001b[0m 5.21    \u001b[0m | \u001b[0m 70.32   \u001b[0m | \u001b[0m 42.65   \u001b[0m | \u001b[0m 395.6   \u001b[0m | \u001b[0m 168.1   \u001b[0m |\n",
      "| \u001b[0m 129     \u001b[0m | \u001b[0m 0.3521  \u001b[0m | \u001b[0m 3.415   \u001b[0m | \u001b[0m 199.8   \u001b[0m | \u001b[0m 186.9   \u001b[0m | \u001b[0m 299.3   \u001b[0m | \u001b[0m 181.5   \u001b[0m |\n",
      "| \u001b[0m 130     \u001b[0m | \u001b[0m 0.3897  \u001b[0m | \u001b[0m 4.126   \u001b[0m | \u001b[0m 67.46   \u001b[0m | \u001b[0m 68.33   \u001b[0m | \u001b[0m 271.1   \u001b[0m | \u001b[0m 119.9   \u001b[0m |\n",
      "| \u001b[0m 131     \u001b[0m | \u001b[0m 0.4277  \u001b[0m | \u001b[0m 9.431   \u001b[0m | \u001b[0m 154.6   \u001b[0m | \u001b[0m 55.61   \u001b[0m | \u001b[0m 226.8   \u001b[0m | \u001b[0m 110.1   \u001b[0m |\n",
      "| \u001b[0m 132     \u001b[0m | \u001b[0m 0.3083  \u001b[0m | \u001b[0m 7.427   \u001b[0m | \u001b[0m 93.15   \u001b[0m | \u001b[0m 104.1   \u001b[0m | \u001b[0m 291.6   \u001b[0m | \u001b[0m 139.9   \u001b[0m |\n",
      "| \u001b[0m 133     \u001b[0m | \u001b[0m 0.396   \u001b[0m | \u001b[0m 2.506   \u001b[0m | \u001b[0m 75.67   \u001b[0m | \u001b[0m 84.0    \u001b[0m | \u001b[0m 54.98   \u001b[0m | \u001b[0m 130.0   \u001b[0m |\n",
      "| \u001b[0m 134     \u001b[0m | \u001b[0m 0.2224  \u001b[0m | \u001b[0m 8.138   \u001b[0m | \u001b[0m 172.4   \u001b[0m | \u001b[0m 25.44   \u001b[0m | \u001b[0m 339.2   \u001b[0m | \u001b[0m 126.0   \u001b[0m |\n",
      "| \u001b[0m 135     \u001b[0m | \u001b[0m 0.2196  \u001b[0m | \u001b[0m 9.274   \u001b[0m | \u001b[0m 78.75   \u001b[0m | \u001b[0m 160.9   \u001b[0m | \u001b[0m 260.8   \u001b[0m | \u001b[0m 112.0   \u001b[0m |\n",
      "| \u001b[0m 136     \u001b[0m | \u001b[0m 0.4113  \u001b[0m | \u001b[0m 6.127   \u001b[0m | \u001b[0m 127.8   \u001b[0m | \u001b[0m 139.7   \u001b[0m | \u001b[0m 56.65   \u001b[0m | \u001b[0m 108.6   \u001b[0m |\n",
      "| \u001b[0m 137     \u001b[0m | \u001b[0m 0.1872  \u001b[0m | \u001b[0m 7.777   \u001b[0m | \u001b[0m 11.32   \u001b[0m | \u001b[0m 112.4   \u001b[0m | \u001b[0m 352.5   \u001b[0m | \u001b[0m 140.0   \u001b[0m |\n",
      "| \u001b[0m 138     \u001b[0m | \u001b[0m 0.4649  \u001b[0m | \u001b[0m 2.48    \u001b[0m | \u001b[0m 30.59   \u001b[0m | \u001b[0m 42.27   \u001b[0m | \u001b[0m 261.2   \u001b[0m | \u001b[0m 101.1   \u001b[0m |\n",
      "| \u001b[0m 139     \u001b[0m | \u001b[0m 0.4444  \u001b[0m | \u001b[0m 6.243   \u001b[0m | \u001b[0m 109.8   \u001b[0m | \u001b[0m 34.41   \u001b[0m | \u001b[0m 230.2   \u001b[0m | \u001b[0m 170.3   \u001b[0m |\n",
      "| \u001b[0m 140     \u001b[0m | \u001b[0m 0.1628  \u001b[0m | \u001b[0m 7.16    \u001b[0m | \u001b[0m 120.1   \u001b[0m | \u001b[0m 92.83   \u001b[0m | \u001b[0m 394.8   \u001b[0m | \u001b[0m 118.0   \u001b[0m |\n",
      "| \u001b[0m 141     \u001b[0m | \u001b[0m 0.4906  \u001b[0m | \u001b[0m 7.249   \u001b[0m | \u001b[0m 131.9   \u001b[0m | \u001b[0m 39.07   \u001b[0m | \u001b[0m 25.94   \u001b[0m | \u001b[0m 130.8   \u001b[0m |\n",
      "| \u001b[0m 142     \u001b[0m | \u001b[0m 0.1757  \u001b[0m | \u001b[0m 9.643   \u001b[0m | \u001b[0m 67.43   \u001b[0m | \u001b[0m 185.3   \u001b[0m | \u001b[0m 244.8   \u001b[0m | \u001b[0m 118.7   \u001b[0m |\n",
      "| \u001b[0m 143     \u001b[0m | \u001b[0m 0.4332  \u001b[0m | \u001b[0m 2.822   \u001b[0m | \u001b[0m 128.4   \u001b[0m | \u001b[0m 42.37   \u001b[0m | \u001b[0m 173.4   \u001b[0m | \u001b[0m 115.5   \u001b[0m |\n",
      "| \u001b[0m 144     \u001b[0m | \u001b[0m 0.3747  \u001b[0m | \u001b[0m 7.654   \u001b[0m | \u001b[0m 97.18   \u001b[0m | \u001b[0m 90.21   \u001b[0m | \u001b[0m 164.4   \u001b[0m | \u001b[0m 190.4   \u001b[0m |\n",
      "| \u001b[0m 145     \u001b[0m | \u001b[0m 0.8027  \u001b[0m | \u001b[0m 0.814   \u001b[0m | \u001b[0m 39.71   \u001b[0m | \u001b[0m 103.2   \u001b[0m | \u001b[0m 333.2   \u001b[0m | \u001b[0m 100.2   \u001b[0m |\n",
      "| \u001b[0m 146     \u001b[0m | \u001b[0m 0.7954  \u001b[0m | \u001b[0m 0.6832  \u001b[0m | \u001b[0m 191.3   \u001b[0m | \u001b[0m 99.89   \u001b[0m | \u001b[0m 307.8   \u001b[0m | \u001b[0m 112.3   \u001b[0m |\n",
      "| \u001b[0m 147     \u001b[0m | \u001b[0m 0.374   \u001b[0m | \u001b[0m 4.601   \u001b[0m | \u001b[0m 196.0   \u001b[0m | \u001b[0m 161.9   \u001b[0m | \u001b[0m 275.5   \u001b[0m | \u001b[0m 129.7   \u001b[0m |\n",
      "| \u001b[0m 148     \u001b[0m | \u001b[0m 0.4023  \u001b[0m | \u001b[0m 2.4     \u001b[0m | \u001b[0m 11.2    \u001b[0m | \u001b[0m 187.5   \u001b[0m | \u001b[0m 226.8   \u001b[0m | \u001b[0m 137.4   \u001b[0m |\n",
      "| \u001b[0m 149     \u001b[0m | \u001b[0m 0.2961  \u001b[0m | \u001b[0m 7.434   \u001b[0m | \u001b[0m 187.7   \u001b[0m | \u001b[0m 110.9   \u001b[0m | \u001b[0m 36.48   \u001b[0m | \u001b[0m 137.3   \u001b[0m |\n",
      "| \u001b[0m 150     \u001b[0m | \u001b[0m 0.4798  \u001b[0m | \u001b[0m 3.253   \u001b[0m | \u001b[0m 110.1   \u001b[0m | \u001b[0m 147.1   \u001b[0m | \u001b[0m 286.8   \u001b[0m | \u001b[0m 113.2   \u001b[0m |\n",
      "| \u001b[0m 151     \u001b[0m | \u001b[0m 0.3274  \u001b[0m | \u001b[0m 5.89    \u001b[0m | \u001b[0m 32.08   \u001b[0m | \u001b[0m 162.5   \u001b[0m | \u001b[0m 103.4   \u001b[0m | \u001b[0m 194.5   \u001b[0m |\n",
      "| \u001b[0m 152     \u001b[0m | \u001b[0m 0.3326  \u001b[0m | \u001b[0m 1.32    \u001b[0m | \u001b[0m 184.9   \u001b[0m | \u001b[0m 7.054   \u001b[0m | \u001b[0m 382.3   \u001b[0m | \u001b[0m 188.4   \u001b[0m |\n",
      "| \u001b[0m 153     \u001b[0m | \u001b[0m 0.7951  \u001b[0m | \u001b[0m 0.584   \u001b[0m | \u001b[0m 135.2   \u001b[0m | \u001b[0m 87.9    \u001b[0m | \u001b[0m 58.58   \u001b[0m | \u001b[0m 134.7   \u001b[0m |\n",
      "| \u001b[0m 154     \u001b[0m | \u001b[0m 0.484   \u001b[0m | \u001b[0m 3.601   \u001b[0m | \u001b[0m 79.6    \u001b[0m | \u001b[0m 128.4   \u001b[0m | \u001b[0m 123.3   \u001b[0m | \u001b[0m 185.4   \u001b[0m |\n",
      "| \u001b[0m 155     \u001b[0m | \u001b[0m 0.318   \u001b[0m | \u001b[0m 6.189   \u001b[0m | \u001b[0m 60.08   \u001b[0m | \u001b[0m 92.9    \u001b[0m | \u001b[0m 326.8   \u001b[0m | \u001b[0m 101.3   \u001b[0m |\n",
      "| \u001b[0m 156     \u001b[0m | \u001b[0m 0.31    \u001b[0m | \u001b[0m 8.491   \u001b[0m | \u001b[0m 17.93   \u001b[0m | \u001b[0m 135.5   \u001b[0m | \u001b[0m 153.7   \u001b[0m | \u001b[0m 101.2   \u001b[0m |\n",
      "| \u001b[0m 157     \u001b[0m | \u001b[0m 0.342   \u001b[0m | \u001b[0m 3.985   \u001b[0m | \u001b[0m 100.5   \u001b[0m | \u001b[0m 184.9   \u001b[0m | \u001b[0m 347.5   \u001b[0m | \u001b[0m 134.5   \u001b[0m |\n",
      "| \u001b[0m 158     \u001b[0m | \u001b[0m 0.4805  \u001b[0m | \u001b[0m 3.562   \u001b[0m | \u001b[0m 85.26   \u001b[0m | \u001b[0m 40.3    \u001b[0m | \u001b[0m 82.72   \u001b[0m | \u001b[0m 130.3   \u001b[0m |\n",
      "| \u001b[0m 159     \u001b[0m | \u001b[0m 0.3208  \u001b[0m | \u001b[0m 9.385   \u001b[0m | \u001b[0m 29.85   \u001b[0m | \u001b[0m 82.35   \u001b[0m | \u001b[0m 220.6   \u001b[0m | \u001b[0m 167.1   \u001b[0m |\n",
      "| \u001b[0m 160     \u001b[0m | \u001b[0m 0.2324  \u001b[0m | \u001b[0m 6.616   \u001b[0m | \u001b[0m 27.58   \u001b[0m | \u001b[0m 191.5   \u001b[0m | \u001b[0m 325.9   \u001b[0m | \u001b[0m 147.4   \u001b[0m |\n",
      "| \u001b[0m 161     \u001b[0m | \u001b[0m 0.3191  \u001b[0m | \u001b[0m 9.002   \u001b[0m | \u001b[0m 61.07   \u001b[0m | \u001b[0m 33.53   \u001b[0m | \u001b[0m 296.5   \u001b[0m | \u001b[0m 199.5   \u001b[0m |\n",
      "| \u001b[0m 162     \u001b[0m | \u001b[0m 0.2756  \u001b[0m | \u001b[0m 6.41    \u001b[0m | \u001b[0m 45.85   \u001b[0m | \u001b[0m 191.5   \u001b[0m | \u001b[0m 344.6   \u001b[0m | \u001b[0m 184.5   \u001b[0m |\n",
      "| \u001b[0m 163     \u001b[0m | \u001b[0m 0.2846  \u001b[0m | \u001b[0m 5.088   \u001b[0m | \u001b[0m 149.1   \u001b[0m | \u001b[0m 82.42   \u001b[0m | \u001b[0m 392.1   \u001b[0m | \u001b[0m 171.0   \u001b[0m |\n",
      "| \u001b[0m 164     \u001b[0m | \u001b[0m 0.2669  \u001b[0m | \u001b[0m 4.833   \u001b[0m | \u001b[0m 137.5   \u001b[0m | \u001b[0m 48.86   \u001b[0m | \u001b[0m 367.9   \u001b[0m | \u001b[0m 121.8   \u001b[0m |\n",
      "| \u001b[0m 165     \u001b[0m | \u001b[0m 0.426   \u001b[0m | \u001b[0m 1.076   \u001b[0m | \u001b[0m 48.67   \u001b[0m | \u001b[0m 197.4   \u001b[0m | \u001b[0m 99.73   \u001b[0m | \u001b[0m 103.0   \u001b[0m |\n",
      "| \u001b[0m 166     \u001b[0m | \u001b[0m 0.3973  \u001b[0m | \u001b[0m 5.093   \u001b[0m | \u001b[0m 166.6   \u001b[0m | \u001b[0m 168.6   \u001b[0m | \u001b[0m 239.3   \u001b[0m | \u001b[0m 164.1   \u001b[0m |\n",
      "| \u001b[0m 167     \u001b[0m | \u001b[0m 0.4725  \u001b[0m | \u001b[0m 2.986   \u001b[0m | \u001b[0m 18.39   \u001b[0m | \u001b[0m 91.05   \u001b[0m | \u001b[0m 307.0   \u001b[0m | \u001b[0m 190.5   \u001b[0m |\n",
      "| \u001b[0m 168     \u001b[0m | \u001b[0m 0.2648  \u001b[0m | \u001b[0m 6.858   \u001b[0m | \u001b[0m 137.8   \u001b[0m | \u001b[0m 114.8   \u001b[0m | \u001b[0m 276.4   \u001b[0m | \u001b[0m 112.9   \u001b[0m |\n",
      "| \u001b[0m 169     \u001b[0m | \u001b[0m 0.5439  \u001b[0m | \u001b[0m 3.455   \u001b[0m | \u001b[0m 39.43   \u001b[0m | \u001b[0m 57.43   \u001b[0m | \u001b[0m 308.7   \u001b[0m | \u001b[0m 113.0   \u001b[0m |\n",
      "| \u001b[0m 170     \u001b[0m | \u001b[0m 0.4645  \u001b[0m | \u001b[0m 1.225   \u001b[0m | \u001b[0m 33.54   \u001b[0m | \u001b[0m 53.05   \u001b[0m | \u001b[0m 51.25   \u001b[0m | \u001b[0m 162.3   \u001b[0m |\n",
      "| \u001b[0m 171     \u001b[0m | \u001b[0m 0.8013  \u001b[0m | \u001b[0m 0.2907  \u001b[0m | \u001b[0m 14.85   \u001b[0m | \u001b[0m 87.65   \u001b[0m | \u001b[0m 303.6   \u001b[0m | \u001b[0m 191.5   \u001b[0m |\n",
      "| \u001b[0m 172     \u001b[0m | \u001b[0m 0.5194  \u001b[0m | \u001b[0m 2.91    \u001b[0m | \u001b[0m 16.74   \u001b[0m | \u001b[0m 88.6    \u001b[0m | \u001b[0m 298.0   \u001b[0m | \u001b[0m 185.5   \u001b[0m |\n",
      "| \u001b[0m 173     \u001b[0m | \u001b[0m 0.4019  \u001b[0m | \u001b[0m 3.104   \u001b[0m | \u001b[0m 34.66   \u001b[0m | \u001b[0m 56.8    \u001b[0m | \u001b[0m 57.24   \u001b[0m | \u001b[0m 164.9   \u001b[0m |\n",
      "| \u001b[0m 174     \u001b[0m | \u001b[0m 0.3793  \u001b[0m | \u001b[0m 2.087   \u001b[0m | \u001b[0m 82.6    \u001b[0m | \u001b[0m 84.25   \u001b[0m | \u001b[0m 12.7    \u001b[0m | \u001b[0m 120.9   \u001b[0m |\n",
      "| \u001b[0m 175     \u001b[0m | \u001b[0m 0.5174  \u001b[0m | \u001b[0m 2.856   \u001b[0m | \u001b[0m 190.5   \u001b[0m | \u001b[0m 162.9   \u001b[0m | \u001b[0m 297.2   \u001b[0m | \u001b[0m 192.6   \u001b[0m |\n",
      "| \u001b[0m 176     \u001b[0m | \u001b[0m 0.4433  \u001b[0m | \u001b[0m 2.593   \u001b[0m | \u001b[0m 39.61   \u001b[0m | \u001b[0m 56.47   \u001b[0m | \u001b[0m 305.9   \u001b[0m | \u001b[0m 114.1   \u001b[0m |\n",
      "| \u001b[0m 177     \u001b[0m | \u001b[0m 0.4026  \u001b[0m | \u001b[0m 1.856   \u001b[0m | \u001b[0m 10.03   \u001b[0m | \u001b[0m 85.74   \u001b[0m | \u001b[0m 305.9   \u001b[0m | \u001b[0m 191.1   \u001b[0m |\n",
      "| \u001b[0m 178     \u001b[0m | \u001b[0m 0.4784  \u001b[0m | \u001b[0m 2.787   \u001b[0m | \u001b[0m 162.1   \u001b[0m | \u001b[0m 54.28   \u001b[0m | \u001b[0m 63.36   \u001b[0m | \u001b[0m 139.3   \u001b[0m |\n",
      "| \u001b[0m 179     \u001b[0m | \u001b[0m 0.4979  \u001b[0m | \u001b[0m 5.762   \u001b[0m | \u001b[0m 78.57   \u001b[0m | \u001b[0m 32.42   \u001b[0m | \u001b[0m 43.79   \u001b[0m | \u001b[0m 170.5   \u001b[0m |\n",
      "| \u001b[0m 180     \u001b[0m | \u001b[0m 0.2039  \u001b[0m | \u001b[0m 7.001   \u001b[0m | \u001b[0m 190.8   \u001b[0m | \u001b[0m 168.1   \u001b[0m | \u001b[0m 303.8   \u001b[0m | \u001b[0m 199.6   \u001b[0m |\n",
      "| \u001b[0m 181     \u001b[0m | \u001b[0m 0.8003  \u001b[0m | \u001b[0m 0.2389  \u001b[0m | \u001b[0m 42.14   \u001b[0m | \u001b[0m 105.1   \u001b[0m | \u001b[0m 335.5   \u001b[0m | \u001b[0m 104.9   \u001b[0m |\n",
      "| \u001b[0m 182     \u001b[0m | \u001b[0m 0.5978  \u001b[0m | \u001b[0m 0.9741  \u001b[0m | \u001b[0m 196.5   \u001b[0m | \u001b[0m 97.8    \u001b[0m | \u001b[0m 360.2   \u001b[0m | \u001b[0m 177.4   \u001b[0m |\n",
      "| \u001b[0m 183     \u001b[0m | \u001b[0m 0.3893  \u001b[0m | \u001b[0m 1.953   \u001b[0m | \u001b[0m 47.42   \u001b[0m | \u001b[0m 106.1   \u001b[0m | \u001b[0m 341.4   \u001b[0m | \u001b[0m 107.3   \u001b[0m |\n",
      "| \u001b[0m 184     \u001b[0m | \u001b[0m 0.43    \u001b[0m | \u001b[0m 3.056   \u001b[0m | \u001b[0m 38.42   \u001b[0m | \u001b[0m 106.8   \u001b[0m | \u001b[0m 336.8   \u001b[0m | \u001b[0m 106.9   \u001b[0m |\n",
      "| \u001b[0m 185     \u001b[0m | \u001b[0m 0.3622  \u001b[0m | \u001b[0m 4.955   \u001b[0m | \u001b[0m 136.8   \u001b[0m | \u001b[0m 10.73   \u001b[0m | \u001b[0m 346.0   \u001b[0m | \u001b[0m 117.3   \u001b[0m |\n",
      "| \u001b[0m 186     \u001b[0m | \u001b[0m 0.4242  \u001b[0m | \u001b[0m 2.82    \u001b[0m | \u001b[0m 86.01   \u001b[0m | \u001b[0m 77.78   \u001b[0m | \u001b[0m 10.39   \u001b[0m | \u001b[0m 125.5   \u001b[0m |\n",
      "| \u001b[0m 187     \u001b[0m | \u001b[0m 0.7905  \u001b[0m | \u001b[0m 0.8044  \u001b[0m | \u001b[0m 182.9   \u001b[0m | \u001b[0m 61.06   \u001b[0m | \u001b[0m 309.5   \u001b[0m | \u001b[0m 193.7   \u001b[0m |\n",
      "| \u001b[0m 188     \u001b[0m | \u001b[0m 0.3984  \u001b[0m | \u001b[0m 5.069   \u001b[0m | \u001b[0m 197.3   \u001b[0m | \u001b[0m 99.47   \u001b[0m | \u001b[0m 364.6   \u001b[0m | \u001b[0m 179.1   \u001b[0m |\n",
      "| \u001b[0m 189     \u001b[0m | \u001b[0m 0.801   \u001b[0m | \u001b[0m 0.9125  \u001b[0m | \u001b[0m 131.2   \u001b[0m | \u001b[0m 124.6   \u001b[0m | \u001b[0m 278.2   \u001b[0m | \u001b[0m 106.2   \u001b[0m |\n",
      "| \u001b[0m 190     \u001b[0m | \u001b[0m 0.7989  \u001b[0m | \u001b[0m 0.3402  \u001b[0m | \u001b[0m 196.9   \u001b[0m | \u001b[0m 97.9    \u001b[0m | \u001b[0m 370.0   \u001b[0m | \u001b[0m 175.9   \u001b[0m |\n",
      "| \u001b[0m 191     \u001b[0m | \u001b[0m 0.793   \u001b[0m | \u001b[0m 0.1344  \u001b[0m | \u001b[0m 18.39   \u001b[0m | \u001b[0m 90.3    \u001b[0m | \u001b[0m 308.5   \u001b[0m | \u001b[0m 183.6   \u001b[0m |\n",
      "| \u001b[0m 192     \u001b[0m | \u001b[0m 0.3807  \u001b[0m | \u001b[0m 1.272   \u001b[0m | \u001b[0m 177.8   \u001b[0m | \u001b[0m 57.69   \u001b[0m | \u001b[0m 307.1   \u001b[0m | \u001b[0m 199.6   \u001b[0m |\n",
      "| \u001b[0m 193     \u001b[0m | \u001b[0m 0.437   \u001b[0m | \u001b[0m 2.199   \u001b[0m | \u001b[0m 151.5   \u001b[0m | \u001b[0m 58.46   \u001b[0m | \u001b[0m 60.13   \u001b[0m | \u001b[0m 134.3   \u001b[0m |\n",
      "| \u001b[0m 194     \u001b[0m | \u001b[0m 0.4461  \u001b[0m | \u001b[0m 1.525   \u001b[0m | \u001b[0m 37.06   \u001b[0m | \u001b[0m 53.02   \u001b[0m | \u001b[0m 307.9   \u001b[0m | \u001b[0m 103.7   \u001b[0m |\n",
      "| \u001b[0m 195     \u001b[0m | \u001b[0m 0.3594  \u001b[0m | \u001b[0m 4.899   \u001b[0m | \u001b[0m 20.2    \u001b[0m | \u001b[0m 177.5   \u001b[0m | \u001b[0m 378.0   \u001b[0m | \u001b[0m 131.5   \u001b[0m |\n",
      "| \u001b[0m 196     \u001b[0m | \u001b[0m 0.4586  \u001b[0m | \u001b[0m 3.147   \u001b[0m | \u001b[0m 153.6   \u001b[0m | \u001b[0m 54.19   \u001b[0m | \u001b[0m 59.88   \u001b[0m | \u001b[0m 135.4   \u001b[0m |\n",
      "| \u001b[0m 197     \u001b[0m | \u001b[0m 0.4484  \u001b[0m | \u001b[0m 3.737   \u001b[0m | \u001b[0m 14.13   \u001b[0m | \u001b[0m 85.98   \u001b[0m | \u001b[0m 302.8   \u001b[0m | \u001b[0m 182.9   \u001b[0m |\n",
      "| \u001b[0m 198     \u001b[0m | \u001b[0m 0.3876  \u001b[0m | \u001b[0m 2.103   \u001b[0m | \u001b[0m 138.7   \u001b[0m | \u001b[0m 95.19   \u001b[0m | \u001b[0m 59.21   \u001b[0m | \u001b[0m 132.1   \u001b[0m |\n",
      "| \u001b[0m 199     \u001b[0m | \u001b[0m 0.4178  \u001b[0m | \u001b[0m 3.337   \u001b[0m | \u001b[0m 44.54   \u001b[0m | \u001b[0m 100.6   \u001b[0m | \u001b[0m 336.6   \u001b[0m | \u001b[0m 100.0   \u001b[0m |\n",
      "| \u001b[0m 200     \u001b[0m | \u001b[0m 0.332   \u001b[0m | \u001b[0m 1.222   \u001b[0m | \u001b[0m 70.58   \u001b[0m | \u001b[0m 167.7   \u001b[0m | \u001b[0m 25.98   \u001b[0m | \u001b[0m 176.3   \u001b[0m |\n",
      "| \u001b[0m 201     \u001b[0m | \u001b[0m 0.2523  \u001b[0m | \u001b[0m 7.486   \u001b[0m | \u001b[0m 42.01   \u001b[0m | \u001b[0m 105.5   \u001b[0m | \u001b[0m 328.5   \u001b[0m | \u001b[0m 100.0   \u001b[0m |\n",
      "| \u001b[0m 202     \u001b[0m | \u001b[0m 0.4377  \u001b[0m | \u001b[0m 1.077   \u001b[0m | \u001b[0m 28.32   \u001b[0m | \u001b[0m 53.58   \u001b[0m | \u001b[0m 305.1   \u001b[0m | \u001b[0m 113.1   \u001b[0m |\n",
      "| \u001b[0m 203     \u001b[0m | \u001b[0m 0.3873  \u001b[0m | \u001b[0m 5.963   \u001b[0m | \u001b[0m 35.74   \u001b[0m | \u001b[0m 62.06   \u001b[0m | \u001b[0m 303.3   \u001b[0m | \u001b[0m 109.3   \u001b[0m |\n",
      "| \u001b[0m 204     \u001b[0m | \u001b[0m 0.469   \u001b[0m | \u001b[0m 2.307   \u001b[0m | \u001b[0m 21.18   \u001b[0m | \u001b[0m 181.2   \u001b[0m | \u001b[0m 378.4   \u001b[0m | \u001b[0m 139.4   \u001b[0m |\n",
      "| \u001b[0m 205     \u001b[0m | \u001b[0m 0.468   \u001b[0m | \u001b[0m 3.632   \u001b[0m | \u001b[0m 19.43   \u001b[0m | \u001b[0m 91.51   \u001b[0m | \u001b[0m 304.8   \u001b[0m | \u001b[0m 184.0   \u001b[0m |\n",
      "| \u001b[0m 206     \u001b[0m | \u001b[0m 0.397   \u001b[0m | \u001b[0m 3.133   \u001b[0m | \u001b[0m 133.6   \u001b[0m | \u001b[0m 84.65   \u001b[0m | \u001b[0m 55.35   \u001b[0m | \u001b[0m 136.0   \u001b[0m |\n",
      "| \u001b[0m 207     \u001b[0m | \u001b[0m 0.4485  \u001b[0m | \u001b[0m 4.852   \u001b[0m | \u001b[0m 23.32   \u001b[0m | \u001b[0m 85.39   \u001b[0m | \u001b[0m 299.8   \u001b[0m | \u001b[0m 189.6   \u001b[0m |\n",
      "| \u001b[0m 208     \u001b[0m | \u001b[0m 0.2749  \u001b[0m | \u001b[0m 7.782   \u001b[0m | \u001b[0m 138.3   \u001b[0m | \u001b[0m 125.2   \u001b[0m | \u001b[0m 276.9   \u001b[0m | \u001b[0m 107.0   \u001b[0m |\n",
      "| \u001b[0m 209     \u001b[0m | \u001b[0m 0.3378  \u001b[0m | \u001b[0m 1.789   \u001b[0m | \u001b[0m 128.1   \u001b[0m | \u001b[0m 116.8   \u001b[0m | \u001b[0m 270.0   \u001b[0m | \u001b[0m 103.7   \u001b[0m |\n",
      "| \u001b[0m 210     \u001b[0m | \u001b[0m 0.4228  \u001b[0m | \u001b[0m 1.644   \u001b[0m | \u001b[0m 139.9   \u001b[0m | \u001b[0m 89.61   \u001b[0m | \u001b[0m 60.51   \u001b[0m | \u001b[0m 132.3   \u001b[0m |\n",
      "| \u001b[0m 211     \u001b[0m | \u001b[0m 0.4597  \u001b[0m | \u001b[0m 4.994   \u001b[0m | \u001b[0m 88.41   \u001b[0m | \u001b[0m 16.8    \u001b[0m | \u001b[0m 309.5   \u001b[0m | \u001b[0m 103.0   \u001b[0m |\n",
      "| \u001b[0m 212     \u001b[0m | \u001b[0m 0.7968  \u001b[0m | \u001b[0m 0.4046  \u001b[0m | \u001b[0m 193.5   \u001b[0m | \u001b[0m 100.6   \u001b[0m | \u001b[0m 312.9   \u001b[0m | \u001b[0m 115.4   \u001b[0m |\n",
      "| \u001b[0m 213     \u001b[0m | \u001b[0m 0.4527  \u001b[0m | \u001b[0m 2.723   \u001b[0m | \u001b[0m 158.7   \u001b[0m | \u001b[0m 52.31   \u001b[0m | \u001b[0m 62.42   \u001b[0m | \u001b[0m 142.0   \u001b[0m |\n",
      "| \u001b[0m 214     \u001b[0m | \u001b[0m 0.4224  \u001b[0m | \u001b[0m 2.185   \u001b[0m | \u001b[0m 137.7   \u001b[0m | \u001b[0m 124.7   \u001b[0m | \u001b[0m 278.3   \u001b[0m | \u001b[0m 110.3   \u001b[0m |\n",
      "| \u001b[0m 215     \u001b[0m | \u001b[0m 0.4837  \u001b[0m | \u001b[0m 4.23    \u001b[0m | \u001b[0m 191.7   \u001b[0m | \u001b[0m 68.23   \u001b[0m | \u001b[0m 313.5   \u001b[0m | \u001b[0m 199.7   \u001b[0m |\n",
      "| \u001b[0m 216     \u001b[0m | \u001b[0m 0.3977  \u001b[0m | \u001b[0m 1.039   \u001b[0m | \u001b[0m 140.7   \u001b[0m | \u001b[0m 84.69   \u001b[0m | \u001b[0m 54.65   \u001b[0m | \u001b[0m 139.3   \u001b[0m |\n",
      "| \u001b[0m 217     \u001b[0m | \u001b[0m 0.4693  \u001b[0m | \u001b[0m 3.618   \u001b[0m | \u001b[0m 134.6   \u001b[0m | \u001b[0m 125.2   \u001b[0m | \u001b[0m 280.4   \u001b[0m | \u001b[0m 108.1   \u001b[0m |\n",
      "| \u001b[0m 218     \u001b[0m | \u001b[0m 0.396   \u001b[0m | \u001b[0m 4.164   \u001b[0m | \u001b[0m 18.88   \u001b[0m | \u001b[0m 85.8    \u001b[0m | \u001b[0m 302.0   \u001b[0m | \u001b[0m 195.1   \u001b[0m |\n",
      "| \u001b[0m 219     \u001b[0m | \u001b[0m 0.3807  \u001b[0m | \u001b[0m 1.073   \u001b[0m | \u001b[0m 194.4   \u001b[0m | \u001b[0m 103.0   \u001b[0m | \u001b[0m 315.5   \u001b[0m | \u001b[0m 115.3   \u001b[0m |\n",
      "| \u001b[0m 220     \u001b[0m | \u001b[0m 0.4857  \u001b[0m | \u001b[0m 2.008   \u001b[0m | \u001b[0m 132.7   \u001b[0m | \u001b[0m 16.22   \u001b[0m | \u001b[0m 342.9   \u001b[0m | \u001b[0m 122.6   \u001b[0m |\n",
      "=====================================================================================\n"
     ]
    }
   ],
   "source": [
    "results = gbdt_bo.maximize(n_iter=200, init_points=20,acq='ei')"
   ]
  },
  {
   "cell_type": "code",
   "execution_count": 63,
   "metadata": {},
   "outputs": [
    {
     "name": "stdout",
     "output_type": "stream",
     "text": [
      "{'learning_rate': 0.5433990284529154, 'max_depth': 17, 'min_samples_leaf': 88, 'min_samples_split': 305, 'n_estimators': 187}\n"
     ]
    }
   ],
   "source": [
    "params = gbdt_bo.max['params']\n",
    "\n",
    "params['max_depth']=  int(params['max_depth'])\n",
    "params['min_samples_leaf']=  int(params['min_samples_leaf'])\n",
    "params['min_samples_split']=  int(params['min_samples_split'])\n",
    "params['n_estimators']= int(params['n_estimators'])\n",
    "print(params)"
   ]
  },
  {
   "cell_type": "code",
   "execution_count": 65,
   "metadata": {},
   "outputs": [
    {
     "name": "stdout",
     "output_type": "stream",
     "text": [
      "              precision    recall  f1-score   support\n",
      "\n",
      "          ID       0.57      0.61      0.59       165\n",
      "        NDOD       1.00      1.00      1.00       177\n",
      "         NOD       0.71      0.64      0.67       194\n",
      "          OD       0.49      0.51      0.50       167\n",
      "     OD-Brit       0.99      1.00      1.00       176\n",
      "      OD-Vic       0.91      0.88      0.89       182\n",
      "          UD       0.96      0.98      0.97       172\n",
      "\n",
      "    accuracy                           0.80      1233\n",
      "   macro avg       0.80      0.80      0.80      1233\n",
      "weighted avg       0.81      0.80      0.81      1233\n",
      "\n",
      "Precision:0.8076219524858645\n",
      "Recall:0.8045417680454177\n",
      "F1 Score:0.8056082202279264\n"
     ]
    }
   ],
   "source": [
    "gbdt_v1 = GradientBoostingClassifier(learning_rate=params['learning_rate'],max_depth=params['max_depth'],min_samples_leaf=params['min_samples_leaf'],min_samples_split=params['min_samples_split'],n_estimators=params['n_estimators'])\n",
    "\n",
    "gbdt_v1.fit(X_train,y_train)\n",
    "preds = gbdt_v1.predict(X_test)\n",
    "print(classification_report(preds,y_test))\n",
    "print(\"Precision:{}\".format(precision_score(preds,y_test,average='weighted')))\n",
    "print(\"Recall:{}\".format(recall_score(preds,y_test,average='weighted')))\n",
    "print(\"F1 Score:{}\".format((f1_score(preds,y_test,average='weighted'))))\n",
    "\n",
    "fileName = \"sampling_smote_tl_BO_gbdt.csv\"\n",
    "df = pd.DataFrame(classification_report(preds,y_test,output_dict=True)).transpose()\n",
    "df.to_csv(fileName)"
   ]
  },
  {
   "cell_type": "code",
   "execution_count": 117,
   "metadata": {},
   "outputs": [
    {
     "name": "stdout",
     "output_type": "stream",
     "text": [
      "              precision    recall  f1-score   support\n",
      "\n",
      "          ID       0.94      0.90      0.92       182\n",
      "        NDOD       0.00      0.00      0.00         0\n",
      "         NOD       0.50      0.47      0.48        30\n",
      "          OD       0.93      0.93      0.93        89\n",
      "     OD-Brit       0.33      1.00      0.50         1\n",
      "      OD-Vic       0.92      0.97      0.94        35\n",
      "          UD       0.84      0.91      0.87        23\n",
      "\n",
      "    accuracy                           0.88       360\n",
      "   macro avg       0.64      0.74      0.67       360\n",
      "weighted avg       0.89      0.88      0.89       360\n",
      "\n"
     ]
    },
    {
     "name": "stderr",
     "output_type": "stream",
     "text": [
      "/usr/local/lib/python3.9/site-packages/sklearn/metrics/_classification.py:1327: UndefinedMetricWarning: Recall and F-score are ill-defined and being set to 0.0 in labels with no true samples. Use `zero_division` parameter to control this behavior.\n",
      "  _warn_prf(average, modifier, msg_start, len(result))\n",
      "/usr/local/lib/python3.9/site-packages/sklearn/metrics/_classification.py:1327: UndefinedMetricWarning: Recall and F-score are ill-defined and being set to 0.0 in labels with no true samples. Use `zero_division` parameter to control this behavior.\n",
      "  _warn_prf(average, modifier, msg_start, len(result))\n",
      "/usr/local/lib/python3.9/site-packages/sklearn/metrics/_classification.py:1327: UndefinedMetricWarning: Recall and F-score are ill-defined and being set to 0.0 in labels with no true samples. Use `zero_division` parameter to control this behavior.\n",
      "  _warn_prf(average, modifier, msg_start, len(result))\n",
      "/usr/local/lib/python3.9/site-packages/sklearn/metrics/_classification.py:1327: UndefinedMetricWarning: Precision and F-score are ill-defined and being set to 0.0 in labels with no predicted samples. Use `zero_division` parameter to control this behavior.\n",
      "  _warn_prf(average, modifier, msg_start, len(result))\n",
      "/usr/local/lib/python3.9/site-packages/sklearn/metrics/_classification.py:1327: UndefinedMetricWarning: Precision and F-score are ill-defined and being set to 0.0 in labels with no predicted samples. Use `zero_division` parameter to control this behavior.\n",
      "  _warn_prf(average, modifier, msg_start, len(result))\n",
      "/usr/local/lib/python3.9/site-packages/sklearn/metrics/_classification.py:1327: UndefinedMetricWarning: Precision and F-score are ill-defined and being set to 0.0 in labels with no predicted samples. Use `zero_division` parameter to control this behavior.\n",
      "  _warn_prf(average, modifier, msg_start, len(result))\n"
     ]
    }
   ],
   "source": [
    "knn = KNeighborsClassifier(n_neighbors=10, metric='euclidean')\n",
    "\n",
    "knn.fit(X_train,y_train)\n",
    "preds = knn.predict(X_test)\n",
    "\n",
    "print(classification_report(preds,y_test))\n",
    "\n",
    "fileName = \"sampling_smote_tl_knn.csv\"\n",
    "df = pd.DataFrame(classification_report(y_test, preds, output_dict=True)).transpose()\n",
    "df.to_csv(fileName)"
   ]
  },
  {
   "cell_type": "code",
   "execution_count": 115,
   "metadata": {},
   "outputs": [
    {
     "name": "stdout",
     "output_type": "stream",
     "text": [
      "[0, 0, 0]\n",
      "[0, 0, 0]\n"
     ]
    }
   ],
   "source": [
    "FP = [0,0,0]\n",
    "map(sum, zip(FP,[1,2,3]))\n",
    "print(FP)\n",
    "map(sum, zip(FP,[1,2,3]))\n",
    "print(FP)\n",
    "\n"
   ]
  },
  {
   "cell_type": "code",
   "execution_count": 80,
   "metadata": {},
   "outputs": [
    {
     "name": "stdout",
     "output_type": "stream",
     "text": [
      "              precision    recall  f1-score   support\n",
      "\n",
      "          ID       0.58      0.59      0.59       175\n",
      "        NDOD       1.00      0.99      0.99       179\n",
      "         NOD       0.75      0.53      0.62       248\n",
      "          OD       0.30      0.55      0.39        96\n",
      "     OD-Brit       1.00      0.88      0.94       201\n",
      "      OD-Vic       0.80      0.87      0.83       163\n",
      "          UD       0.94      0.96      0.95       171\n",
      "\n",
      "    accuracy                           0.77      1233\n",
      "   macro avg       0.77      0.77      0.76      1233\n",
      "weighted avg       0.80      0.77      0.78      1233\n",
      "\n"
     ]
    }
   ],
   "source": [
    "svmClf = svm.SVC(kernel='sigmoid', random_state=0)\n",
    "\n",
    "svmClf.fit(X_train,y_train)\n",
    "preds = svmClf.predict(X_test)\n",
    "\n",
    "print(classification_report(preds,y_test))\n",
    "\n",
    "fileName = \"sampling_smote_tl_svm.csv\"\n",
    "df = pd.DataFrame(classification_report(preds,y_test,output_dict=True)).transpose()\n",
    "df.to_csv(fileName)"
   ]
  }
 ],
 "metadata": {
  "interpreter": {
   "hash": "aee8b7b246df8f9039afb4144a1f6fd8d2ca17a180786b69acc140d282b71a49"
  },
  "kernelspec": {
   "display_name": "Python 3.9.0 64-bit",
   "language": "python",
   "name": "python3"
  },
  "language_info": {
   "codemirror_mode": {
    "name": "ipython",
    "version": 3
   },
   "file_extension": ".py",
   "mimetype": "text/x-python",
   "name": "python",
   "nbconvert_exporter": "python",
   "pygments_lexer": "ipython3",
   "version": "3.9.0"
  },
  "orig_nbformat": 4
 },
 "nbformat": 4,
 "nbformat_minor": 2
}
